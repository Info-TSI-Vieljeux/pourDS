{
  "nbformat": 4,
  "nbformat_minor": 0,
  "metadata": {
    "colab": {
      "provenance": [],
      "collapsed_sections": [],
      "authorship_tag": "ABX9TyNk2VKCZ5ffL+x+HmJ/J0t0",
      "include_colab_link": true
    },
    "kernelspec": {
      "name": "python3",
      "display_name": "Python 3"
    },
    "language_info": {
      "name": "python"
    }
  },
  "cells": [
    {
      "cell_type": "markdown",
      "metadata": {
        "id": "view-in-github",
        "colab_type": "text"
      },
      "source": [
        "<a href=\"https://colab.research.google.com/github/Info-TSI-Vieljeux/pourDS/blob/main/correcDSweb.ipynb\" target=\"_parent\"><img src=\"https://colab.research.google.com/assets/colab-badge.svg\" alt=\"Open In Colab\"/></a>"
      ]
    },
    {
      "cell_type": "markdown",
      "source": [
        "# Correction du deuxième DS (TSI2, 2022)"
      ],
      "metadata": {
        "id": "Gp4111e1osqX"
      }
    },
    {
      "cell_type": "code",
      "source": [
        "!git clone https://github.com/Info-TSI-Vieljeux/pourDS"
      ],
      "metadata": {
        "colab": {
          "base_uri": "https://localhost:8080/"
        },
        "id": "AsGY1DP6uWfP",
        "outputId": "fb51acbb-754b-4646-b108-8ae54372ca7d"
      },
      "execution_count": 1,
      "outputs": [
        {
          "output_type": "stream",
          "name": "stdout",
          "text": [
            "Cloning into 'pourDS'...\n",
            "remote: Enumerating objects: 13, done.\u001b[K\n",
            "remote: Counting objects: 100% (13/13), done.\u001b[K\n",
            "remote: Compressing objects: 100% (12/12), done.\u001b[K\n",
            "remote: Total 13 (delta 0), reused 0 (delta 0), pack-reused 0\u001b[K\n",
            "Unpacking objects: 100% (13/13), done.\n"
          ]
        }
      ]
    },
    {
      "cell_type": "markdown",
      "source": [
        "Sujet adapté de l’article « [L’algorithme PageRank de Google : une promenade sur la toile](https://images.math.cnrs.fr/Comment-Google-classe-les-pages-web.html) » de Michael Eisermann."
      ],
      "metadata": {
        "id": "8auR9KPDYnT8"
      }
    },
    {
      "cell_type": "markdown",
      "source": [
        "# L’algorithme PageRank de Google\n"
      ],
      "metadata": {
        "id": "A0YOadfexVQy"
      }
    },
    {
      "cell_type": "markdown",
      "source": [
        "Cela fait plus de 20 ans que Google domine le marché des moteurs de recherche. Cette longévité semble indiquer une réelle pertinence des résultats fournis.\n",
        "Depuis sa conception en 1998, l’algorithme de recherche de Google continue d’évoluer et la plupart des améliorations demeurent des secrets industriels. L’idée principale, par contre, est connue puisqu’elle est l’objet d’une célèbre publication de Sergueï Brin et Larry Page (les cofondateurs) : The anatomy of a large-scale hypertextual web search engine. Stanford University, 1998. Le fonctionnement de PageRank, l’algorithme au centre du moteur de recherche, y est détaillé."
      ],
      "metadata": {
        "id": "nwuy93DuxSo4"
      }
    },
    {
      "cell_type": "markdown",
      "source": [
        "##I. Une base de données du Web"
      ],
      "metadata": {
        "id": "feTtTeFilM1D"
      }
    },
    {
      "cell_type": "markdown",
      "source": [
        "Imaginons qu’il existe un registre complet de l’internet structuré sous la forme d’une base de données relationnelle. \n",
        "On supposera dans la suite que chaque nouvelle page web créée entraîne un enregistrement sur une base de données constituée des 3 tables décrites ci-dessous :"
      ],
      "metadata": {
        "id": "BkeFMjulxdMn"
      }
    },
    {
      "cell_type": "markdown",
      "source": [
        "<img src=\"https://github.com/Info-TSI-Vieljeux/pourDS/blob/main/tableDS1.png?raw=true\"/>"
      ],
      "metadata": {
        "id": "UxNPiSgJvjvP"
      }
    },
    {
      "cell_type": "markdown",
      "source": [
        "Le contenu des trois tables pour un internet lilliputien imaginaire :"
      ],
      "metadata": {
        "id": "xp_b2ZdqxgzF"
      }
    },
    {
      "cell_type": "markdown",
      "source": [
        "<img src=\"https://github.com/Info-TSI-Vieljeux/pourDS/blob/main/tableDS2.png?raw=true\"/>"
      ],
      "metadata": {
        "id": "NLzw3iLRx73O"
      }
    },
    {
      "cell_type": "markdown",
      "source": [
        "1. Que désignent les deux colonnes dans les\n",
        "trois premiers tableaux (présentant les tables) ?"
      ],
      "metadata": {
        "id": "gs8L2-i7lXad"
      }
    },
    {
      "cell_type": "markdown",
      "source": [
        "> - colonne 1 : les attributs\n",
        "> - colonne 2 : les domaines"
      ],
      "metadata": {
        "id": "yWbv0hOfn3fR"
      }
    },
    {
      "cell_type": "markdown",
      "source": [
        "2. Quel(s) attribut(s) et/ou association(s) d’attributs de la table 1 peut/peuvent-il(s) servir de clé primaire ?"
      ],
      "metadata": {
        "id": "WnbqDmHWliEM"
      }
    },
    {
      "cell_type": "markdown",
      "source": [
        "> \"`page`\", \"`site`\"+\"`page`\", \"`page`\"+\"`creation`\",  \"`site`\"+\"`page`\"+\"`creation`\""
      ],
      "metadata": {
        "id": "ILeI_s-yn0uB"
      }
    },
    {
      "cell_type": "markdown",
      "source": [
        "3. Écrivez une requête SQL qui permet d’obtenir les **pages** créées avant 2010 en se limitant à 3 résultats."
      ],
      "metadata": {
        "id": "J1oWUrkpnp5T"
      }
    },
    {
      "cell_type": "code",
      "source": [
        "%load_ext sql\n",
        "%sql sqlite:///pourDS/DS.db"
      ],
      "metadata": {
        "colab": {
          "base_uri": "https://localhost:8080/",
          "height": 37
        },
        "id": "voDoN_7HnKGy",
        "outputId": "c5547fc3-917a-44d8-faa8-c1d70a09c444"
      },
      "execution_count": 3,
      "outputs": [
        {
          "output_type": "execute_result",
          "data": {
            "text/plain": [
              "'Connected: @pourDS/DS.db'"
            ],
            "application/vnd.google.colaboratory.intrinsic+json": {
              "type": "string"
            }
          },
          "metadata": {},
          "execution_count": 3
        }
      ]
    },
    {
      "cell_type": "code",
      "source": [
        "%%sql qu3 <<\n",
        "\n",
        "SELECT page\n",
        "FROM table1\n",
        "WHERE creation < 2010\n",
        "LIMIT 3;"
      ],
      "metadata": {
        "colab": {
          "base_uri": "https://localhost:8080/"
        },
        "id": "vLrDqeNZnMcL",
        "outputId": "e23cae85-5db0-4ca4-c9cb-2e9e5c31da86"
      },
      "execution_count": 6,
      "outputs": [
        {
          "output_type": "stream",
          "name": "stdout",
          "text": [
            " * sqlite:///pourDS/DS.db\n",
            "Done.\n",
            "Returning data to local variable qu3\n"
          ]
        }
      ]
    },
    {
      "cell_type": "code",
      "source": [
        "qu3"
      ],
      "metadata": {
        "colab": {
          "base_uri": "https://localhost:8080/",
          "height": 103
        },
        "id": "2cI7iezXng9m",
        "outputId": "fa3fe8da-5ebd-4311-ba44-18932ebff50e"
      },
      "execution_count": 7,
      "outputs": [
        {
          "output_type": "execute_result",
          "data": {
            "text/plain": [
              "[('b.com/index.html',), ('b.com/1/index.html',), ('b.com/2/index.html',)]"
            ],
            "text/html": [
              "<table>\n",
              "    <thead>\n",
              "        <tr>\n",
              "            <th>page</th>\n",
              "        </tr>\n",
              "    </thead>\n",
              "    <tbody>\n",
              "        <tr>\n",
              "            <td>b.com/index.html</td>\n",
              "        </tr>\n",
              "        <tr>\n",
              "            <td>b.com/1/index.html</td>\n",
              "        </tr>\n",
              "        <tr>\n",
              "            <td>b.com/2/index.html</td>\n",
              "        </tr>\n",
              "    </tbody>\n",
              "</table>"
            ]
          },
          "metadata": {},
          "execution_count": 7
        }
      ]
    },
    {
      "cell_type": "markdown",
      "source": [
        "4. Écrivez une requête SQL permettant de compter, pour chaque **site**, le nombre de pages qu’il contient (les en-têtes de la table affichée devront être « `site` » et « `nb pages` »).\n"
      ],
      "metadata": {
        "id": "f8I_SjfGnk8k"
      }
    },
    {
      "cell_type": "code",
      "source": [
        "%%sql qu4 <<\n",
        "\n",
        "SELECT site, COUNT(page) AS \"nb pages\"\n",
        "FROM table1\n",
        "GROUP BY site;"
      ],
      "metadata": {
        "colab": {
          "base_uri": "https://localhost:8080/"
        },
        "id": "cO4Gq32eoVxm",
        "outputId": "36338d21-448b-43ee-c05b-54e82d7e0bd4"
      },
      "execution_count": 8,
      "outputs": [
        {
          "output_type": "stream",
          "name": "stdout",
          "text": [
            " * sqlite:///pourDS/DS.db\n",
            "Done.\n",
            "Returning data to local variable qu4\n"
          ]
        }
      ]
    },
    {
      "cell_type": "code",
      "source": [
        "qu4"
      ],
      "metadata": {
        "colab": {
          "base_uri": "https://localhost:8080/",
          "height": 124
        },
        "id": "BXoaIDHUocd8",
        "outputId": "31fc0ca4-c838-48d9-aeb4-c2db3eb7f34e"
      },
      "execution_count": 9,
      "outputs": [
        {
          "output_type": "execute_result",
          "data": {
            "text/plain": [
              "[('a.io', 3), ('b.com', 3), ('c.fr', 2), ('d.edu', 1)]"
            ],
            "text/html": [
              "<table>\n",
              "    <thead>\n",
              "        <tr>\n",
              "            <th>site</th>\n",
              "            <th>nb pages</th>\n",
              "        </tr>\n",
              "    </thead>\n",
              "    <tbody>\n",
              "        <tr>\n",
              "            <td>a.io</td>\n",
              "            <td>3</td>\n",
              "        </tr>\n",
              "        <tr>\n",
              "            <td>b.com</td>\n",
              "            <td>3</td>\n",
              "        </tr>\n",
              "        <tr>\n",
              "            <td>c.fr</td>\n",
              "            <td>2</td>\n",
              "        </tr>\n",
              "        <tr>\n",
              "            <td>d.edu</td>\n",
              "            <td>1</td>\n",
              "        </tr>\n",
              "    </tbody>\n",
              "</table>"
            ]
          },
          "metadata": {},
          "execution_count": 9
        }
      ]
    },
    {
      "cell_type": "markdown",
      "source": [
        "5. Écrivez une requête SQL n’affichant que les pages ayant au moins 2 liens sortants ainsi que leur nombre de liens sortants."
      ],
      "metadata": {
        "id": "Nn1t3Et0ohlq"
      }
    },
    {
      "cell_type": "code",
      "source": [
        "%%sql qu5 <<\n",
        "\n",
        "SELECT page, COUNT(liensortant) AS nb\n",
        "FROM table2\n",
        "GROUP BY page\n",
        "HAVING nb >= 2;"
      ],
      "metadata": {
        "colab": {
          "base_uri": "https://localhost:8080/"
        },
        "id": "sspYhUVSoi2w",
        "outputId": "429f8e53-7a05-4ef4-fab7-a165bbe451cb"
      },
      "execution_count": 10,
      "outputs": [
        {
          "output_type": "stream",
          "name": "stdout",
          "text": [
            " * sqlite:///pourDS/DS.db\n",
            "Done.\n",
            "Returning data to local variable qu5\n"
          ]
        }
      ]
    },
    {
      "cell_type": "code",
      "source": [
        "qu5"
      ],
      "metadata": {
        "colab": {
          "base_uri": "https://localhost:8080/",
          "height": 145
        },
        "id": "zMjTeRDUonPw",
        "outputId": "d54b2e69-e4d7-4559-c2d0-e50fe0657a22"
      },
      "execution_count": 11,
      "outputs": [
        {
          "output_type": "execute_result",
          "data": {
            "text/plain": [
              "[('a.io/1/index.html', 2),\n",
              " ('a.io/index.html', 2),\n",
              " ('b.com/1/index.html', 3),\n",
              " ('b.com/index.html', 3),\n",
              " ('c.fr/index.html', 2)]"
            ],
            "text/html": [
              "<table>\n",
              "    <thead>\n",
              "        <tr>\n",
              "            <th>page</th>\n",
              "            <th>nb</th>\n",
              "        </tr>\n",
              "    </thead>\n",
              "    <tbody>\n",
              "        <tr>\n",
              "            <td>a.io/1/index.html</td>\n",
              "            <td>2</td>\n",
              "        </tr>\n",
              "        <tr>\n",
              "            <td>a.io/index.html</td>\n",
              "            <td>2</td>\n",
              "        </tr>\n",
              "        <tr>\n",
              "            <td>b.com/1/index.html</td>\n",
              "            <td>3</td>\n",
              "        </tr>\n",
              "        <tr>\n",
              "            <td>b.com/index.html</td>\n",
              "            <td>3</td>\n",
              "        </tr>\n",
              "        <tr>\n",
              "            <td>c.fr/index.html</td>\n",
              "            <td>2</td>\n",
              "        </tr>\n",
              "    </tbody>\n",
              "</table>"
            ]
          },
          "metadata": {},
          "execution_count": 11
        }
      ]
    },
    {
      "cell_type": "markdown",
      "source": [
        "6. Écrivez une requête SQL qui permet d’obtenir les **sites** et les pages contenant un lien vers `d.edu/index.htm`."
      ],
      "metadata": {
        "id": "vg3tgUKTo436"
      }
    },
    {
      "cell_type": "code",
      "source": [
        "%%sql qu6 <<\n",
        "\n",
        "SELECT table1.site, table1.page\n",
        "FROM table1 JOIN table2 ON table1.page = table2.page\n",
        "WHERE table2.liensortant = \"d.edu/index.html\";"
      ],
      "metadata": {
        "colab": {
          "base_uri": "https://localhost:8080/"
        },
        "id": "7zGLm3auwjKH",
        "outputId": "813bbce3-f629-417e-a1e4-b3bdbb615b1c"
      },
      "execution_count": 4,
      "outputs": [
        {
          "output_type": "stream",
          "name": "stdout",
          "text": [
            " * sqlite:///pourDS/DS.db\n",
            "Done.\n",
            "Returning data to local variable qu6\n"
          ]
        }
      ]
    },
    {
      "cell_type": "code",
      "source": [
        "qu6"
      ],
      "metadata": {
        "colab": {
          "base_uri": "https://localhost:8080/",
          "height": 103
        },
        "id": "cR7Gye_vwsPO",
        "outputId": "e25cb618-edad-4743-fd01-d392f5c1bb3f"
      },
      "execution_count": 5,
      "outputs": [
        {
          "output_type": "execute_result",
          "data": {
            "text/plain": [
              "[('a.io', 'a.io/1/index.html'),\n",
              " ('b.com', 'b.com/2/index.html'),\n",
              " ('b.com', 'b.com/index.html')]"
            ],
            "text/html": [
              "<table>\n",
              "    <thead>\n",
              "        <tr>\n",
              "            <th>site</th>\n",
              "            <th>page</th>\n",
              "        </tr>\n",
              "    </thead>\n",
              "    <tbody>\n",
              "        <tr>\n",
              "            <td>a.io</td>\n",
              "            <td>a.io/1/index.html</td>\n",
              "        </tr>\n",
              "        <tr>\n",
              "            <td>b.com</td>\n",
              "            <td>b.com/2/index.html</td>\n",
              "        </tr>\n",
              "        <tr>\n",
              "            <td>b.com</td>\n",
              "            <td>b.com/index.html</td>\n",
              "        </tr>\n",
              "    </tbody>\n",
              "</table>"
            ]
          },
          "metadata": {},
          "execution_count": 5
        }
      ]
    },
    {
      "cell_type": "markdown",
      "source": [
        "7. Écrivez une requête SQL calculant, pour chaque **page**, sa « popularité », où la popularité est définie comme le nombre de liens pointant vers la page (on supposera pour simplifier que chaque page a au moins un lien pointant vers elle)."
      ],
      "metadata": {
        "id": "ZMjxz6nkww7k"
      }
    },
    {
      "cell_type": "code",
      "source": [
        "%%sql qu7 <<\n",
        "\n",
        "SELECT table1.page, COUNT(liensortant) AS popularity\n",
        "FROM table1 JOIN table2 ON table1.page = table2.liensortant\n",
        "GROUP BY table1.page;"
      ],
      "metadata": {
        "colab": {
          "base_uri": "https://localhost:8080/"
        },
        "id": "5XdSPUq8wujT",
        "outputId": "11b2f53f-26fc-44a9-93f8-c6772ceb31db"
      },
      "execution_count": 6,
      "outputs": [
        {
          "output_type": "stream",
          "name": "stdout",
          "text": [
            " * sqlite:///pourDS/DS.db\n",
            "Done.\n",
            "Returning data to local variable qu7\n"
          ]
        }
      ]
    },
    {
      "cell_type": "code",
      "source": [
        "qu7"
      ],
      "metadata": {
        "colab": {
          "base_uri": "https://localhost:8080/",
          "height": 229
        },
        "id": "_EUlX6glw6yt",
        "outputId": "10dce9cb-c345-4ffb-9175-db04fab22bf0"
      },
      "execution_count": 7,
      "outputs": [
        {
          "output_type": "execute_result",
          "data": {
            "text/plain": [
              "[('a.io/1/index.html', 2),\n",
              " ('a.io/2/index.html', 1),\n",
              " ('a.io/index.html', 1),\n",
              " ('b.com/1/index.html', 1),\n",
              " ('b.com/2/index.html', 3),\n",
              " ('b.com/index.html', 1),\n",
              " ('c.fr/1/index.html', 1),\n",
              " ('c.fr/index.html', 1),\n",
              " ('d.edu/index.html', 3)]"
            ],
            "text/html": [
              "<table>\n",
              "    <thead>\n",
              "        <tr>\n",
              "            <th>page</th>\n",
              "            <th>popularity</th>\n",
              "        </tr>\n",
              "    </thead>\n",
              "    <tbody>\n",
              "        <tr>\n",
              "            <td>a.io/1/index.html</td>\n",
              "            <td>2</td>\n",
              "        </tr>\n",
              "        <tr>\n",
              "            <td>a.io/2/index.html</td>\n",
              "            <td>1</td>\n",
              "        </tr>\n",
              "        <tr>\n",
              "            <td>a.io/index.html</td>\n",
              "            <td>1</td>\n",
              "        </tr>\n",
              "        <tr>\n",
              "            <td>b.com/1/index.html</td>\n",
              "            <td>1</td>\n",
              "        </tr>\n",
              "        <tr>\n",
              "            <td>b.com/2/index.html</td>\n",
              "            <td>3</td>\n",
              "        </tr>\n",
              "        <tr>\n",
              "            <td>b.com/index.html</td>\n",
              "            <td>1</td>\n",
              "        </tr>\n",
              "        <tr>\n",
              "            <td>c.fr/1/index.html</td>\n",
              "            <td>1</td>\n",
              "        </tr>\n",
              "        <tr>\n",
              "            <td>c.fr/index.html</td>\n",
              "            <td>1</td>\n",
              "        </tr>\n",
              "        <tr>\n",
              "            <td>d.edu/index.html</td>\n",
              "            <td>3</td>\n",
              "        </tr>\n",
              "    </tbody>\n",
              "</table>"
            ]
          },
          "metadata": {},
          "execution_count": 7
        }
      ]
    },
    {
      "cell_type": "markdown",
      "source": [
        "8. Écrivez une requête SQL qui classe, pour le mot de clé « base », les pages où il est présent, dans l’ordre décroissant de leur popularité telle que définie à la question précédente."
      ],
      "metadata": {
        "id": "FNBOtBHGw-cC"
      }
    },
    {
      "cell_type": "code",
      "source": [
        "%%sql qu8 <<\n",
        "\n",
        "SELECT grossetable.page, popularity\n",
        "FROM ((SELECT table1.page, COUNT(liensortant) AS popularity\n",
        "\t    FROM table1 JOIN table2 ON table1.page = table2.liensortant\n",
        "              GROUP BY table1.page) AS popu\n",
        "              JOIN table3 ON popu.page = table3.page) AS grossetable\n",
        "WHERE grossetable.keyword = \"base\"\n",
        "ORDER BY popularity DESC;"
      ],
      "metadata": {
        "colab": {
          "base_uri": "https://localhost:8080/"
        },
        "id": "ZSd4VgcdxEOA",
        "outputId": "9ea03925-4e8a-4ddd-beb0-66c9912ce791"
      },
      "execution_count": 9,
      "outputs": [
        {
          "output_type": "stream",
          "name": "stdout",
          "text": [
            " * sqlite:///pourDS/DS.db\n",
            "Done.\n",
            "Returning data to local variable qu8\n"
          ]
        }
      ]
    },
    {
      "cell_type": "code",
      "source": [
        "qu8"
      ],
      "metadata": {
        "colab": {
          "base_uri": "https://localhost:8080/",
          "height": 145
        },
        "id": "-70Gm2bJxJPa",
        "outputId": "5eb9667e-6785-4fdc-f46b-77a7e8b7871b"
      },
      "execution_count": 10,
      "outputs": [
        {
          "output_type": "execute_result",
          "data": {
            "text/plain": [
              "[('d.edu/index.html', 3),\n",
              " ('a.io/1/index.html', 2),\n",
              " ('a.io/index.html', 1),\n",
              " ('c.fr/1/index.html', 1),\n",
              " ('a.io/2/index.html', 1)]"
            ],
            "text/html": [
              "<table>\n",
              "    <thead>\n",
              "        <tr>\n",
              "            <th>page</th>\n",
              "            <th>popularity</th>\n",
              "        </tr>\n",
              "    </thead>\n",
              "    <tbody>\n",
              "        <tr>\n",
              "            <td>d.edu/index.html</td>\n",
              "            <td>3</td>\n",
              "        </tr>\n",
              "        <tr>\n",
              "            <td>a.io/1/index.html</td>\n",
              "            <td>2</td>\n",
              "        </tr>\n",
              "        <tr>\n",
              "            <td>a.io/index.html</td>\n",
              "            <td>1</td>\n",
              "        </tr>\n",
              "        <tr>\n",
              "            <td>c.fr/1/index.html</td>\n",
              "            <td>1</td>\n",
              "        </tr>\n",
              "        <tr>\n",
              "            <td>a.io/2/index.html</td>\n",
              "            <td>1</td>\n",
              "        </tr>\n",
              "    </tbody>\n",
              "</table>"
            ]
          },
          "metadata": {},
          "execution_count": 10
        }
      ]
    },
    {
      "cell_type": "markdown",
      "source": [
        "Comme un tel registre centralisé n’existe pas, c’est à la charge du moteur de recherche d’explorer le web pour produire un annuaire du même type que notre base de données imaginaire."
      ],
      "metadata": {
        "id": "60pZSrylxNeC"
      }
    },
    {
      "cell_type": "markdown",
      "source": [
        "9. Wikipedia en langue anglaise compte environ 6,5 millions d’article en octobre 2022. Estimez les tailles des trois tables si la base de données précédente était construite uniquement à partir de ces articles. Vous veillerez à expliciter vos hypothèses."
      ],
      "metadata": {
        "id": "nfMIG4AuyHud"
      }
    },
    {
      "cell_type": "markdown",
      "source": [
        ">- taille table1 :\t6,5 millions /   autant d'enregistrements que de pages\n",
        ">- taille table 2 : 65 millions / en supposant une dizaine de liens en moyenne par page\n",
        ">- taille table 3 : 650 millions / en supposant une centaine de mots-clés en moyenne par page"
      ],
      "metadata": {
        "id": "iF9uN8cvyLyz"
      }
    },
    {
      "cell_type": "markdown",
      "source": [
        "Pour un mot clé donné, il y a typiquement des millions de pages correspondantes que le moteur de recherche va devoir classer."
      ],
      "metadata": {
        "id": "8SKuyqQ-zmkE"
      }
    },
    {
      "cell_type": "markdown",
      "source": [
        "<img src=\"https://github.com/Info-TSI-Vieljeux/pourDS/blob/main/bretzel.png?raw=true\" width=800/>"
      ],
      "metadata": {
        "id": "tKveQEuez7Ja"
      }
    },
    {
      "cell_type": "markdown",
      "source": [
        "---\n"
      ],
      "metadata": {
        "id": "R9lyI8hg17RP"
      }
    },
    {
      "cell_type": "markdown",
      "source": [
        "##II. Graphe du Web"
      ],
      "metadata": {
        "id": "B9Jep_EG12e5"
      }
    },
    {
      "cell_type": "markdown",
      "source": [
        "Profitons du peu de structure disponible : le web n’est pas une collection de textes indépendants mais un immense hypertexte où les pages se citent mutuellement.<br>\n",
        "En négligeant le contenu des pages pour se concentrer sur les liens entre elles, on obtient la structure d’un graphe."
      ],
      "metadata": {
        "id": "JdD4P13t2Kf-"
      }
    },
    {
      "cell_type": "markdown",
      "source": [
        "Exemple :"
      ],
      "metadata": {
        "id": "nu3h3bza2Nvg"
      }
    },
    {
      "cell_type": "markdown",
      "source": [
        "<img src=\"https://github.com/Info-TSI-Vieljeux/pourDS/blob/main/pourDSmonde.png?raw=true\" width=700/>"
      ],
      "metadata": {
        "id": "qOLiFYGv2AKl"
      }
    },
    {
      "cell_type": "markdown",
      "source": [
        "Attention, on s’autorise ici des doubles flèches $\\leftrightarrow$ entre deux sommets $i$ et $j$ pour représenter à la fois un un arc $i\\rightarrow j$ et un arc $j \\rightarrow i$."
      ],
      "metadata": {
        "id": "I4HFQObX2RSy"
      }
    },
    {
      "cell_type": "markdown",
      "source": [
        "Dans la suite, on note $P_1,P_2,\\ldots,P_n$ les pages web et $j\\rightarrow i$ si la page $P_j$ cite la page $P_i$."
      ],
      "metadata": {
        "id": "l5WIeYT42gPj"
      }
    },
    {
      "cell_type": "markdown",
      "source": [
        "10. Le graphe obtenu est :\n",
        "- orienté\n",
        "- cyclique\n",
        "- non pondéré\n"
      ],
      "metadata": {
        "id": "N0kckfKh2yUi"
      }
    },
    {
      "cell_type": "markdown",
      "source": [
        "Comment exploiter ce graphe ?<br>\n",
        "L’idée de départ est de considérer qu’un lien $j\\rightarrow i$ correspond à une recommandation de la part de la page $P_j$ d’aller lire la page $P_i$. Dans cette hypothèse, le lien est une sorte de vote de confiance de la page $P_j$ en faveur de l’autorité de la page $P_i$."
      ],
      "metadata": {
        "id": "dAmV07sr3Alh"
      }
    },
    {
      "cell_type": "markdown",
      "source": [
        "Présentons le graphe précédent de manière à faire apparaître une hiérarchie possible."
      ],
      "metadata": {
        "id": "RRPyR6UV3Ry_"
      }
    },
    {
      "cell_type": "markdown",
      "source": [
        "11. Complétez les cases laissées vierges.\n"
      ],
      "metadata": {
        "id": "oU0Yetjb3U3l"
      }
    },
    {
      "cell_type": "markdown",
      "source": [
        "<img src=\"https://github.com/Info-TSI-Vieljeux/pourDS/blob/main/graphier.png?raw=true\" width=800/>"
      ],
      "metadata": {
        "id": "gVdVIoNe37-S"
      }
    },
    {
      "cell_type": "markdown",
      "source": [
        "Parmi les pages $P_1,P_2,P_3,P_4$, la page $P_1$ sert de référence commune et semble un bon point de départ pour chercher des informations. Même chose avec les groupes $P_9,P_{10},P_{11},P_{12}$, où $P_9$ sert de référence commune, et $P_5,P_6,P_7,P_8$, où $P_7$ est la plus citée.<br>\n",
        "Et comme $P_1$ et $P_9$, déjà reconnues comme importantes, font référence à la page $P_5$, on pourrait soupçonner que la page $P_5$ contient de l’information essentielle pour l’ensemble, qu’elle est la plus pertinente.<br>\n",
        "Selon ce raisonnement, un modèle de classification des pages se doit de faire apparaître cette hiérarchie. Nous allons en faire par la suite notre critère de réussite…\n"
      ],
      "metadata": {
        "id": "K2qfMBkJ3cEf"
      }
    },
    {
      "cell_type": "markdown",
      "source": [
        "### A. Premier modèle : comptage naïf"
      ],
      "metadata": {
        "id": "HejblUWT5UXX"
      }
    },
    {
      "cell_type": "markdown",
      "source": [
        "Il est plausible qu’une page importante reçoive beaucoup de liens. Avec un peu de naïveté, on croira aussi la réciproque : si une page reçoit beaucoup de liens, alors elle est importante. <br>\n",
        "On pourrait ainsi définir l’**importance** $\\mu_i$ de la page $P_i$ comme le nombre de liens $j\\rightarrow i$ :\n",
        "\n",
        "$$\\mu_i  = \\sum_{j\\rightarrow i}1$$\n",
        "\n",
        "Autrement dit, $\\mu_i$ est le nombre de « votes » pour la page $P_i$, où chaque vote contribue pour la même valeur 1.\n"
      ],
      "metadata": {
        "id": "q4PeKHKy5X56"
      }
    },
    {
      "cell_type": "markdown",
      "source": [
        "12. Écrivez en python une fonction `imp` renvoyant l’ « importance » $\\mu_i$ d’une page.On lui passe en paramètre le graphe du web tel que présenté ci-dessus sous la forme d’une liste d’adjacence implémentée par un dictionnaire.<br>Dans notre exemple : `web = {1:[2,3,4,5],2:[1,3], 3:[1,4],4:[1,2],5:[6,7,8],6:[1,7],7:[5],8:[7,9],9:[5,10,11,12],10:[9,11],11:[9,12],12:[9,10]}`\n"
      ],
      "metadata": {
        "id": "U1boqaKs51oQ"
      }
    },
    {
      "cell_type": "code",
      "execution_count": 16,
      "metadata": {
        "id": "6UWTmVH8_x9n"
      },
      "outputs": [],
      "source": [
        "web = {1:[2,3,4,5],\n",
        "       2:[1,3],\n",
        "       3:[1,4],\n",
        "       4:[1,2],\n",
        "       5:[6,7,8],\n",
        "       6:[1,7],\n",
        "       7:[5],\n",
        "       8:[7,9],\n",
        "       9:[5,10,11,12],\n",
        "       10:[9,11],\n",
        "       11:[9,12],\n",
        "       12:[9,10]}"
      ]
    },
    {
      "cell_type": "code",
      "source": [
        "def imp1(i: int, web: dict) -> int:\n",
        "\tmu = 0\n",
        "\tfor j in web :\n",
        "\t\tif i in web[j] :\n",
        "\t\t\tmu += 1\n",
        "\treturn mu"
      ],
      "metadata": {
        "id": "N8B7UIAl6G7s"
      },
      "execution_count": 23,
      "outputs": []
    },
    {
      "cell_type": "markdown",
      "source": [
        "13. En théorie des graphes, comment appelle-t-on $\\mu_i$ pour le sommet $i$ ?"
      ],
      "metadata": {
        "id": "Zse_wCW76QIG"
      }
    },
    {
      "cell_type": "markdown",
      "source": [
        "> Le degré entrant"
      ],
      "metadata": {
        "id": "piiZ5b6P6aPL"
      }
    },
    {
      "cell_type": "markdown",
      "source": [
        "14. On a déjà calculé l’importance d’une page selon le même modèle dans la partie 1. Comment l’avions-nous alors appelée ?"
      ],
      "metadata": {
        "id": "3vWbVGj06fPk"
      }
    },
    {
      "cell_type": "markdown",
      "source": [
        "> \"popularité\""
      ],
      "metadata": {
        "id": "0mw9H0mY6j7o"
      }
    },
    {
      "cell_type": "markdown",
      "source": [
        "15. Que valent les importances suivantes dans notre exemple :"
      ],
      "metadata": {
        "id": "bm_lQMrX6pzU"
      }
    },
    {
      "cell_type": "code",
      "source": [
        "print(f\"mu1 = {imp1(1,web)}\")\n",
        "print(f\"mu5 = {imp1(5,web)}\")\n",
        "print(f\"mu7 = {imp1(7,web)}\")\n",
        "print(f\"mu9 = {imp1(9,web)}\")"
      ],
      "metadata": {
        "colab": {
          "base_uri": "https://localhost:8080/"
        },
        "id": "0GaTvF44l_c_",
        "outputId": "9eae4ad9-21da-457e-e21d-670c78db6e2c"
      },
      "execution_count": 24,
      "outputs": [
        {
          "output_type": "stream",
          "name": "stdout",
          "text": [
            "mu1 = 4\n",
            "mu5 = 3\n",
            "mu7 = 3\n",
            "mu9 = 4\n"
          ]
        }
      ]
    },
    {
      "cell_type": "markdown",
      "source": [
        "Bien que cette définition de l’importance soit claire et facile à calculer, on constate sur notre exemple qu’elle ne reproduit pas la hiérarchie attendue entre les pages.<br>\n",
        "Pire, ce comptage naïf est trop facile à manipuler par quiconque souhaitant gonfler artificiellement l’importance d’une de ses pages."
      ],
      "metadata": {
        "id": "xvXH2qAH8Kvb"
      }
    },
    {
      "cell_type": "markdown",
      "source": [
        "16. Comment ferait-il ?"
      ],
      "metadata": {
        "id": "qi4EVPFR8OH0"
      }
    },
    {
      "cell_type": "markdown",
      "source": [
        "> Suffit de créer plein de pages bidons avec des liens pointant vers la page dont il veut augmenter l'importance."
      ],
      "metadata": {
        "id": "FlUQh-RT8a7M"
      }
    },
    {
      "cell_type": "markdown",
      "source": [
        "### B. Deuxième modèle : comptage pondéré"
      ],
      "metadata": {
        "id": "fsbsUg828nyv"
      }
    },
    {
      "cell_type": "markdown",
      "source": [
        "On peut supposer que les pages émettant beaucoup de liens sont des prescripteurs moins sélectifs. On va alors diminuer la confiance apportée à leurs recommandations.<br>\n",
        "Pour diminuer leur poids, on va partager le vote de la page $P_j$ en $\\ell_j$ parts égales, où $\\ell_j$ désigne le nombre de liens émis par la page $P_j$. On définit ainsi une mesure plus fine de l’importance :\n",
        "\n",
        "$$\\mu_i  = \\sum_{j\\rightarrow i}\\frac{1}{\\ell_j}$$"
      ],
      "metadata": {
        "id": "lYInPIVg8sid"
      }
    },
    {
      "cell_type": "markdown",
      "source": [
        "17. Écrivez en python une fonction `imp2` retournant l’importance $\\mu_i$ ainsi définie."
      ],
      "metadata": {
        "id": "_o1kfAuf9BgC"
      }
    },
    {
      "cell_type": "code",
      "source": [
        "def imp2(i: int, web: dict) -> float:\n",
        "\tmu = 0\n",
        "\tfor j in web :\n",
        "\t\tif i in web[j] :\n",
        "\t\t\tmu += 1/len(web[j])\n",
        "\treturn mu"
      ],
      "metadata": {
        "id": "m49tFPMB9MDg"
      },
      "execution_count": 25,
      "outputs": []
    },
    {
      "cell_type": "markdown",
      "source": [
        "18. Que valent maintenant les importances suivantes dans notre exemple :\n"
      ],
      "metadata": {
        "id": "vqgtIUH69RaD"
      }
    },
    {
      "cell_type": "code",
      "source": [
        "print(f\"mu1 = {imp2(1,web)}\")\n",
        "print(f\"mu5 = {imp2(5,web)}\")\n",
        "print(f\"mu7 = {imp2(7,web)}\")\n",
        "print(f\"mu9 = {imp2(9,web)}\")"
      ],
      "metadata": {
        "colab": {
          "base_uri": "https://localhost:8080/"
        },
        "id": "m7j9cdZl9S0y",
        "outputId": "90f99f9f-be37-456f-c89e-8fa163aff823"
      },
      "execution_count": 26,
      "outputs": [
        {
          "output_type": "stream",
          "name": "stdout",
          "text": [
            "mu1 = 2.0\n",
            "mu5 = 1.5\n",
            "mu7 = 1.3333333333333333\n",
            "mu9 = 2.0\n"
          ]
        }
      ]
    },
    {
      "cell_type": "markdown",
      "source": [
        "On voit donc que la formule peine encore à reproduire la hiérarchie attendue entre les pages. Et comme avant, ce comportement est trop facile à truquer."
      ],
      "metadata": {
        "id": "NUEtaqE69cd6"
      }
    },
    {
      "cell_type": "markdown",
      "source": [
        "Un graphe **dense** est un graphe à $n$ sommets ayant $O(n)$ arêtes, alors qu’un graphe creux n’a que $O(1)$ arêtes."
      ],
      "metadata": {
        "id": "pIbcTTiM9kEF"
      }
    },
    {
      "cell_type": "markdown",
      "source": [
        "19. Selon vous, le graphe du web est-il dense ou creux ?"
      ],
      "metadata": {
        "id": "_hcNobja92le"
      }
    },
    {
      "cell_type": "markdown",
      "source": [
        "> Le graphe du Web est **creux** car le nombre de liens sortants par page n'est pas en proportion du nombre de pages du Web."
      ],
      "metadata": {
        "id": "HfSAWXqa94Mu"
      }
    },
    {
      "cell_type": "markdown",
      "source": [
        "20. Quelle est alors la complexité des fonctions `imp1` et `imp2`\n",
        " en fonction de $n$ ?"
      ],
      "metadata": {
        "id": "k_Gbx__b-cqA"
      }
    },
    {
      "cell_type": "markdown",
      "source": [
        "> `imp1` et `imp2` sont toutes deux linéaires ($O(n)$ pour la boucle extérieure qui parcours toutes les pages multiplié par $O(1)$ pour la boucle intérieure qui parcourt les liens). "
      ],
      "metadata": {
        "id": "4-IOnRET-kBW"
      }
    },
    {
      "cell_type": "markdown",
      "source": [
        "21. Pourquoi représenter le graphe par une liste d’adjacence plutôt que par une matrice d’adjacence. "
      ],
      "metadata": {
        "id": "oCiUroy3_W4s"
      }
    },
    {
      "cell_type": "markdown",
      "source": [
        "> La matrice d'adjacence serait remplie de zéros, autre façon de dire que le graphe est creux. Tous ces zéros représentent de la place mémoire inutile."
      ],
      "metadata": {
        "id": "bpNycHGX_bh5"
      }
    },
    {
      "cell_type": "markdown",
      "source": [
        "### C. Troisième modèle : comptage récursif"
      ],
      "metadata": {
        "id": "z9xparqn_xJ9"
      }
    },
    {
      "cell_type": "markdown",
      "source": [
        "Heuristiquement, une page $P_i$ paraît importante si beaucoup de pages importantes la citent. Ceci nous mène à définir l’importance $\\mu_i$ de manière récursive comme suit :\n",
        "\n",
        "$$\\mu_i  = \\sum_{j\\rightarrow i}\\frac{1}{\\ell_j}\\mu_j$$\n",
        "\n",
        "Ici, le poids du vote j\\rightarrow i  est proportionnel au poids $\\mu_j$ de la page émettrice.\n",
        "C’est facile à formuler, mais moins évident à calculer…<br>\n",
        "Comme il s’agit d’un système de $n$ équations à $n$ inconnus, on peut penser à utiliser la méthode du pivot de Gauss pour le résoudre."
      ],
      "metadata": {
        "id": "DU66NQ9QAMm0"
      }
    },
    {
      "cell_type": "markdown",
      "source": [
        "Pour notre exemple, la matrice augmentée représentant le système est donné ci-dessous."
      ],
      "metadata": {
        "id": "J6_efQvrAoyY"
      }
    },
    {
      "cell_type": "markdown",
      "source": [
        "22. Complétez la valeur manquante dans la matrice."
      ],
      "metadata": {
        "id": "LL5dcqcZAscu"
      }
    },
    {
      "cell_type": "markdown",
      "source": [
        "<img src=\"https://github.com/Info-TSI-Vieljeux/pourDS/blob/main/matrice.png?raw=true\" width=800/>"
      ],
      "metadata": {
        "id": "L4LaI7tMAvff"
      }
    },
    {
      "cell_type": "markdown",
      "source": [
        "On peut vérifier que le vecteur $\\mu = (2,1,1,1,3,1,2,1,2,1,1,1)^\\top$ est solution du système.<br>\n",
        "Enfin ! La page $P_5$ est repérée comme la plus importante, suivie de $P_1$, $P_7$ et $P_9$. C’est encourageant !\n"
      ],
      "metadata": {
        "id": "B0p3glyHBKmz"
      }
    },
    {
      "cell_type": "code",
      "source": [
        "def Gauss(M,recherchePivot) :\n",
        "    n = len(M)                                                              \n",
        "    h = k = 0\n",
        "    tol = 1e-9                        \n",
        "    while h < n and k < n+1 :                      \n",
        "        ipivot = recherchePivot(M,h,k)           \n",
        "        pivot = M[ipivot][k]\n",
        "        if abs(pivot) < tol :              \n",
        "            k += 1\n",
        "        else :\n",
        "            if h != ipivot :\n",
        "                M[h],M[ipivot] = M[ipivot],M[h]  \n",
        "            for j in range(k,n+1) :\n",
        "                M[h][j] /= pivot                 \n",
        "            for i in range(h+1,n) :\n",
        "                f = M[i][k]\n",
        "                for j in range(k,n+1) :\n",
        "                    M[i][j] -= M[h][j] * f    \n",
        "            h += 1\n",
        "            k += 1"
      ],
      "metadata": {
        "id": "8xbpWC6cBmi7"
      },
      "execution_count": 27,
      "outputs": []
    },
    {
      "cell_type": "markdown",
      "source": [
        "Le code de la fonction permettant de transformer la matrice précédente en matrice échelonnée est donné ci-codessus."
      ],
      "metadata": {
        "id": "0wZLTAMBBsMh"
      }
    },
    {
      "cell_type": "markdown",
      "source": [
        "23. Reste à coder la fonction de recherche du pivot.<br>\n",
        "On utilise ici, la **recherche du pivot partiel** :<br>\n",
        "votre fonction doit, à partir d’une ligne $h$ et d’une colonne $k$ ($h$ et $k$ données en paramètre, trouver la ligne $i$ de l’élément $m_{i,k}$ de la matrice $M$ (elle aussi donnée en paramètre) de plus grande valeur absolue, pour $i$ allant de $h$ à $n$.\n"
      ],
      "metadata": {
        "id": "3CQnpWqyB0wR"
      }
    },
    {
      "cell_type": "code",
      "source": [
        "def recherchePivotPartiel(M: list, h: int, k: int) -> int:\n",
        "\tipiv, piv = h, abs(M[h][k])\n",
        "\tn = len(M)\n",
        "\tfor i in range(h+1,n) :\n",
        "\t\tif abs(M[i][k]) > piv :\n",
        "\t\t\tipiv, piv = i, abs(M[i][k])\n",
        "\treturn ipiv"
      ],
      "metadata": {
        "id": "LkuQrENwCSuf"
      },
      "execution_count": 28,
      "outputs": []
    },
    {
      "cell_type": "markdown",
      "source": [
        "La fonction suivante va nous permettre de passer de la liste d'adjacence du graphe du Web au système présentée sous la forme de sa matrice augmentée."
      ],
      "metadata": {
        "id": "kPeQ2p0TCdP5"
      }
    },
    {
      "cell_type": "code",
      "source": [
        "def dictosyst(web: dict) -> list:\n",
        "    n = len(web)\n",
        "    M = [[0 for j in range(n+1)] for i in range(n)]\n",
        "    for i in range(n) :\n",
        "        M[i][i] = -1\n",
        "        for j in range(n) :\n",
        "            if i+1 in web[j+1] :\n",
        "                M[i][j] = 1/len(web[j+1])\n",
        "    return M"
      ],
      "metadata": {
        "id": "GNYQQFW6Cs4-"
      },
      "execution_count": 29,
      "outputs": []
    },
    {
      "cell_type": "code",
      "source": [
        "import pandas as pd # juste pour que l'affichage soit joli\n",
        "\n",
        "n = len(web)\n",
        "M = dictosyst(web)\n",
        "indices = [i for i in range(1,n+1)]\n",
        "colonnes = indices + [\"v\"]\n",
        "Mpd = pd.DataFrame(M,index=[indices],columns=colonnes)\n",
        "Mpd"
      ],
      "metadata": {
        "colab": {
          "base_uri": "https://localhost:8080/",
          "height": 421
        },
        "id": "fT_vMAvfCxRw",
        "outputId": "481457d2-add4-4474-f866-9cede57f43c8"
      },
      "execution_count": 30,
      "outputs": [
        {
          "output_type": "execute_result",
          "data": {
            "text/plain": [
              "       1    2    3    4         5    6    7    8     9   10   11   12  v\n",
              "1  -1.00  0.5  0.5  0.5  0.000000  0.5  0.0  0.0  0.00  0.0  0.0  0.0  0\n",
              "2   0.25 -1.0  0.0  0.5  0.000000  0.0  0.0  0.0  0.00  0.0  0.0  0.0  0\n",
              "3   0.25  0.5 -1.0  0.0  0.000000  0.0  0.0  0.0  0.00  0.0  0.0  0.0  0\n",
              "4   0.25  0.0  0.5 -1.0  0.000000  0.0  0.0  0.0  0.00  0.0  0.0  0.0  0\n",
              "5   0.25  0.0  0.0  0.0 -1.000000  0.0  1.0  0.0  0.25  0.0  0.0  0.0  0\n",
              "6   0.00  0.0  0.0  0.0  0.333333 -1.0  0.0  0.0  0.00  0.0  0.0  0.0  0\n",
              "7   0.00  0.0  0.0  0.0  0.333333  0.5 -1.0  0.5  0.00  0.0  0.0  0.0  0\n",
              "8   0.00  0.0  0.0  0.0  0.333333  0.0  0.0 -1.0  0.00  0.0  0.0  0.0  0\n",
              "9   0.00  0.0  0.0  0.0  0.000000  0.0  0.0  0.5 -1.00  0.5  0.5  0.5  0\n",
              "10  0.00  0.0  0.0  0.0  0.000000  0.0  0.0  0.0  0.25 -1.0  0.0  0.5  0\n",
              "11  0.00  0.0  0.0  0.0  0.000000  0.0  0.0  0.0  0.25  0.5 -1.0  0.0  0\n",
              "12  0.00  0.0  0.0  0.0  0.000000  0.0  0.0  0.0  0.25  0.0  0.5 -1.0  0"
            ],
            "text/html": [
              "\n",
              "  <div id=\"df-b2cd6610-5e60-4610-9906-beb9e1896c49\">\n",
              "    <div class=\"colab-df-container\">\n",
              "      <div>\n",
              "<style scoped>\n",
              "    .dataframe tbody tr th:only-of-type {\n",
              "        vertical-align: middle;\n",
              "    }\n",
              "\n",
              "    .dataframe tbody tr th {\n",
              "        vertical-align: top;\n",
              "    }\n",
              "\n",
              "    .dataframe thead th {\n",
              "        text-align: right;\n",
              "    }\n",
              "</style>\n",
              "<table border=\"1\" class=\"dataframe\">\n",
              "  <thead>\n",
              "    <tr style=\"text-align: right;\">\n",
              "      <th></th>\n",
              "      <th>1</th>\n",
              "      <th>2</th>\n",
              "      <th>3</th>\n",
              "      <th>4</th>\n",
              "      <th>5</th>\n",
              "      <th>6</th>\n",
              "      <th>7</th>\n",
              "      <th>8</th>\n",
              "      <th>9</th>\n",
              "      <th>10</th>\n",
              "      <th>11</th>\n",
              "      <th>12</th>\n",
              "      <th>v</th>\n",
              "    </tr>\n",
              "  </thead>\n",
              "  <tbody>\n",
              "    <tr>\n",
              "      <th>1</th>\n",
              "      <td>-1.00</td>\n",
              "      <td>0.5</td>\n",
              "      <td>0.5</td>\n",
              "      <td>0.5</td>\n",
              "      <td>0.000000</td>\n",
              "      <td>0.5</td>\n",
              "      <td>0.0</td>\n",
              "      <td>0.0</td>\n",
              "      <td>0.00</td>\n",
              "      <td>0.0</td>\n",
              "      <td>0.0</td>\n",
              "      <td>0.0</td>\n",
              "      <td>0</td>\n",
              "    </tr>\n",
              "    <tr>\n",
              "      <th>2</th>\n",
              "      <td>0.25</td>\n",
              "      <td>-1.0</td>\n",
              "      <td>0.0</td>\n",
              "      <td>0.5</td>\n",
              "      <td>0.000000</td>\n",
              "      <td>0.0</td>\n",
              "      <td>0.0</td>\n",
              "      <td>0.0</td>\n",
              "      <td>0.00</td>\n",
              "      <td>0.0</td>\n",
              "      <td>0.0</td>\n",
              "      <td>0.0</td>\n",
              "      <td>0</td>\n",
              "    </tr>\n",
              "    <tr>\n",
              "      <th>3</th>\n",
              "      <td>0.25</td>\n",
              "      <td>0.5</td>\n",
              "      <td>-1.0</td>\n",
              "      <td>0.0</td>\n",
              "      <td>0.000000</td>\n",
              "      <td>0.0</td>\n",
              "      <td>0.0</td>\n",
              "      <td>0.0</td>\n",
              "      <td>0.00</td>\n",
              "      <td>0.0</td>\n",
              "      <td>0.0</td>\n",
              "      <td>0.0</td>\n",
              "      <td>0</td>\n",
              "    </tr>\n",
              "    <tr>\n",
              "      <th>4</th>\n",
              "      <td>0.25</td>\n",
              "      <td>0.0</td>\n",
              "      <td>0.5</td>\n",
              "      <td>-1.0</td>\n",
              "      <td>0.000000</td>\n",
              "      <td>0.0</td>\n",
              "      <td>0.0</td>\n",
              "      <td>0.0</td>\n",
              "      <td>0.00</td>\n",
              "      <td>0.0</td>\n",
              "      <td>0.0</td>\n",
              "      <td>0.0</td>\n",
              "      <td>0</td>\n",
              "    </tr>\n",
              "    <tr>\n",
              "      <th>5</th>\n",
              "      <td>0.25</td>\n",
              "      <td>0.0</td>\n",
              "      <td>0.0</td>\n",
              "      <td>0.0</td>\n",
              "      <td>-1.000000</td>\n",
              "      <td>0.0</td>\n",
              "      <td>1.0</td>\n",
              "      <td>0.0</td>\n",
              "      <td>0.25</td>\n",
              "      <td>0.0</td>\n",
              "      <td>0.0</td>\n",
              "      <td>0.0</td>\n",
              "      <td>0</td>\n",
              "    </tr>\n",
              "    <tr>\n",
              "      <th>6</th>\n",
              "      <td>0.00</td>\n",
              "      <td>0.0</td>\n",
              "      <td>0.0</td>\n",
              "      <td>0.0</td>\n",
              "      <td>0.333333</td>\n",
              "      <td>-1.0</td>\n",
              "      <td>0.0</td>\n",
              "      <td>0.0</td>\n",
              "      <td>0.00</td>\n",
              "      <td>0.0</td>\n",
              "      <td>0.0</td>\n",
              "      <td>0.0</td>\n",
              "      <td>0</td>\n",
              "    </tr>\n",
              "    <tr>\n",
              "      <th>7</th>\n",
              "      <td>0.00</td>\n",
              "      <td>0.0</td>\n",
              "      <td>0.0</td>\n",
              "      <td>0.0</td>\n",
              "      <td>0.333333</td>\n",
              "      <td>0.5</td>\n",
              "      <td>-1.0</td>\n",
              "      <td>0.5</td>\n",
              "      <td>0.00</td>\n",
              "      <td>0.0</td>\n",
              "      <td>0.0</td>\n",
              "      <td>0.0</td>\n",
              "      <td>0</td>\n",
              "    </tr>\n",
              "    <tr>\n",
              "      <th>8</th>\n",
              "      <td>0.00</td>\n",
              "      <td>0.0</td>\n",
              "      <td>0.0</td>\n",
              "      <td>0.0</td>\n",
              "      <td>0.333333</td>\n",
              "      <td>0.0</td>\n",
              "      <td>0.0</td>\n",
              "      <td>-1.0</td>\n",
              "      <td>0.00</td>\n",
              "      <td>0.0</td>\n",
              "      <td>0.0</td>\n",
              "      <td>0.0</td>\n",
              "      <td>0</td>\n",
              "    </tr>\n",
              "    <tr>\n",
              "      <th>9</th>\n",
              "      <td>0.00</td>\n",
              "      <td>0.0</td>\n",
              "      <td>0.0</td>\n",
              "      <td>0.0</td>\n",
              "      <td>0.000000</td>\n",
              "      <td>0.0</td>\n",
              "      <td>0.0</td>\n",
              "      <td>0.5</td>\n",
              "      <td>-1.00</td>\n",
              "      <td>0.5</td>\n",
              "      <td>0.5</td>\n",
              "      <td>0.5</td>\n",
              "      <td>0</td>\n",
              "    </tr>\n",
              "    <tr>\n",
              "      <th>10</th>\n",
              "      <td>0.00</td>\n",
              "      <td>0.0</td>\n",
              "      <td>0.0</td>\n",
              "      <td>0.0</td>\n",
              "      <td>0.000000</td>\n",
              "      <td>0.0</td>\n",
              "      <td>0.0</td>\n",
              "      <td>0.0</td>\n",
              "      <td>0.25</td>\n",
              "      <td>-1.0</td>\n",
              "      <td>0.0</td>\n",
              "      <td>0.5</td>\n",
              "      <td>0</td>\n",
              "    </tr>\n",
              "    <tr>\n",
              "      <th>11</th>\n",
              "      <td>0.00</td>\n",
              "      <td>0.0</td>\n",
              "      <td>0.0</td>\n",
              "      <td>0.0</td>\n",
              "      <td>0.000000</td>\n",
              "      <td>0.0</td>\n",
              "      <td>0.0</td>\n",
              "      <td>0.0</td>\n",
              "      <td>0.25</td>\n",
              "      <td>0.5</td>\n",
              "      <td>-1.0</td>\n",
              "      <td>0.0</td>\n",
              "      <td>0</td>\n",
              "    </tr>\n",
              "    <tr>\n",
              "      <th>12</th>\n",
              "      <td>0.00</td>\n",
              "      <td>0.0</td>\n",
              "      <td>0.0</td>\n",
              "      <td>0.0</td>\n",
              "      <td>0.000000</td>\n",
              "      <td>0.0</td>\n",
              "      <td>0.0</td>\n",
              "      <td>0.0</td>\n",
              "      <td>0.25</td>\n",
              "      <td>0.0</td>\n",
              "      <td>0.5</td>\n",
              "      <td>-1.0</td>\n",
              "      <td>0</td>\n",
              "    </tr>\n",
              "  </tbody>\n",
              "</table>\n",
              "</div>\n",
              "      <button class=\"colab-df-convert\" onclick=\"convertToInteractive('df-b2cd6610-5e60-4610-9906-beb9e1896c49')\"\n",
              "              title=\"Convert this dataframe to an interactive table.\"\n",
              "              style=\"display:none;\">\n",
              "        \n",
              "  <svg xmlns=\"http://www.w3.org/2000/svg\" height=\"24px\"viewBox=\"0 0 24 24\"\n",
              "       width=\"24px\">\n",
              "    <path d=\"M0 0h24v24H0V0z\" fill=\"none\"/>\n",
              "    <path d=\"M18.56 5.44l.94 2.06.94-2.06 2.06-.94-2.06-.94-.94-2.06-.94 2.06-2.06.94zm-11 1L8.5 8.5l.94-2.06 2.06-.94-2.06-.94L8.5 2.5l-.94 2.06-2.06.94zm10 10l.94 2.06.94-2.06 2.06-.94-2.06-.94-.94-2.06-.94 2.06-2.06.94z\"/><path d=\"M17.41 7.96l-1.37-1.37c-.4-.4-.92-.59-1.43-.59-.52 0-1.04.2-1.43.59L10.3 9.45l-7.72 7.72c-.78.78-.78 2.05 0 2.83L4 21.41c.39.39.9.59 1.41.59.51 0 1.02-.2 1.41-.59l7.78-7.78 2.81-2.81c.8-.78.8-2.07 0-2.86zM5.41 20L4 18.59l7.72-7.72 1.47 1.35L5.41 20z\"/>\n",
              "  </svg>\n",
              "      </button>\n",
              "      \n",
              "  <style>\n",
              "    .colab-df-container {\n",
              "      display:flex;\n",
              "      flex-wrap:wrap;\n",
              "      gap: 12px;\n",
              "    }\n",
              "\n",
              "    .colab-df-convert {\n",
              "      background-color: #E8F0FE;\n",
              "      border: none;\n",
              "      border-radius: 50%;\n",
              "      cursor: pointer;\n",
              "      display: none;\n",
              "      fill: #1967D2;\n",
              "      height: 32px;\n",
              "      padding: 0 0 0 0;\n",
              "      width: 32px;\n",
              "    }\n",
              "\n",
              "    .colab-df-convert:hover {\n",
              "      background-color: #E2EBFA;\n",
              "      box-shadow: 0px 1px 2px rgba(60, 64, 67, 0.3), 0px 1px 3px 1px rgba(60, 64, 67, 0.15);\n",
              "      fill: #174EA6;\n",
              "    }\n",
              "\n",
              "    [theme=dark] .colab-df-convert {\n",
              "      background-color: #3B4455;\n",
              "      fill: #D2E3FC;\n",
              "    }\n",
              "\n",
              "    [theme=dark] .colab-df-convert:hover {\n",
              "      background-color: #434B5C;\n",
              "      box-shadow: 0px 1px 3px 1px rgba(0, 0, 0, 0.15);\n",
              "      filter: drop-shadow(0px 1px 2px rgba(0, 0, 0, 0.3));\n",
              "      fill: #FFFFFF;\n",
              "    }\n",
              "  </style>\n",
              "\n",
              "      <script>\n",
              "        const buttonEl =\n",
              "          document.querySelector('#df-b2cd6610-5e60-4610-9906-beb9e1896c49 button.colab-df-convert');\n",
              "        buttonEl.style.display =\n",
              "          google.colab.kernel.accessAllowed ? 'block' : 'none';\n",
              "\n",
              "        async function convertToInteractive(key) {\n",
              "          const element = document.querySelector('#df-b2cd6610-5e60-4610-9906-beb9e1896c49');\n",
              "          const dataTable =\n",
              "            await google.colab.kernel.invokeFunction('convertToInteractive',\n",
              "                                                     [key], {});\n",
              "          if (!dataTable) return;\n",
              "\n",
              "          const docLinkHtml = 'Like what you see? Visit the ' +\n",
              "            '<a target=\"_blank\" href=https://colab.research.google.com/notebooks/data_table.ipynb>data table notebook</a>'\n",
              "            + ' to learn more about interactive tables.';\n",
              "          element.innerHTML = '';\n",
              "          dataTable['output_type'] = 'display_data';\n",
              "          await google.colab.output.renderOutput(dataTable, element);\n",
              "          const docLink = document.createElement('div');\n",
              "          docLink.innerHTML = docLinkHtml;\n",
              "          element.appendChild(docLink);\n",
              "        }\n",
              "      </script>\n",
              "    </div>\n",
              "  </div>\n",
              "  "
            ]
          },
          "metadata": {},
          "execution_count": 30
        }
      ]
    },
    {
      "cell_type": "markdown",
      "source": [
        "On obtient la matrice échelonnée suivante :"
      ],
      "metadata": {
        "id": "xkBknCqgFP7B"
      }
    },
    {
      "cell_type": "code",
      "source": [
        "Gauss(M,recherchePivotPartiel)\n",
        "pd.DataFrame(M,index=[indices],columns=colonnes)"
      ],
      "metadata": {
        "colab": {
          "base_uri": "https://localhost:8080/",
          "height": 421
        },
        "id": "dlkkXsL3DVIt",
        "outputId": "b392a243-01ab-4cba-db3c-21690a39c65d"
      },
      "execution_count": 31,
      "outputs": [
        {
          "output_type": "execute_result",
          "data": {
            "text/plain": [
              "      1    2         3         4         5         6         7     8  \\\n",
              "1   1.0 -0.5 -0.500000 -0.500000 -0.000000 -0.500000 -0.000000 -0.00   \n",
              "2   0.0  1.0 -0.142857 -0.714286 -0.000000 -0.142857 -0.000000 -0.00   \n",
              "3   0.0  0.0  1.000000 -0.727273 -0.000000 -0.272727 -0.000000 -0.00   \n",
              "4   0.0  0.0  0.000000  1.000000 -3.142857  0.571429  3.142857  0.00   \n",
              "5   0.0  0.0  0.000000  0.000000  1.000000 -0.500000 -1.000000 -0.00   \n",
              "6   0.0  0.0  0.000000  0.000000  0.000000  1.000000 -0.400000 -0.00   \n",
              "7   0.0  0.0  0.000000  0.000000  0.000000  0.000000  1.000000 -1.25   \n",
              "8   0.0  0.0  0.000000  0.000000  0.000000  0.000000  0.000000  1.00   \n",
              "9   0.0  0.0  0.000000  0.000000  0.000000  0.000000  0.000000  0.00   \n",
              "10  0.0  0.0  0.000000  0.000000  0.000000  0.000000  0.000000  0.00   \n",
              "11  0.0  0.0  0.000000  0.000000  0.000000  0.000000  0.000000  0.00   \n",
              "12  0.0  0.0  0.000000  0.000000  0.000000  0.000000  0.000000  0.00   \n",
              "\n",
              "           9        10        11            12    v  \n",
              "1  -0.000000 -0.000000 -0.000000 -0.000000e+00 -0.0  \n",
              "2  -0.000000 -0.000000 -0.000000 -0.000000e+00 -0.0  \n",
              "3  -0.000000 -0.000000 -0.000000 -0.000000e+00 -0.0  \n",
              "4   0.785714  0.000000  0.000000  0.000000e+00  0.0  \n",
              "5  -0.250000 -0.000000 -0.000000 -0.000000e+00 -0.0  \n",
              "6  -0.100000 -0.000000 -0.000000 -0.000000e+00 -0.0  \n",
              "7  -0.375000 -0.000000 -0.000000 -0.000000e+00 -0.0  \n",
              "8  -0.500000 -0.000000 -0.000000 -0.000000e+00 -0.0  \n",
              "9   1.000000 -0.666667 -0.666667 -6.666667e-01 -0.0  \n",
              "10  0.000000  1.000000 -0.200000 -8.000000e-01 -0.0  \n",
              "11  0.000000  0.000000  1.000000 -1.000000e+00 -0.0  \n",
              "12  0.000000  0.000000  0.000000 -3.330669e-16  0.0  "
            ],
            "text/html": [
              "\n",
              "  <div id=\"df-f804a321-5ab5-4a68-8ce8-12651e97cae0\">\n",
              "    <div class=\"colab-df-container\">\n",
              "      <div>\n",
              "<style scoped>\n",
              "    .dataframe tbody tr th:only-of-type {\n",
              "        vertical-align: middle;\n",
              "    }\n",
              "\n",
              "    .dataframe tbody tr th {\n",
              "        vertical-align: top;\n",
              "    }\n",
              "\n",
              "    .dataframe thead th {\n",
              "        text-align: right;\n",
              "    }\n",
              "</style>\n",
              "<table border=\"1\" class=\"dataframe\">\n",
              "  <thead>\n",
              "    <tr style=\"text-align: right;\">\n",
              "      <th></th>\n",
              "      <th>1</th>\n",
              "      <th>2</th>\n",
              "      <th>3</th>\n",
              "      <th>4</th>\n",
              "      <th>5</th>\n",
              "      <th>6</th>\n",
              "      <th>7</th>\n",
              "      <th>8</th>\n",
              "      <th>9</th>\n",
              "      <th>10</th>\n",
              "      <th>11</th>\n",
              "      <th>12</th>\n",
              "      <th>v</th>\n",
              "    </tr>\n",
              "  </thead>\n",
              "  <tbody>\n",
              "    <tr>\n",
              "      <th>1</th>\n",
              "      <td>1.0</td>\n",
              "      <td>-0.5</td>\n",
              "      <td>-0.500000</td>\n",
              "      <td>-0.500000</td>\n",
              "      <td>-0.000000</td>\n",
              "      <td>-0.500000</td>\n",
              "      <td>-0.000000</td>\n",
              "      <td>-0.00</td>\n",
              "      <td>-0.000000</td>\n",
              "      <td>-0.000000</td>\n",
              "      <td>-0.000000</td>\n",
              "      <td>-0.000000e+00</td>\n",
              "      <td>-0.0</td>\n",
              "    </tr>\n",
              "    <tr>\n",
              "      <th>2</th>\n",
              "      <td>0.0</td>\n",
              "      <td>1.0</td>\n",
              "      <td>-0.142857</td>\n",
              "      <td>-0.714286</td>\n",
              "      <td>-0.000000</td>\n",
              "      <td>-0.142857</td>\n",
              "      <td>-0.000000</td>\n",
              "      <td>-0.00</td>\n",
              "      <td>-0.000000</td>\n",
              "      <td>-0.000000</td>\n",
              "      <td>-0.000000</td>\n",
              "      <td>-0.000000e+00</td>\n",
              "      <td>-0.0</td>\n",
              "    </tr>\n",
              "    <tr>\n",
              "      <th>3</th>\n",
              "      <td>0.0</td>\n",
              "      <td>0.0</td>\n",
              "      <td>1.000000</td>\n",
              "      <td>-0.727273</td>\n",
              "      <td>-0.000000</td>\n",
              "      <td>-0.272727</td>\n",
              "      <td>-0.000000</td>\n",
              "      <td>-0.00</td>\n",
              "      <td>-0.000000</td>\n",
              "      <td>-0.000000</td>\n",
              "      <td>-0.000000</td>\n",
              "      <td>-0.000000e+00</td>\n",
              "      <td>-0.0</td>\n",
              "    </tr>\n",
              "    <tr>\n",
              "      <th>4</th>\n",
              "      <td>0.0</td>\n",
              "      <td>0.0</td>\n",
              "      <td>0.000000</td>\n",
              "      <td>1.000000</td>\n",
              "      <td>-3.142857</td>\n",
              "      <td>0.571429</td>\n",
              "      <td>3.142857</td>\n",
              "      <td>0.00</td>\n",
              "      <td>0.785714</td>\n",
              "      <td>0.000000</td>\n",
              "      <td>0.000000</td>\n",
              "      <td>0.000000e+00</td>\n",
              "      <td>0.0</td>\n",
              "    </tr>\n",
              "    <tr>\n",
              "      <th>5</th>\n",
              "      <td>0.0</td>\n",
              "      <td>0.0</td>\n",
              "      <td>0.000000</td>\n",
              "      <td>0.000000</td>\n",
              "      <td>1.000000</td>\n",
              "      <td>-0.500000</td>\n",
              "      <td>-1.000000</td>\n",
              "      <td>-0.00</td>\n",
              "      <td>-0.250000</td>\n",
              "      <td>-0.000000</td>\n",
              "      <td>-0.000000</td>\n",
              "      <td>-0.000000e+00</td>\n",
              "      <td>-0.0</td>\n",
              "    </tr>\n",
              "    <tr>\n",
              "      <th>6</th>\n",
              "      <td>0.0</td>\n",
              "      <td>0.0</td>\n",
              "      <td>0.000000</td>\n",
              "      <td>0.000000</td>\n",
              "      <td>0.000000</td>\n",
              "      <td>1.000000</td>\n",
              "      <td>-0.400000</td>\n",
              "      <td>-0.00</td>\n",
              "      <td>-0.100000</td>\n",
              "      <td>-0.000000</td>\n",
              "      <td>-0.000000</td>\n",
              "      <td>-0.000000e+00</td>\n",
              "      <td>-0.0</td>\n",
              "    </tr>\n",
              "    <tr>\n",
              "      <th>7</th>\n",
              "      <td>0.0</td>\n",
              "      <td>0.0</td>\n",
              "      <td>0.000000</td>\n",
              "      <td>0.000000</td>\n",
              "      <td>0.000000</td>\n",
              "      <td>0.000000</td>\n",
              "      <td>1.000000</td>\n",
              "      <td>-1.25</td>\n",
              "      <td>-0.375000</td>\n",
              "      <td>-0.000000</td>\n",
              "      <td>-0.000000</td>\n",
              "      <td>-0.000000e+00</td>\n",
              "      <td>-0.0</td>\n",
              "    </tr>\n",
              "    <tr>\n",
              "      <th>8</th>\n",
              "      <td>0.0</td>\n",
              "      <td>0.0</td>\n",
              "      <td>0.000000</td>\n",
              "      <td>0.000000</td>\n",
              "      <td>0.000000</td>\n",
              "      <td>0.000000</td>\n",
              "      <td>0.000000</td>\n",
              "      <td>1.00</td>\n",
              "      <td>-0.500000</td>\n",
              "      <td>-0.000000</td>\n",
              "      <td>-0.000000</td>\n",
              "      <td>-0.000000e+00</td>\n",
              "      <td>-0.0</td>\n",
              "    </tr>\n",
              "    <tr>\n",
              "      <th>9</th>\n",
              "      <td>0.0</td>\n",
              "      <td>0.0</td>\n",
              "      <td>0.000000</td>\n",
              "      <td>0.000000</td>\n",
              "      <td>0.000000</td>\n",
              "      <td>0.000000</td>\n",
              "      <td>0.000000</td>\n",
              "      <td>0.00</td>\n",
              "      <td>1.000000</td>\n",
              "      <td>-0.666667</td>\n",
              "      <td>-0.666667</td>\n",
              "      <td>-6.666667e-01</td>\n",
              "      <td>-0.0</td>\n",
              "    </tr>\n",
              "    <tr>\n",
              "      <th>10</th>\n",
              "      <td>0.0</td>\n",
              "      <td>0.0</td>\n",
              "      <td>0.000000</td>\n",
              "      <td>0.000000</td>\n",
              "      <td>0.000000</td>\n",
              "      <td>0.000000</td>\n",
              "      <td>0.000000</td>\n",
              "      <td>0.00</td>\n",
              "      <td>0.000000</td>\n",
              "      <td>1.000000</td>\n",
              "      <td>-0.200000</td>\n",
              "      <td>-8.000000e-01</td>\n",
              "      <td>-0.0</td>\n",
              "    </tr>\n",
              "    <tr>\n",
              "      <th>11</th>\n",
              "      <td>0.0</td>\n",
              "      <td>0.0</td>\n",
              "      <td>0.000000</td>\n",
              "      <td>0.000000</td>\n",
              "      <td>0.000000</td>\n",
              "      <td>0.000000</td>\n",
              "      <td>0.000000</td>\n",
              "      <td>0.00</td>\n",
              "      <td>0.000000</td>\n",
              "      <td>0.000000</td>\n",
              "      <td>1.000000</td>\n",
              "      <td>-1.000000e+00</td>\n",
              "      <td>-0.0</td>\n",
              "    </tr>\n",
              "    <tr>\n",
              "      <th>12</th>\n",
              "      <td>0.0</td>\n",
              "      <td>0.0</td>\n",
              "      <td>0.000000</td>\n",
              "      <td>0.000000</td>\n",
              "      <td>0.000000</td>\n",
              "      <td>0.000000</td>\n",
              "      <td>0.000000</td>\n",
              "      <td>0.00</td>\n",
              "      <td>0.000000</td>\n",
              "      <td>0.000000</td>\n",
              "      <td>0.000000</td>\n",
              "      <td>-3.330669e-16</td>\n",
              "      <td>0.0</td>\n",
              "    </tr>\n",
              "  </tbody>\n",
              "</table>\n",
              "</div>\n",
              "      <button class=\"colab-df-convert\" onclick=\"convertToInteractive('df-f804a321-5ab5-4a68-8ce8-12651e97cae0')\"\n",
              "              title=\"Convert this dataframe to an interactive table.\"\n",
              "              style=\"display:none;\">\n",
              "        \n",
              "  <svg xmlns=\"http://www.w3.org/2000/svg\" height=\"24px\"viewBox=\"0 0 24 24\"\n",
              "       width=\"24px\">\n",
              "    <path d=\"M0 0h24v24H0V0z\" fill=\"none\"/>\n",
              "    <path d=\"M18.56 5.44l.94 2.06.94-2.06 2.06-.94-2.06-.94-.94-2.06-.94 2.06-2.06.94zm-11 1L8.5 8.5l.94-2.06 2.06-.94-2.06-.94L8.5 2.5l-.94 2.06-2.06.94zm10 10l.94 2.06.94-2.06 2.06-.94-2.06-.94-.94-2.06-.94 2.06-2.06.94z\"/><path d=\"M17.41 7.96l-1.37-1.37c-.4-.4-.92-.59-1.43-.59-.52 0-1.04.2-1.43.59L10.3 9.45l-7.72 7.72c-.78.78-.78 2.05 0 2.83L4 21.41c.39.39.9.59 1.41.59.51 0 1.02-.2 1.41-.59l7.78-7.78 2.81-2.81c.8-.78.8-2.07 0-2.86zM5.41 20L4 18.59l7.72-7.72 1.47 1.35L5.41 20z\"/>\n",
              "  </svg>\n",
              "      </button>\n",
              "      \n",
              "  <style>\n",
              "    .colab-df-container {\n",
              "      display:flex;\n",
              "      flex-wrap:wrap;\n",
              "      gap: 12px;\n",
              "    }\n",
              "\n",
              "    .colab-df-convert {\n",
              "      background-color: #E8F0FE;\n",
              "      border: none;\n",
              "      border-radius: 50%;\n",
              "      cursor: pointer;\n",
              "      display: none;\n",
              "      fill: #1967D2;\n",
              "      height: 32px;\n",
              "      padding: 0 0 0 0;\n",
              "      width: 32px;\n",
              "    }\n",
              "\n",
              "    .colab-df-convert:hover {\n",
              "      background-color: #E2EBFA;\n",
              "      box-shadow: 0px 1px 2px rgba(60, 64, 67, 0.3), 0px 1px 3px 1px rgba(60, 64, 67, 0.15);\n",
              "      fill: #174EA6;\n",
              "    }\n",
              "\n",
              "    [theme=dark] .colab-df-convert {\n",
              "      background-color: #3B4455;\n",
              "      fill: #D2E3FC;\n",
              "    }\n",
              "\n",
              "    [theme=dark] .colab-df-convert:hover {\n",
              "      background-color: #434B5C;\n",
              "      box-shadow: 0px 1px 3px 1px rgba(0, 0, 0, 0.15);\n",
              "      filter: drop-shadow(0px 1px 2px rgba(0, 0, 0, 0.3));\n",
              "      fill: #FFFFFF;\n",
              "    }\n",
              "  </style>\n",
              "\n",
              "      <script>\n",
              "        const buttonEl =\n",
              "          document.querySelector('#df-f804a321-5ab5-4a68-8ce8-12651e97cae0 button.colab-df-convert');\n",
              "        buttonEl.style.display =\n",
              "          google.colab.kernel.accessAllowed ? 'block' : 'none';\n",
              "\n",
              "        async function convertToInteractive(key) {\n",
              "          const element = document.querySelector('#df-f804a321-5ab5-4a68-8ce8-12651e97cae0');\n",
              "          const dataTable =\n",
              "            await google.colab.kernel.invokeFunction('convertToInteractive',\n",
              "                                                     [key], {});\n",
              "          if (!dataTable) return;\n",
              "\n",
              "          const docLinkHtml = 'Like what you see? Visit the ' +\n",
              "            '<a target=\"_blank\" href=https://colab.research.google.com/notebooks/data_table.ipynb>data table notebook</a>'\n",
              "            + ' to learn more about interactive tables.';\n",
              "          element.innerHTML = '';\n",
              "          dataTable['output_type'] = 'display_data';\n",
              "          await google.colab.output.renderOutput(dataTable, element);\n",
              "          const docLink = document.createElement('div');\n",
              "          docLink.innerHTML = docLinkHtml;\n",
              "          element.appendChild(docLink);\n",
              "        }\n",
              "      </script>\n",
              "    </div>\n",
              "  </div>\n",
              "  "
            ]
          },
          "metadata": {},
          "execution_count": 31
        }
      ]
    },
    {
      "cell_type": "markdown",
      "source": [
        "24. Parmi les 12 équations du système, combien sont-elles indépendantes ?"
      ],
      "metadata": {
        "id": "9fjVWKIzDbOu"
      }
    },
    {
      "cell_type": "markdown",
      "source": [
        "> **11**<br>puisque le pivot sur la 12<sup>e</sup> ligne est nul (la valeur non nulle donnée par l'algorithme correspond à l'erreur d'arrondi due au codage sur une place mémoire limitée des flottants en machine).<br>\n",
        "Et c'est logique puisque le fait que $\\sum_i \\sum_{j\\rightarrow i}\\frac{1}{\\ell_j} = 1$ (la somme des poids des liens sortants d'une page vaut 1) implique un lien existe entre les 12 équations. Cela se traduit par le fait que la somme des éléments sur une colonne de la matrice augmentée vaut toujours 0."
      ],
      "metadata": {
        "id": "P7o3n5RtDc9x"
      }
    },
    {
      "cell_type": "markdown",
      "source": [
        "25. Quelle est la complexité de la fonction Gauss ?"
      ],
      "metadata": {
        "id": "V1TC0hGNMU5A"
      }
    },
    {
      "cell_type": "markdown",
      "source": [
        "> $O(n^3)$ (chaque case bleue ci-dessous est un calcul $O(1)$).\n",
        "> <img src=\"https://github.com/Info-TSI-Vieljeux/pourDS/blob/main/complgauss.png?raw=true\"/>"
      ],
      "metadata": {
        "id": "lMMDOvGgMZGi"
      }
    },
    {
      "cell_type": "markdown",
      "source": [
        "L’algorithme `PageRank` utilise une méthode plus simple à implémenter et bien plus rapide ! \n"
      ],
      "metadata": {
        "id": "50-XLHVqQQEs"
      }
    },
    {
      "cell_type": "markdown",
      "source": [
        "Pour développer une intuition de la méthode, imaginons un surfeur aléatoire qui se ballade sur internet en cliquant sur les liens au hasard. Comment évolue sa position ?\n",
        "À titre d’exemple, supposons que notre surfeur démarre au temps $t=0$ sur la page $P_7$. Le seul lien pointe vers $P_5$, donc au temps $t=1$, le surfeur s’y retrouve avec une probabilité 1. De $P_5$ partent trois liens, donc au temps $t=2$, il se trouve sur une des 3 pages $P_6,P_7,P_8$, avec une probabilité d’$1/3$. En continuant ainsi, on obtient&nbsp;:\n"
      ],
      "metadata": {
        "id": "0DAPzHceQVUP"
      }
    },
    {
      "cell_type": "markdown",
      "source": [
        "<img src=\"https://github.com/Info-TSI-Vieljeux/pourDS/blob/main/markov1.png?raw=true\" width=800/>"
      ],
      "metadata": {
        "id": "awHPKubaQyac"
      }
    },
    {
      "cell_type": "markdown",
      "source": [
        "On observe une diffusion qui **converge** assez rapidement vers une distribution stationnaire."
      ],
      "metadata": {
        "id": "ZaDbn5a1SJP5"
      }
    },
    {
      "cell_type": "markdown",
      "source": [
        "Vérifions-le en partant d’une autre page, disons $P_1$ :"
      ],
      "metadata": {
        "id": "rsQMADyLSQMV"
      }
    },
    {
      "cell_type": "markdown",
      "source": [
        "<img src=\"https://github.com/Info-TSI-Vieljeux/pourDS/blob/main/markov2.png?raw=true\" width=800/>"
      ],
      "metadata": {
        "id": "0dKy2YJkTKf2"
      }
    },
    {
      "cell_type": "markdown",
      "source": [
        "26. Complétez la ligne correspondant à $t=2$."
      ],
      "metadata": {
        "id": "ezIJaY8JTPau"
      }
    },
    {
      "cell_type": "markdown",
      "source": [
        "Bien que la diffusion mette plus de temps, la mesure stationnaire est la même ! Elle coïncide d’ailleurs avec notre solution $\\mu = (2,1,1,1,3,1,2,1,2,1,1,1)^\\top$, ici divisée par 17 pour normaliser la somme à 1.\n",
        "Les pages où $\\mu_i$ est grande sont par le fait les plus « fréquentées » ou les plus « populaires ». Dans la quête de classer les pages web, c’est encore un argument pour utiliser la mesure $\\mu$ comme indicateur.\n"
      ],
      "metadata": {
        "id": "eiNF9UJKTUH0"
      }
    },
    {
      "cell_type": "markdown",
      "source": [
        "Comment formaliser cette diffusion ? Supposons qu’au temps $t$, notre surfeur aléatoire se trouve sur la page $P_j$ avec une probabilité $p_j$. La probabilité de partir de $P_j$ en suivant le lien $j\\rightarrow i$ est alors $\\frac{1}{\\ell_j}p_j$.<br> \n",
        "La probabilité d’arriver au temps $t+1$ sur la page $P_i$ est donc&nbsp;:\n",
        "\n",
        "$$p'_i=\\sum_{j\\rightarrow i}\\frac{1}{\\ell_j}p_j$$\n",
        "\n",
        "Étant donné la distribution initiale $p$, la **loi de transition** ci-dessus définit la distribution $p'=T(p)$. C’est ainsi que l’on obtient la ligne $t+1$ à partir de la ligne $t$ dans nos exemples (en théorie des probabilité, cela s’appelle une **chaîne de Markov**). La **mesure stationnaire** est caractérisée par l’équation d’équilibre $\\mu = T(\\mu)$ qui est justement notre équation $ \\mu_i  = \\sum_{j\\rightarrow i}\\frac{1}{\\ell_i}\\mu_j$."
      ],
      "metadata": {
        "id": "jPrFqSqzToLB"
      }
    },
    {
      "cell_type": "markdown",
      "source": [
        "Mais il existe un obstacle à ce modèle : les **trous noirs**…"
      ],
      "metadata": {
        "id": "RPKLeWdqUlNb"
      }
    },
    {
      "cell_type": "markdown",
      "source": [
        "27. Trouvez la solution stationnaire (le vecteur $\\mu$) dans l’exemple ci-dessous."
      ],
      "metadata": {
        "id": "3G4v6SEcU27O"
      }
    },
    {
      "cell_type": "markdown",
      "source": [
        "<img src=\"https://github.com/Info-TSI-Vieljeux/pourDS/blob/main/trounoir.png?raw=true\" width=800/>"
      ],
      "metadata": {
        "id": "MzpG1p6XU7CA"
      }
    },
    {
      "cell_type": "markdown",
      "source": [
        "> $\\mu = (0,0,0,0,0,0,0,0,0,0,0,0,1)$"
      ],
      "metadata": {
        "id": "xUVA3B-eVL9y"
      }
    },
    {
      "cell_type": "markdown",
      "source": [
        "Pour échapper aux trous noirs, Google utilise un modèle plus raffiné : avec une probabilité fixée $c$, le surfeur abandonne sa page actuelle $P_j$ et recommence sur une des $n$ pages du web, choisie de manière équiprobable ; sinon, avec une probabilité $1-c$, le surfeur suit un des liens de la page $P_j$, choisi lui aussi de manière équiprobable.<br>\n",
        "Cette astuce de **« téléportation »** évite de se faire piéger par une page sans issue, et garantit d’arriver n’importe où dans le graphe, indépendamment des questions de connexité.\n"
      ],
      "metadata": {
        "id": "jQuNqC8bVWws"
      }
    },
    {
      "cell_type": "markdown",
      "source": [
        "Dans ce modèle, la transition est donnée par :\n",
        "\n",
        "$$p'_i = \\frac{c}{n}+\\sum_{j\\rightarrow i}\\frac{1-c}{\\ell_j}p_j$$\n",
        "\n",
        "Le premier terme $\\frac{c}{n}$ vient de la téléportation et le second terme de la marche aléatoire précédente.\n",
        "La mesure d’équilibre vérifie donc :\n",
        "\n",
        "$$\\mu_i = \\frac{c}{n}+\\sum_{j\\rightarrow i}\\frac{1-c}{\\ell_j}\\mu_j$$\n",
        "\n",
        "Le paramètre $c$ reste à calibrer. Pour $c=0$, on retrouve le modèle précédent. Pour $0≤c≤1$, la valeur $1/c$ est le nombre moyen de pages visitées, c’est-à-dire le nombre de liens suivis plus un, avant de recommencer sur une page aléatoire (processus de Bernoulli). Par exemple, le choix $c=0,15$ correspond à suivre environ 6 liens en moyenne, ce qui semble une description réaliste.\n"
      ],
      "metadata": {
        "id": "eauHUIm8VnSQ"
      }
    },
    {
      "cell_type": "markdown",
      "source": [
        "Reprenons l’exemple initial et simulons la marche aléatoire partant de la page $P_1$&nbsp;:"
      ],
      "metadata": {
        "id": "gYo6y4ajWHlO"
      }
    },
    {
      "cell_type": "markdown",
      "source": [
        "<img src=\"https://github.com/Info-TSI-Vieljeux/pourDS/blob/main/markov3.png?raw=true\" width=800/>"
      ],
      "metadata": {
        "id": "rwrTSLnoWbTh"
      }
    },
    {
      "cell_type": "markdown",
      "source": [
        "La mesure stationnaire est vite atteinte, et la page $P_5$ arrive en tête avec $\\mu_5=0,15$ avant les pages $P_1$ et $P_9$ avec $\\mu_1=\\mu_9=0,12$.\n"
      ],
      "metadata": {
        "id": "SJE5JeIbWhWL"
      }
    },
    {
      "cell_type": "markdown",
      "source": [
        "28. Codez un algorithme itératif permettant d’obtenir la mesure stationnaire $\\mu$. Votre fonction prendra en paramètre le graphe du web sous la forme d’une liste d’adjacence implémentée par un dictionnaire et retournera la mesure stationnaire $\\mu$ sous la forme d’une liste de $n$ flottants.<br>\n",
        "Pour $t=0$, vous initialiserez la liste correspondant au vecteur $\\mu$ avec une valeur de $c/n$ pour chaque élément.<br>\n",
        "Votre implémentation se limitera à un graphe du web calqué sur le modèle de notre exemple où chaque page est désigné par un entier entre 1 et n."
      ],
      "metadata": {
        "id": "cfPse6RJWzdf"
      }
    },
    {
      "cell_type": "code",
      "source": [
        "def PageRank(web: dict) -> list:\n",
        "\tn = len(web)\n",
        "\tc = 0.15\n",
        "\tmu_avant = [c/n for i in range(n)]\n",
        "\tmu_apres = [0 for i in range(n)]\n",
        "\ttest = True\n",
        "\twhile test :\n",
        "\t\tfor i in range(n) :\n",
        "\t\t\tS = 0\n",
        "\t\t\tfor j in web :\n",
        "\t\t\t\tif i+1 in web[j] :\n",
        "\t\t\t\t\tS += (1-c)/len(web[j])*mu_avant[j-1]\n",
        "\t\t\tmu_apres[i] = c/n + S\n",
        "\t\ttest = False\n",
        "\t\tfor i in range(n) :\n",
        "\t\t\tif abs(mu_apres[i]-mu_avant[i])>1e-9 :\n",
        "\t\t\t\ttest = True\n",
        "\t\tmu_avant[:] = mu_apres[:]\n",
        "\treturn mu_apres"
      ],
      "metadata": {
        "id": "VOru8IiaXL23"
      },
      "execution_count": 32,
      "outputs": []
    },
    {
      "cell_type": "markdown",
      "source": [
        "La loi de transition définit une application $T:p \\mapsto p'$ qui est contractante de rapport $1-c$. Le théorème du point fixe de Banach nous assure alors que l’équation $\\textstyle \\mu_i = \\frac{c}{n}+\\sum_{j\\rightarrow i}\\frac{1-c}{\\ell_j}\\mu_j$ admet une unique solution $\\mu$ vérifiant $\\textstyle \\sum_{i=1}^n \\mu_i =1$ où $\\forall i,\\mu_i≥0$. Pour toute distribution de probabilité initiale, le processus de diffusion converge vers cette solution stationnaire $\\mu$. La convergence est au moins aussi rapide que celle de la suite géométrique $(1-c)^n$ vers $0$.\n"
      ],
      "metadata": {
        "id": "xpkfjVriXPzR"
      }
    },
    {
      "cell_type": "markdown",
      "source": [
        "29. De quoi la démonstration de l’existence de la solution stationnaire  permet-elle de s’assurer par rapport à l’algorithme PageRank ?"
      ],
      "metadata": {
        "id": "4LURyKV-XvZz"
      }
    },
    {
      "cell_type": "markdown",
      "source": [
        "> Sa terminaison"
      ],
      "metadata": {
        "id": "AmQdaX0vXxKs"
      }
    },
    {
      "cell_type": "markdown",
      "source": [
        "30. Quelle méthode algorithmique permettant de calculer l’état d’un système au temps $t+h$ en fonction de son état au temps $t$ présente-t-elle un potentiel problème d’**instabilité numérique** ?\n"
      ],
      "metadata": {
        "id": "FLulaqcaX8K4"
      }
    },
    {
      "cell_type": "markdown",
      "source": [
        "> La méthode d'Euler explicite."
      ],
      "metadata": {
        "id": "T3hkVC0XYD6I"
      }
    },
    {
      "cell_type": "markdown",
      "source": [
        "Ici, pas de soucis ! Le fait que $T$ soit contractante nous assure la stabilité numérique. Les erreurs d’arrondi liées à l’usage de nombres à virgule flottante ne sont pas amplifiées dans les calculs itératifs.\n"
      ],
      "metadata": {
        "id": "Uo0gqeRHYLPc"
      }
    },
    {
      "cell_type": "markdown",
      "source": [
        "---"
      ],
      "metadata": {
        "id": "dWtpw1EjaCOC"
      }
    },
    {
      "cell_type": "markdown",
      "source": [
        "Importances obtenues par `imp1` :"
      ],
      "metadata": {
        "id": "r4h7XVCT_62O"
      }
    },
    {
      "cell_type": "code",
      "source": [
        "for i in range(1,13) :\n",
        "    print(f'{i:2} : {imp1(i,web)}')"
      ],
      "metadata": {
        "colab": {
          "base_uri": "https://localhost:8080/"
        },
        "id": "XVV2J816_5vD",
        "outputId": "2dea2b7c-b7c4-463d-e409-4cdb69d49be6"
      },
      "execution_count": 5,
      "outputs": [
        {
          "output_type": "stream",
          "name": "stdout",
          "text": [
            " 1 : 4\n",
            " 2 : 2\n",
            " 3 : 2\n",
            " 4 : 2\n",
            " 5 : 3\n",
            " 6 : 1\n",
            " 7 : 3\n",
            " 8 : 1\n",
            " 9 : 4\n",
            "10 : 2\n",
            "11 : 2\n",
            "12 : 2\n"
          ]
        }
      ]
    },
    {
      "cell_type": "code",
      "source": [
        "def imp2(i: int,web: dict) -> float:\n",
        "    imp = 0\n",
        "    for j in web :\n",
        "        if i in web[j] :\n",
        "            imp += 1/len(web[j])\n",
        "    return imp"
      ],
      "metadata": {
        "id": "uiWOE744_149"
      },
      "execution_count": 6,
      "outputs": []
    },
    {
      "cell_type": "markdown",
      "source": [
        "Importances obtenues par `imp2` :"
      ],
      "metadata": {
        "id": "tCamHDw-ALZu"
      }
    },
    {
      "cell_type": "code",
      "source": [
        "for i in range(1,13) :\n",
        "    print(f'{i:2} : {imp2(i,web)}')"
      ],
      "metadata": {
        "colab": {
          "base_uri": "https://localhost:8080/"
        },
        "id": "mKbjHquGAHst",
        "outputId": "671b66f3-ba52-4338-e572-cdade1d81fe0"
      },
      "execution_count": 9,
      "outputs": [
        {
          "output_type": "stream",
          "name": "stdout",
          "text": [
            " 1 : 2.0\n",
            " 2 : 0.75\n",
            " 3 : 0.75\n",
            " 4 : 0.75\n",
            " 5 : 1.5\n",
            " 6 : 0.3333333333333333\n",
            " 7 : 1.3333333333333333\n",
            " 8 : 0.3333333333333333\n",
            " 9 : 2.0\n",
            "10 : 0.75\n",
            "11 : 0.75\n",
            "12 : 0.75\n"
          ]
        }
      ]
    },
    {
      "cell_type": "markdown",
      "source": [
        "Pour trouver le vecteur solution depuis la matrice échelonée, on doit modifier un peu la fonction `substitution` par rapport au TP11 pour tenir compte du fait que certaines composantes du vecteur solution sont libres (ici, on les fixe à 1) :"
      ],
      "metadata": {
        "id": "pJm0HPjHCNWx"
      }
    },
    {
      "cell_type": "code",
      "source": [
        "def substitution(M) :\n",
        "    n = len(M)\n",
        "    V = [0]*n\n",
        "    tol = 1e-9\n",
        "    for i in range(n-1,-1,-1):\n",
        "        if abs(M[i][i]) > tol :\n",
        "            V[i] = M[i][n]\n",
        "            for j in range(i+1,n):\n",
        "                V[i] -= M[i][j]*V[j]\n",
        "            V[i] /= M[i][i]\n",
        "        else :\n",
        "            V[i] = 1 # ajouté par rapport au TP11\n",
        "    return V"
      ],
      "metadata": {
        "id": "96QU5I9pBWq8"
      },
      "execution_count": 33,
      "outputs": []
    },
    {
      "cell_type": "markdown",
      "source": [
        "Solution obtenue par substitution :"
      ],
      "metadata": {
        "id": "2zb9xyUsDKI8"
      }
    },
    {
      "cell_type": "code",
      "source": [
        "mu = substitution(M)"
      ],
      "metadata": {
        "id": "QcP3ezV1CyMd"
      },
      "execution_count": 34,
      "outputs": []
    },
    {
      "cell_type": "code",
      "source": [
        "for i in range(1,13) :\n",
        "    print(f'{i:2} : {mu[i-1]}')"
      ],
      "metadata": {
        "colab": {
          "base_uri": "https://localhost:8080/"
        },
        "id": "vRrZEXB3D9hM",
        "outputId": "423e06a1-043b-44ba-f2ec-e790c45258ec"
      },
      "execution_count": 35,
      "outputs": [
        {
          "output_type": "stream",
          "name": "stdout",
          "text": [
            " 1 : 2.0000000000000013\n",
            " 2 : 1.0000000000000009\n",
            " 3 : 1.0000000000000007\n",
            " 4 : 1.000000000000001\n",
            " 5 : 2.9999999999999996\n",
            " 6 : 0.9999999999999998\n",
            " 7 : 1.9999999999999996\n",
            " 8 : 0.9999999999999998\n",
            " 9 : 1.9999999999999996\n",
            "10 : 0.9999999999999999\n",
            "11 : 0.9999999999999997\n",
            "12 : 1\n"
          ]
        }
      ]
    },
    {
      "cell_type": "markdown",
      "source": [
        "Solution obtenue par `PageRank` :"
      ],
      "metadata": {
        "id": "H6bsNIrRDir9"
      }
    },
    {
      "cell_type": "code",
      "source": [
        "mu = PageRank(web)"
      ],
      "metadata": {
        "id": "42qMCxLcDgE8"
      },
      "execution_count": 36,
      "outputs": []
    },
    {
      "cell_type": "code",
      "source": [
        "for i in range(1,13) :\n",
        "    print(f'{i:2} : {mu[i-1]}')"
      ],
      "metadata": {
        "colab": {
          "base_uri": "https://localhost:8080/"
        },
        "id": "7MgotxTpDsws",
        "outputId": "f6384741-f6eb-428a-d0c3-74cefc4f7832"
      },
      "execution_count": 37,
      "outputs": [
        {
          "output_type": "stream",
          "name": "stdout",
          "text": [
            " 1 : 0.12030504554607914\n",
            " 2 : 0.06619969031496217\n",
            " 3 : 0.06619969031496217\n",
            " 4 : 0.06619969031496217\n",
            " 5 : 0.15021127469514933\n",
            " 6 : 0.05505986091618707\n",
            " 7 : 0.10186074244750752\n",
            " 8 : 0.05505986091618707\n",
            " 9 : 0.12030504554607914\n",
            "10 : 0.06619969031496217\n",
            "11 : 0.06619969031496217\n",
            "12 : 0.06619969031496217\n"
          ]
        }
      ]
    },
    {
      "cell_type": "markdown",
      "source": [
        "Fonction permettant de tester si un graphe est connexe :"
      ],
      "metadata": {
        "id": "rgGf4ND1bSOg"
      }
    },
    {
      "cell_type": "code",
      "source": [
        "from collections import deque\n",
        "\n",
        "def test_connexe(G):\n",
        "    \"\"\"\n",
        "    retourne True si le graphe G est connexe\n",
        "    \"\"\"\n",
        "    Vus_tous = {S : False for S in G}\n",
        "    nb_domaines = 0\n",
        "    for S in G :\n",
        "        if not Vus_tous[S] :\n",
        "            file = deque()\n",
        "            file.append(S)\n",
        "            Vus = {}\n",
        "            while file :\n",
        "                sommet = file.popleft()\n",
        "                if not sommet in Vus :\n",
        "                    file += G[sommet]\n",
        "                    Vus[sommet] = True\n",
        "                    Vus_tous[sommet] = True\n",
        "            nb_domaines += 1\n",
        "    return nb_domaines == 1"
      ],
      "metadata": {
        "id": "2Ce4bZXgMDaI"
      },
      "execution_count": 126,
      "outputs": []
    },
    {
      "cell_type": "code",
      "source": [
        "web = {1:[2,3,4,5],\n",
        "       2:[1,3],\n",
        "       3:[1,4],\n",
        "       4:[1,2],\n",
        "       5:[6,7,8],\n",
        "       6:[1,7],\n",
        "       7:[5],\n",
        "       8:[7,9],\n",
        "       9:[5,10,11,12],\n",
        "       10:[9,11],\n",
        "       11:[9,12],\n",
        "       12:[9,10]}\n",
        "\n",
        "G = {1 : [2,3],\n",
        "     2 : [1,3],\n",
        "     3 : [1,2],\n",
        "     4 : [5],\n",
        "     5 : []}"
      ],
      "metadata": {
        "id": "NFJ2_3YFfFaw"
      },
      "execution_count": 129,
      "outputs": []
    },
    {
      "cell_type": "code",
      "source": [
        "print(f\"Le graphe web est connexe : {test_connexe(web)}\")\n",
        "print(f\"Le graphe G est connexe : {test_connexe(G)}\")"
      ],
      "metadata": {
        "colab": {
          "base_uri": "https://localhost:8080/"
        },
        "id": "x0r10_wOfZDn",
        "outputId": "a367706d-9a2c-42ae-c46e-e37a626ad81b"
      },
      "execution_count": 53,
      "outputs": [
        {
          "output_type": "stream",
          "name": "stdout",
          "text": [
            "Le graphe web est connexe : True\n",
            "Le graphe G est connexe : False\n"
          ]
        }
      ]
    },
    {
      "cell_type": "markdown",
      "source": [
        "Fonction permettant de créer un graphe connexe de taille $n$ avec un nombre de liens variant aléatoirement entre deux valeurs."
      ],
      "metadata": {
        "id": "w4hck_5VSf6G"
      }
    },
    {
      "cell_type": "code",
      "source": [
        "from random import randint\n",
        "def fabweb(n: int,nbliens: tuple) -> dict:\n",
        "    test = True\n",
        "    # Tant que pas connexe, on recommence\n",
        "    while test :\n",
        "        web = {}\n",
        "        for i in range(1,n+1) :\n",
        "            liens = []\n",
        "            for j in range(randint(*nbliens)) :\n",
        "                x = randint(1,n)\n",
        "                if x not in liens and x != i :\n",
        "                    liens.append(x)\n",
        "            web[i] = liens\n",
        "        test = test_connexe(web)\n",
        "    return web"
      ],
      "metadata": {
        "id": "G9pdhzPsbN90"
      },
      "execution_count": 63,
      "outputs": []
    },
    {
      "cell_type": "code",
      "source": [
        "def renverse(G) :\n",
        "    Gt = {k : [] for k in G}\n",
        "    for k in G :\n",
        "        for s in G[k] :\n",
        "            Gt[s].append(k)\n",
        "    return Gt\n",
        "\n",
        "def DFStopo(G,s,Vus,Ordo) :\n",
        "    Vus[s] = True\n",
        "    for sommet in G[s] :\n",
        "        if sommet not in Vus :\n",
        "            DFStopo(G,sommet,Vus,Ordo)\n",
        "    Ordo.append(s)\n",
        "    \n",
        "def toposort(G) :\n",
        "    Vus = {}\n",
        "    Ordo = []\n",
        "    for s in G :\n",
        "        if s not in Vus :\n",
        "            DFStopo(G,s,Vus,Ordo)\n",
        "    return Ordo[::-1]\n",
        "\n",
        "def DFS_SCC(G,s,Vus,SCC) :\n",
        "    Vus[s] = True\n",
        "    SCC[-1].append(s)\n",
        "    for sommet in G[s] :\n",
        "        if sommet not in Vus :\n",
        "            DFS_SCC(G,sommet,Vus,SCC)\n",
        "\n",
        "def Kosaraju(G) :\n",
        "    Gt = renverse(G)\n",
        "    Ordo = toposort(Gt)\n",
        "    Vus = {}\n",
        "    SCC = []\n",
        "    for s in Ordo :\n",
        "        if s not in Vus :\n",
        "            SCC.append([])\n",
        "            DFS_SCC(G,s,Vus,SCC)\n",
        "    return SCC[::-1]"
      ],
      "metadata": {
        "id": "CJ00cdTXSc3I"
      },
      "execution_count": 74,
      "outputs": []
    },
    {
      "cell_type": "markdown",
      "source": [
        "`Kosaraju` permet de décomposer un graphe en ses composantes simplement connexes (dans une composante simplement connexe, depuis chaque sommet, on peut atteindre tous les autres).<br>\n",
        "Si le graphe contient plus d'une composante, on aura un trou noir et un `PageRank` sans téléportation tombera dedans !"
      ],
      "metadata": {
        "id": "c8v4aauIkw03"
      }
    },
    {
      "cell_type": "code",
      "source": [
        "def PageRankSansTeleport(web: dict) -> list:\n",
        "\tn = len(web)\n",
        "\tmu_avant = [1/n for i in range(n)]\n",
        "\tmu_apres = [0 for i in range(n)]\n",
        "\ttest = True\n",
        "\twhile test :\n",
        "\t\tfor i in range(n) :\n",
        "\t\t\tS = 0\n",
        "\t\t\tfor j in web :\n",
        "\t\t\t\tif i+1 in web[j] :\n",
        "\t\t\t\t\tS += 1/len(web[j])*mu_avant[j-1]\n",
        "\t\t\tmu_apres[i] = S\n",
        "\t\ttest = False\n",
        "\t\tfor i in range(n) :\n",
        "\t\t\tif abs(mu_apres[i]-mu_avant[i])>1e-9 :\n",
        "\t\t\t\ttest = True\n",
        "\t\tmu_avant[:] = mu_apres[:]\n",
        "\treturn mu_apres"
      ],
      "metadata": {
        "id": "nuMCurgQlprO"
      },
      "execution_count": 77,
      "outputs": []
    },
    {
      "cell_type": "markdown",
      "source": [
        "Plaçons nous dans la situation de la question 27 :"
      ],
      "metadata": {
        "id": "jxLsVDg2r3W7"
      }
    },
    {
      "cell_type": "code",
      "source": [
        "web[12].append(13)\n",
        "web[13]=[13]"
      ],
      "metadata": {
        "id": "HWCZ44yUUwo8"
      },
      "execution_count": 130,
      "outputs": []
    },
    {
      "cell_type": "code",
      "source": [
        "SCC = Kosaraju(web)\n",
        "print(f\"nombr de domaines simplement connexes : {len(SCC)}\")\n",
        "for i,dom in enumerate(SCC,1) :\n",
        "    print(f\"domaine {i} : {dom}\")"
      ],
      "metadata": {
        "colab": {
          "base_uri": "https://localhost:8080/"
        },
        "id": "viWe-JaRTDOZ",
        "outputId": "6bcfb437-a3f6-4f23-b47d-06a96df2edbe"
      },
      "execution_count": 132,
      "outputs": [
        {
          "output_type": "stream",
          "name": "stdout",
          "text": [
            "nombr de domaines simplement connexes : 2\n",
            "domaine 1 : [1, 2, 3, 4, 5, 6, 7, 8, 9, 10, 11, 12]\n",
            "domaine 2 : [13]\n"
          ]
        }
      ]
    },
    {
      "cell_type": "markdown",
      "source": [
        "Pour vérifier le rang d'une matrice :"
      ],
      "metadata": {
        "id": "y-Em4YKqrR62"
      }
    },
    {
      "cell_type": "code",
      "source": [
        "import numpy as np\n",
        "\n",
        "print(f\"rang de la matrice : {np.linalg.matrix_rank(M)}\")"
      ],
      "metadata": {
        "colab": {
          "base_uri": "https://localhost:8080/"
        },
        "id": "28PdfpFWOfzb",
        "outputId": "cdf7f8b9-fd3b-47f8-caa3-0db12e38be55"
      },
      "execution_count": 127,
      "outputs": [
        {
          "output_type": "stream",
          "name": "stdout",
          "text": [
            "rang de la matrice : 749\n"
          ]
        }
      ]
    },
    {
      "cell_type": "markdown",
      "source": [
        "Comparaison de l'obtention de $\\mu$ avec `Gauss` et avec `PageRank` :"
      ],
      "metadata": {
        "id": "s4wM4E3zraEc"
      }
    },
    {
      "cell_type": "code",
      "source": [
        "from time import time\n",
        "import matplotlib.pyplot as plt\n",
        "plt.style.use('seaborn')\n",
        "plt.rcParams['figure.figsize'] = (15, 10)"
      ],
      "metadata": {
        "id": "2PVCo2TyE61o"
      },
      "execution_count": 122,
      "outputs": []
    },
    {
      "cell_type": "code",
      "source": [
        "Tailles = [75*i for i in range(1,13)]\n",
        "Tgauss, Tpage = [], []\n",
        "for t in Tailles :\n",
        "    print(f\"n = {t}\")\n",
        "    grosweb = fabweb(t,(5,15))\n",
        "    M = dictosyst(grosweb)\n",
        "    start1 = time()\n",
        "    Gauss(M,recherchePivotPartiel)\n",
        "    muGauss = substitution(M)\n",
        "    stop1 = time()\n",
        "    Tgauss.append(stop1-start1)\n",
        "    muGausstri = muGauss[:]\n",
        "    muGausstri.sort()\n",
        "    print(\"  Top 5 Gauss : \",end=\"\")\n",
        "    for i in range(5) :\n",
        "        print(f\"{muGauss.index(muGausstri[i]):4}\",end=\"\")\n",
        "    start2 = time()\n",
        "    muPage = PageRank(grosweb)\n",
        "    stop2 = time()\n",
        "    Tpage.append(stop2-start2)\n",
        "    muPagetri = muPage[:]\n",
        "    muPagetri.sort()\n",
        "    print(\"\\n  Top 5 Page :  \",end=\"\")\n",
        "    for i in range(5) :\n",
        "        print(f\"{muPage.index(muPagetri[i]):4}\",end=\"\")\n",
        "    print(\"\\n\")\n",
        "plt.plot(Tailles,Tgauss,\"o--\",label=\"Gauss\")\n",
        "plt.plot(Tailles,Tpage,\"o--\",label=\"PageRank\")\n",
        "plt.legend()"
      ],
      "metadata": {
        "colab": {
          "base_uri": "https://localhost:8080/",
          "height": 1000
        },
        "id": "1TVk99fGH-jy",
        "outputId": "f7d085e7-e8c4-4b60-efa7-a22ce5224777"
      },
      "execution_count": 135,
      "outputs": [
        {
          "output_type": "stream",
          "name": "stdout",
          "text": [
            "n = 75\n",
            "  Top 5 Gauss :   18  26  69  12  57\n",
            "  Top 5 Page :    18  26  69  12  57\n",
            "\n",
            "n = 150\n",
            "  Top 5 Gauss :  103  54 147  32   7\n",
            "  Top 5 Page :   103  54 147  32   7\n",
            "\n",
            "n = 225\n",
            "  Top 5 Gauss :   32 175  71 180 115\n",
            "  Top 5 Page :    32 175  71 180 115\n",
            "\n",
            "n = 300\n",
            "  Top 5 Gauss :  293 207  66  41 126\n",
            "  Top 5 Page :   293 207  66  41 126\n",
            "\n",
            "n = 375\n",
            "  Top 5 Gauss :   18 137  90 333  51\n",
            "  Top 5 Page :    18 137  90 333  51\n",
            "\n",
            "n = 450\n",
            "  Top 5 Gauss :  232 409 119 393  31\n",
            "  Top 5 Page :   232 409 119 393  31\n",
            "\n",
            "n = 525\n",
            "  Top 5 Gauss :  484 264 422 339 110\n",
            "  Top 5 Page :   484 264 422 110 339\n",
            "\n",
            "n = 600\n",
            "  Top 5 Gauss :   14 577 128 378 520\n",
            "  Top 5 Page :    14 577 128 378 520\n",
            "\n",
            "n = 675\n",
            "  Top 5 Gauss :   88 170 669 105 101\n",
            "  Top 5 Page :    88 170 669 105 101\n",
            "\n",
            "n = 750\n",
            "  Top 5 Gauss :  685  14 263 554  96\n",
            "  Top 5 Page :   685  14 263 554 359\n",
            "\n",
            "n = 825\n",
            "  Top 5 Gauss :   25 650  81 638 456\n",
            "  Top 5 Page :    25 650  81 638 456\n",
            "\n",
            "n = 900\n",
            "  Top 5 Gauss :  404 572 497 157 408\n",
            "  Top 5 Page :   404 572 497 157 408\n",
            "\n"
          ]
        },
        {
          "output_type": "execute_result",
          "data": {
            "text/plain": [
              "<matplotlib.legend.Legend at 0x7f90fb977310>"
            ]
          },
          "metadata": {},
          "execution_count": 135
        },
        {
          "output_type": "display_data",
          "data": {
            "text/plain": [
              "<Figure size 1080x720 with 1 Axes>"
            ],
            "image/png": "[encoded data removed]"
          },
          "metadata": {}
        }
      ]
    },
    {
      "cell_type": "code",
      "source": [],
      "metadata": {
        "id": "BaMWdFuXJxmt"
      },
      "execution_count": null,
      "outputs": []
    }
  ]
}