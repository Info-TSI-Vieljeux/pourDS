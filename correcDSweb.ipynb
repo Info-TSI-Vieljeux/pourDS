{
  "nbformat": 4,
  "nbformat_minor": 0,
  "metadata": {
    "colab": {
      "provenance": [],
      "collapsed_sections": [],
      "authorship_tag": "ABX9TyMgOJsVGFcK53+4EmuIP3ub",
      "include_colab_link": true
    },
    "kernelspec": {
      "name": "python3",
      "display_name": "Python 3"
    },
    "language_info": {
      "name": "python"
    }
  },
  "cells": [
    {
      "cell_type": "markdown",
      "metadata": {
        "id": "view-in-github",
        "colab_type": "text"
      },
      "source": [
        "<a href=\"https://colab.research.google.com/github/Info-TSI-Vieljeux/pourDS/blob/main/correcDSweb.ipynb\" target=\"_parent\"><img src=\"https://colab.research.google.com/assets/colab-badge.svg\" alt=\"Open In Colab\"/></a>"
      ]
    },
    {
      "cell_type": "markdown",
      "source": [
        "# Correction du deuxième DS (TSI2, 2022)"
      ],
      "metadata": {
        "id": "Gp4111e1osqX"
      }
    },
    {
      "cell_type": "code",
      "source": [
        "!git clone https://github.com/Info-TSI-Vieljeux/pourDS"
      ],
      "metadata": {
        "colab": {
          "base_uri": "https://localhost:8080/"
        },
        "id": "AsGY1DP6uWfP",
        "outputId": "fb51acbb-754b-4646-b108-8ae54372ca7d"
      },
      "execution_count": 1,
      "outputs": [
        {
          "output_type": "stream",
          "name": "stdout",
          "text": [
            "Cloning into 'pourDS'...\n",
            "remote: Enumerating objects: 13, done.\u001b[K\n",
            "remote: Counting objects: 100% (13/13), done.\u001b[K\n",
            "remote: Compressing objects: 100% (12/12), done.\u001b[K\n",
            "remote: Total 13 (delta 0), reused 0 (delta 0), pack-reused 0\u001b[K\n",
            "Unpacking objects: 100% (13/13), done.\n"
          ]
        }
      ]
    },
    {
      "cell_type": "markdown",
      "source": [
        "# L’algorithme PageRank de Google\n"
      ],
      "metadata": {
        "id": "A0YOadfexVQy"
      }
    },
    {
      "cell_type": "markdown",
      "source": [
        "Cela fait plus de 20 ans que Google domine le marché des moteurs de recherche. Cette longévité semble indiquer une réelle pertinence des résultats fournis.\n",
        "Depuis sa conception en 1998, l’algorithme de recherche de Google continue d’évoluer et la plupart des améliorations demeurent des secrets industriels. L’idée principale, par contre, est connue puisqu’elle est l’objet d’une célèbre publication de Sergueï Brin et Larry Page (les cofondateurs) : The anatomy of a large-scale hypertextual web search engine. Stanford University, 1998. Le fonctionnement de PageRank, l’algorithme au centre du moteur de recherche, y est détaillé."
      ],
      "metadata": {
        "id": "nwuy93DuxSo4"
      }
    },
    {
      "cell_type": "markdown",
      "source": [
        "##I. Une base de données du Web"
      ],
      "metadata": {
        "id": "feTtTeFilM1D"
      }
    },
    {
      "cell_type": "markdown",
      "source": [
        "Imaginons qu’il existe un registre complet de l’internet structuré sous la forme d’une base de données relationnelle. \n",
        "On supposera dans la suite que chaque nouvelle page web créée entraîne un enregistrement sur une base de données constituée des 3 tables décrites ci-dessous :"
      ],
      "metadata": {
        "id": "BkeFMjulxdMn"
      }
    },
    {
      "cell_type": "markdown",
      "source": [
        "<img src=\"https://github.com/Info-TSI-Vieljeux/pourDS/blob/main/tableDS1.png?raw=true\"/>"
      ],
      "metadata": {
        "id": "UxNPiSgJvjvP"
      }
    },
    {
      "cell_type": "markdown",
      "source": [
        "Le contenu des trois tables pour un internet lilliputien imaginaire :"
      ],
      "metadata": {
        "id": "xp_b2ZdqxgzF"
      }
    },
    {
      "cell_type": "markdown",
      "source": [
        "<img src=\"https://github.com/Info-TSI-Vieljeux/pourDS/blob/main/tableDS2.png?raw=true\"/>"
      ],
      "metadata": {
        "id": "NLzw3iLRx73O"
      }
    },
    {
      "cell_type": "markdown",
      "source": [
        "1. Que désignent les deux colonnes dans les\n",
        "trois premiers tableaux (présentant les tables) ?"
      ],
      "metadata": {
        "id": "gs8L2-i7lXad"
      }
    },
    {
      "cell_type": "markdown",
      "source": [
        "> - colonne 1 : les attributs\n",
        "> - colonne 2 : les domaines"
      ],
      "metadata": {
        "id": "yWbv0hOfn3fR"
      }
    },
    {
      "cell_type": "markdown",
      "source": [
        "2. Quel(s) attribut(s) et/ou association(s) d’attributs de la table 1 peut/peuvent-il(s) servir de clé primaire ?"
      ],
      "metadata": {
        "id": "WnbqDmHWliEM"
      }
    },
    {
      "cell_type": "markdown",
      "source": [
        "> \"`page`\", \"`site`\"+\"`page`\", \"`page`\"+\"`creation`\",  \"`site`\"+\"`page`\"+\"`creation`\""
      ],
      "metadata": {
        "id": "ILeI_s-yn0uB"
      }
    },
    {
      "cell_type": "markdown",
      "source": [
        "3. Écrivez une requête SQL qui permet d’obtenir les **pages** créées avant 2010 en se limitant à 3 résultats."
      ],
      "metadata": {
        "id": "J1oWUrkpnp5T"
      }
    },
    {
      "cell_type": "code",
      "source": [
        "%load_ext sql\n",
        "%sql sqlite:///pourDS/DS.db"
      ],
      "metadata": {
        "colab": {
          "base_uri": "https://localhost:8080/",
          "height": 37
        },
        "id": "voDoN_7HnKGy",
        "outputId": "c5547fc3-917a-44d8-faa8-c1d70a09c444"
      },
      "execution_count": 3,
      "outputs": [
        {
          "output_type": "execute_result",
          "data": {
            "text/plain": [
              "'Connected: @pourDS/DS.db'"
            ],
            "application/vnd.google.colaboratory.intrinsic+json": {
              "type": "string"
            }
          },
          "metadata": {},
          "execution_count": 3
        }
      ]
    },
    {
      "cell_type": "code",
      "source": [
        "%%sql qu3 <<\n",
        "\n",
        "SELECT page\n",
        "FROM table1\n",
        "WHERE creation < 2010\n",
        "LIMIT 3;"
      ],
      "metadata": {
        "colab": {
          "base_uri": "https://localhost:8080/"
        },
        "id": "vLrDqeNZnMcL",
        "outputId": "e23cae85-5db0-4ca4-c9cb-2e9e5c31da86"
      },
      "execution_count": 6,
      "outputs": [
        {
          "output_type": "stream",
          "name": "stdout",
          "text": [
            " * sqlite:///pourDS/DS.db\n",
            "Done.\n",
            "Returning data to local variable qu3\n"
          ]
        }
      ]
    },
    {
      "cell_type": "code",
      "source": [
        "qu3"
      ],
      "metadata": {
        "colab": {
          "base_uri": "https://localhost:8080/",
          "height": 103
        },
        "id": "2cI7iezXng9m",
        "outputId": "fa3fe8da-5ebd-4311-ba44-18932ebff50e"
      },
      "execution_count": 7,
      "outputs": [
        {
          "output_type": "execute_result",
          "data": {
            "text/plain": [
              "[('b.com/index.html',), ('b.com/1/index.html',), ('b.com/2/index.html',)]"
            ],
            "text/html": [
              "<table>\n",
              "    <thead>\n",
              "        <tr>\n",
              "            <th>page</th>\n",
              "        </tr>\n",
              "    </thead>\n",
              "    <tbody>\n",
              "        <tr>\n",
              "            <td>b.com/index.html</td>\n",
              "        </tr>\n",
              "        <tr>\n",
              "            <td>b.com/1/index.html</td>\n",
              "        </tr>\n",
              "        <tr>\n",
              "            <td>b.com/2/index.html</td>\n",
              "        </tr>\n",
              "    </tbody>\n",
              "</table>"
            ]
          },
          "metadata": {},
          "execution_count": 7
        }
      ]
    },
    {
      "cell_type": "markdown",
      "source": [
        "4. Écrivez une requête SQL permettant de compter, pour chaque **site**, le nombre de pages qu’il contient (les en-têtes de la table affichée devront être « `site` » et « `nb pages` »).\n"
      ],
      "metadata": {
        "id": "f8I_SjfGnk8k"
      }
    },
    {
      "cell_type": "code",
      "source": [
        "%%sql qu4 <<\n",
        "\n",
        "SELECT site, COUNT(page) AS \"nb pages\"\n",
        "FROM table1\n",
        "GROUP BY site;"
      ],
      "metadata": {
        "colab": {
          "base_uri": "https://localhost:8080/"
        },
        "id": "cO4Gq32eoVxm",
        "outputId": "36338d21-448b-43ee-c05b-54e82d7e0bd4"
      },
      "execution_count": 8,
      "outputs": [
        {
          "output_type": "stream",
          "name": "stdout",
          "text": [
            " * sqlite:///pourDS/DS.db\n",
            "Done.\n",
            "Returning data to local variable qu4\n"
          ]
        }
      ]
    },
    {
      "cell_type": "code",
      "source": [
        "qu4"
      ],
      "metadata": {
        "colab": {
          "base_uri": "https://localhost:8080/",
          "height": 124
        },
        "id": "BXoaIDHUocd8",
        "outputId": "31fc0ca4-c838-48d9-aeb4-c2db3eb7f34e"
      },
      "execution_count": 9,
      "outputs": [
        {
          "output_type": "execute_result",
          "data": {
            "text/plain": [
              "[('a.io', 3), ('b.com', 3), ('c.fr', 2), ('d.edu', 1)]"
            ],
            "text/html": [
              "<table>\n",
              "    <thead>\n",
              "        <tr>\n",
              "            <th>site</th>\n",
              "            <th>nb pages</th>\n",
              "        </tr>\n",
              "    </thead>\n",
              "    <tbody>\n",
              "        <tr>\n",
              "            <td>a.io</td>\n",
              "            <td>3</td>\n",
              "        </tr>\n",
              "        <tr>\n",
              "            <td>b.com</td>\n",
              "            <td>3</td>\n",
              "        </tr>\n",
              "        <tr>\n",
              "            <td>c.fr</td>\n",
              "            <td>2</td>\n",
              "        </tr>\n",
              "        <tr>\n",
              "            <td>d.edu</td>\n",
              "            <td>1</td>\n",
              "        </tr>\n",
              "    </tbody>\n",
              "</table>"
            ]
          },
          "metadata": {},
          "execution_count": 9
        }
      ]
    },
    {
      "cell_type": "markdown",
      "source": [
        "5. Écrivez une requête SQL n’affichant que les pages ayant au moins 2 liens sortants ainsi que leur nombre de liens sortants."
      ],
      "metadata": {
        "id": "Nn1t3Et0ohlq"
      }
    },
    {
      "cell_type": "code",
      "source": [
        "%%sql qu5 <<\n",
        "\n",
        "SELECT page, COUNT(liensortant) AS nb\n",
        "FROM table2\n",
        "GROUP BY page\n",
        "HAVING nb >= 2;"
      ],
      "metadata": {
        "colab": {
          "base_uri": "https://localhost:8080/"
        },
        "id": "sspYhUVSoi2w",
        "outputId": "429f8e53-7a05-4ef4-fab7-a165bbe451cb"
      },
      "execution_count": 10,
      "outputs": [
        {
          "output_type": "stream",
          "name": "stdout",
          "text": [
            " * sqlite:///pourDS/DS.db\n",
            "Done.\n",
            "Returning data to local variable qu5\n"
          ]
        }
      ]
    },
    {
      "cell_type": "code",
      "source": [
        "qu5"
      ],
      "metadata": {
        "colab": {
          "base_uri": "https://localhost:8080/",
          "height": 145
        },
        "id": "zMjTeRDUonPw",
        "outputId": "d54b2e69-e4d7-4559-c2d0-e50fe0657a22"
      },
      "execution_count": 11,
      "outputs": [
        {
          "output_type": "execute_result",
          "data": {
            "text/plain": [
              "[('a.io/1/index.html', 2),\n",
              " ('a.io/index.html', 2),\n",
              " ('b.com/1/index.html', 3),\n",
              " ('b.com/index.html', 3),\n",
              " ('c.fr/index.html', 2)]"
            ],
            "text/html": [
              "<table>\n",
              "    <thead>\n",
              "        <tr>\n",
              "            <th>page</th>\n",
              "            <th>nb</th>\n",
              "        </tr>\n",
              "    </thead>\n",
              "    <tbody>\n",
              "        <tr>\n",
              "            <td>a.io/1/index.html</td>\n",
              "            <td>2</td>\n",
              "        </tr>\n",
              "        <tr>\n",
              "            <td>a.io/index.html</td>\n",
              "            <td>2</td>\n",
              "        </tr>\n",
              "        <tr>\n",
              "            <td>b.com/1/index.html</td>\n",
              "            <td>3</td>\n",
              "        </tr>\n",
              "        <tr>\n",
              "            <td>b.com/index.html</td>\n",
              "            <td>3</td>\n",
              "        </tr>\n",
              "        <tr>\n",
              "            <td>c.fr/index.html</td>\n",
              "            <td>2</td>\n",
              "        </tr>\n",
              "    </tbody>\n",
              "</table>"
            ]
          },
          "metadata": {},
          "execution_count": 11
        }
      ]
    },
    {
      "cell_type": "markdown",
      "source": [
        "6. Écrivez une requête SQL qui permet d’obtenir les **sites** et les pages contenant un lien vers `d.edu/index.htm`."
      ],
      "metadata": {
        "id": "vg3tgUKTo436"
      }
    },
    {
      "cell_type": "code",
      "source": [
        "%%sql qu6 <<\n",
        "\n",
        "SELECT table1.site, table1.page\n",
        "FROM table1 JOIN table2 ON table1.page = table2.page\n",
        "WHERE table2.liensortant = \"d.edu/index.html\";"
      ],
      "metadata": {
        "colab": {
          "base_uri": "https://localhost:8080/"
        },
        "id": "7zGLm3auwjKH",
        "outputId": "813bbce3-f629-417e-a1e4-b3bdbb615b1c"
      },
      "execution_count": 4,
      "outputs": [
        {
          "output_type": "stream",
          "name": "stdout",
          "text": [
            " * sqlite:///pourDS/DS.db\n",
            "Done.\n",
            "Returning data to local variable qu6\n"
          ]
        }
      ]
    },
    {
      "cell_type": "code",
      "source": [
        "qu6"
      ],
      "metadata": {
        "colab": {
          "base_uri": "https://localhost:8080/",
          "height": 103
        },
        "id": "cR7Gye_vwsPO",
        "outputId": "e25cb618-edad-4743-fd01-d392f5c1bb3f"
      },
      "execution_count": 5,
      "outputs": [
        {
          "output_type": "execute_result",
          "data": {
            "text/plain": [
              "[('a.io', 'a.io/1/index.html'),\n",
              " ('b.com', 'b.com/2/index.html'),\n",
              " ('b.com', 'b.com/index.html')]"
            ],
            "text/html": [
              "<table>\n",
              "    <thead>\n",
              "        <tr>\n",
              "            <th>site</th>\n",
              "            <th>page</th>\n",
              "        </tr>\n",
              "    </thead>\n",
              "    <tbody>\n",
              "        <tr>\n",
              "            <td>a.io</td>\n",
              "            <td>a.io/1/index.html</td>\n",
              "        </tr>\n",
              "        <tr>\n",
              "            <td>b.com</td>\n",
              "            <td>b.com/2/index.html</td>\n",
              "        </tr>\n",
              "        <tr>\n",
              "            <td>b.com</td>\n",
              "            <td>b.com/index.html</td>\n",
              "        </tr>\n",
              "    </tbody>\n",
              "</table>"
            ]
          },
          "metadata": {},
          "execution_count": 5
        }
      ]
    },
    {
      "cell_type": "markdown",
      "source": [
        "7. Écrivez une requête SQL calculant, pour chaque **page**, sa « popularité », où la popularité est définie comme le nombre de liens pointant vers la page (on supposera pour simplifier que chaque page a au moins un lien pointant vers elle)."
      ],
      "metadata": {
        "id": "ZMjxz6nkww7k"
      }
    },
    {
      "cell_type": "code",
      "source": [
        "%%sql qu7 <<\n",
        "\n",
        "SELECT table1.page, COUNT(liensortant) AS popularity\n",
        "FROM table1 JOIN table2 ON table1.page = table2.liensortant\n",
        "GROUP BY table1.page;"
      ],
      "metadata": {
        "colab": {
          "base_uri": "https://localhost:8080/"
        },
        "id": "5XdSPUq8wujT",
        "outputId": "11b2f53f-26fc-44a9-93f8-c6772ceb31db"
      },
      "execution_count": 6,
      "outputs": [
        {
          "output_type": "stream",
          "name": "stdout",
          "text": [
            " * sqlite:///pourDS/DS.db\n",
            "Done.\n",
            "Returning data to local variable qu7\n"
          ]
        }
      ]
    },
    {
      "cell_type": "code",
      "source": [
        "qu7"
      ],
      "metadata": {
        "colab": {
          "base_uri": "https://localhost:8080/",
          "height": 229
        },
        "id": "_EUlX6glw6yt",
        "outputId": "10dce9cb-c345-4ffb-9175-db04fab22bf0"
      },
      "execution_count": 7,
      "outputs": [
        {
          "output_type": "execute_result",
          "data": {
            "text/plain": [
              "[('a.io/1/index.html', 2),\n",
              " ('a.io/2/index.html', 1),\n",
              " ('a.io/index.html', 1),\n",
              " ('b.com/1/index.html', 1),\n",
              " ('b.com/2/index.html', 3),\n",
              " ('b.com/index.html', 1),\n",
              " ('c.fr/1/index.html', 1),\n",
              " ('c.fr/index.html', 1),\n",
              " ('d.edu/index.html', 3)]"
            ],
            "text/html": [
              "<table>\n",
              "    <thead>\n",
              "        <tr>\n",
              "            <th>page</th>\n",
              "            <th>popularity</th>\n",
              "        </tr>\n",
              "    </thead>\n",
              "    <tbody>\n",
              "        <tr>\n",
              "            <td>a.io/1/index.html</td>\n",
              "            <td>2</td>\n",
              "        </tr>\n",
              "        <tr>\n",
              "            <td>a.io/2/index.html</td>\n",
              "            <td>1</td>\n",
              "        </tr>\n",
              "        <tr>\n",
              "            <td>a.io/index.html</td>\n",
              "            <td>1</td>\n",
              "        </tr>\n",
              "        <tr>\n",
              "            <td>b.com/1/index.html</td>\n",
              "            <td>1</td>\n",
              "        </tr>\n",
              "        <tr>\n",
              "            <td>b.com/2/index.html</td>\n",
              "            <td>3</td>\n",
              "        </tr>\n",
              "        <tr>\n",
              "            <td>b.com/index.html</td>\n",
              "            <td>1</td>\n",
              "        </tr>\n",
              "        <tr>\n",
              "            <td>c.fr/1/index.html</td>\n",
              "            <td>1</td>\n",
              "        </tr>\n",
              "        <tr>\n",
              "            <td>c.fr/index.html</td>\n",
              "            <td>1</td>\n",
              "        </tr>\n",
              "        <tr>\n",
              "            <td>d.edu/index.html</td>\n",
              "            <td>3</td>\n",
              "        </tr>\n",
              "    </tbody>\n",
              "</table>"
            ]
          },
          "metadata": {},
          "execution_count": 7
        }
      ]
    },
    {
      "cell_type": "markdown",
      "source": [
        "8. Écrivez une requête SQL qui classe, pour le mot de clé « base », les pages où il est présent, dans l’ordre décroissant de leur popularité telle que définie à la question précédente."
      ],
      "metadata": {
        "id": "FNBOtBHGw-cC"
      }
    },
    {
      "cell_type": "code",
      "source": [
        "%%sql qu8 <<\n",
        "\n",
        "SELECT grossetable.page, popularity\n",
        "FROM ((SELECT table1.page, COUNT(liensortant) AS popularity\n",
        "\t    FROM table1 JOIN table2 ON table1.page = table2.liensortant\n",
        "              GROUP BY table1.page) AS popu\n",
        "              JOIN table3 ON popu.page = table3.page) AS grossetable\n",
        "WHERE grossetable.keyword = \"base\"\n",
        "ORDER BY popularity DESC;"
      ],
      "metadata": {
        "colab": {
          "base_uri": "https://localhost:8080/"
        },
        "id": "ZSd4VgcdxEOA",
        "outputId": "9ea03925-4e8a-4ddd-beb0-66c9912ce791"
      },
      "execution_count": 9,
      "outputs": [
        {
          "output_type": "stream",
          "name": "stdout",
          "text": [
            " * sqlite:///pourDS/DS.db\n",
            "Done.\n",
            "Returning data to local variable qu8\n"
          ]
        }
      ]
    },
    {
      "cell_type": "code",
      "source": [
        "qu8"
      ],
      "metadata": {
        "colab": {
          "base_uri": "https://localhost:8080/",
          "height": 145
        },
        "id": "-70Gm2bJxJPa",
        "outputId": "5eb9667e-6785-4fdc-f46b-77a7e8b7871b"
      },
      "execution_count": 10,
      "outputs": [
        {
          "output_type": "execute_result",
          "data": {
            "text/plain": [
              "[('d.edu/index.html', 3),\n",
              " ('a.io/1/index.html', 2),\n",
              " ('a.io/index.html', 1),\n",
              " ('c.fr/1/index.html', 1),\n",
              " ('a.io/2/index.html', 1)]"
            ],
            "text/html": [
              "<table>\n",
              "    <thead>\n",
              "        <tr>\n",
              "            <th>page</th>\n",
              "            <th>popularity</th>\n",
              "        </tr>\n",
              "    </thead>\n",
              "    <tbody>\n",
              "        <tr>\n",
              "            <td>d.edu/index.html</td>\n",
              "            <td>3</td>\n",
              "        </tr>\n",
              "        <tr>\n",
              "            <td>a.io/1/index.html</td>\n",
              "            <td>2</td>\n",
              "        </tr>\n",
              "        <tr>\n",
              "            <td>a.io/index.html</td>\n",
              "            <td>1</td>\n",
              "        </tr>\n",
              "        <tr>\n",
              "            <td>c.fr/1/index.html</td>\n",
              "            <td>1</td>\n",
              "        </tr>\n",
              "        <tr>\n",
              "            <td>a.io/2/index.html</td>\n",
              "            <td>1</td>\n",
              "        </tr>\n",
              "    </tbody>\n",
              "</table>"
            ]
          },
          "metadata": {},
          "execution_count": 10
        }
      ]
    },
    {
      "cell_type": "markdown",
      "source": [
        "Comme un tel registre centralisé n’existe pas, c’est à la charge du moteur de recherche d’explorer le web pour produire un annuaire du même type que notre base de données imaginaire."
      ],
      "metadata": {
        "id": "60pZSrylxNeC"
      }
    },
    {
      "cell_type": "markdown",
      "source": [
        "9. Wikipedia en langue anglaise compte environ 6,5 millions d’article en octobre 2022. Estimez les tailles des trois tables si la base de données précédente était construite uniquement à partir de ces articles. Vous veillerez à expliciter vos hypothèses."
      ],
      "metadata": {
        "id": "nfMIG4AuyHud"
      }
    },
    {
      "cell_type": "markdown",
      "source": [
        ">- taille table1 :\t6,5 millions /   autant d'enregistrements que de pages\n",
        ">- taille table 2 : 65 millions / en supposant une dizaine de liens en moyenne par page\n",
        ">- taille table 3 : 650 millions / en supposant une centaine de mots-clés en moyenne par page"
      ],
      "metadata": {
        "id": "iF9uN8cvyLyz"
      }
    },
    {
      "cell_type": "markdown",
      "source": [
        "Pour un mot clé donné, il y a typiquement des millions de pages correspondantes que le moteur de recherche va devoir classer."
      ],
      "metadata": {
        "id": "8SKuyqQ-zmkE"
      }
    },
    {
      "cell_type": "markdown",
      "source": [
        "<img src=\"https://github.com/Info-TSI-Vieljeux/pourDS/blob/main/bretzel.png?raw=true\" width=800/>"
      ],
      "metadata": {
        "id": "tKveQEuez7Ja"
      }
    },
    {
      "cell_type": "markdown",
      "source": [
        "---\n"
      ],
      "metadata": {
        "id": "R9lyI8hg17RP"
      }
    },
    {
      "cell_type": "markdown",
      "source": [
        "##II. Graphe du Web"
      ],
      "metadata": {
        "id": "B9Jep_EG12e5"
      }
    },
    {
      "cell_type": "markdown",
      "source": [
        "Profitons du peu de structure disponible : le web n’est pas une collection de textes indépendants mais un immense hypertexte où les pages se citent mutuellement.<br>\n",
        "En négligeant le contenu des pages pour se concentrer sur les liens entre elles, on obtient la structure d’un graphe."
      ],
      "metadata": {
        "id": "JdD4P13t2Kf-"
      }
    },
    {
      "cell_type": "markdown",
      "source": [
        "Exemple :"
      ],
      "metadata": {
        "id": "nu3h3bza2Nvg"
      }
    },
    {
      "cell_type": "markdown",
      "source": [
        "<img src=\"https://github.com/Info-TSI-Vieljeux/pourDS/blob/main/pourDSmonde.png?raw=true\" width=700/>"
      ],
      "metadata": {
        "id": "qOLiFYGv2AKl"
      }
    },
    {
      "cell_type": "markdown",
      "source": [
        "Attention, on s’autorise ici des doubles flèches $\\leftrightarrow$ entre deux sommets $i$ et $j$ pour représenter à la fois un un arc $i\\rightarrow j$ et un arc $j \\rightarrow i$."
      ],
      "metadata": {
        "id": "I4HFQObX2RSy"
      }
    },
    {
      "cell_type": "markdown",
      "source": [
        "Dans la suite, on note $P_1,P_2,\\ldots,P_n$ les pages web et $j\\rightarrow i$ si la page $P_j$ cite la page $P_i$."
      ],
      "metadata": {
        "id": "l5WIeYT42gPj"
      }
    },
    {
      "cell_type": "markdown",
      "source": [
        "10. Le graphe obtenu est :\n",
        "- orienté\n",
        "- cyclique\n",
        "- non pondéré\n"
      ],
      "metadata": {
        "id": "N0kckfKh2yUi"
      }
    },
    {
      "cell_type": "markdown",
      "source": [
        "Comment exploiter ce graphe ?<br>\n",
        "L’idée de départ est de considérer qu’un lien $j\\rightarrow i$ correspond à une recommandation de la part de la page $P_j$ d’aller lire la page $P_i$. Dans cette hypothèse, le lien est une sorte de vote de confiance de la page $P_j$ en faveur de l’autorité de la page $P_i$."
      ],
      "metadata": {
        "id": "dAmV07sr3Alh"
      }
    },
    {
      "cell_type": "markdown",
      "source": [
        "Présentons le graphe précédent de manière à faire apparaître une hiérarchie possible."
      ],
      "metadata": {
        "id": "RRPyR6UV3Ry_"
      }
    },
    {
      "cell_type": "markdown",
      "source": [
        "11. Complétez les cases laissées vierges.\n"
      ],
      "metadata": {
        "id": "oU0Yetjb3U3l"
      }
    },
    {
      "cell_type": "markdown",
      "source": [
        "<img src=\"https://github.com/Info-TSI-Vieljeux/pourDS/blob/main/graphier.png?raw=true\" width=800/>"
      ],
      "metadata": {
        "id": "gVdVIoNe37-S"
      }
    },
    {
      "cell_type": "markdown",
      "source": [
        "Parmi les pages $P_1,P_2,P_3,P_4$, la page $P_1$ sert de référence commune et semble un bon point de départ pour chercher des informations. Même chose avec les groupes $P_9,P_{10},P_{11},P_{12}$, où $P_9$ sert de référence commune, et $P_5,P_6,P_7,P_8$, où $P_7$ est la plus citée.<br>\n",
        "Et comme $P_1$ et $P_9$, déjà reconnues comme importantes, font référence à la page $P_5$, on pourrait soupçonner que la page $P_5$ contient de l’information essentielle pour l’ensemble, qu’elle est la plus pertinente.<br>\n",
        "Selon ce raisonnement, un modèle de classification des pages se doit de faire apparaître cette hiérarchie. Nous allons en faire par la suite notre critère de réussite…\n"
      ],
      "metadata": {
        "id": "K2qfMBkJ3cEf"
      }
    },
    {
      "cell_type": "markdown",
      "source": [
        "### A. Premier modèle : comptage naïf"
      ],
      "metadata": {
        "id": "HejblUWT5UXX"
      }
    },
    {
      "cell_type": "markdown",
      "source": [
        "Il est plausible qu’une page importante reçoive beaucoup de liens. Avec un peu de naïveté, on croira aussi la réciproque : si une page reçoit beaucoup de liens, alors elle est importante. <br>\n",
        "On pourrait ainsi définir l’**importance** $\\mu_i$ de la page $P_i$ comme le nombre de liens $j\\rightarrow i$ :\n",
        "\n",
        "$$\\mu_i  = \\sum_{j\\rightarrow i}1$$\n",
        "\n",
        "Autrement dit, $\\mu_i$ est le nombre de « votes » pour la page $P_i$, où chaque vote contribue pour la même valeur 1.\n"
      ],
      "metadata": {
        "id": "q4PeKHKy5X56"
      }
    },
    {
      "cell_type": "markdown",
      "source": [
        "12. Écrivez en python une fonction `imp` renvoyant l’ « importance » $\\mu_i$ d’une page.On lui passe en paramètre le graphe du web tel que présenté ci-dessus sous la forme d’une liste d’adjacence implémentée par un dictionnaire.<br>Dans notre exemple : `web = {1:[2,3,4,5],2:[1,3], 3:[1,4],4:[1,2],5:[6,7,8],6:[1,7],7:[5],8:[7,9],9:[5,10,11,12],10:[9,11],11:[9,12],12:[9,10]}`\n"
      ],
      "metadata": {
        "id": "U1boqaKs51oQ"
      }
    },
    {
      "cell_type": "code",
      "execution_count": 16,
      "metadata": {
        "id": "6UWTmVH8_x9n"
      },
      "outputs": [],
      "source": [
        "web = {1:[2,3,4,5],\n",
        "       2:[1,3],\n",
        "       3:[1,4],\n",
        "       4:[1,2],\n",
        "       5:[6,7,8],\n",
        "       6:[1,7],\n",
        "       7:[5],\n",
        "       8:[7,9],\n",
        "       9:[5,10,11,12],\n",
        "       10:[9,11],\n",
        "       11:[9,12],\n",
        "       12:[9,10]}"
      ]
    },
    {
      "cell_type": "code",
      "source": [
        "def imp1(i: int, web: dict) -> int:\n",
        "\tmu = 0\n",
        "\tfor j in web :\n",
        "\t\tif i in web[j] :\n",
        "\t\t\tmu += 1\n",
        "\treturn mu"
      ],
      "metadata": {
        "id": "N8B7UIAl6G7s"
      },
      "execution_count": 23,
      "outputs": []
    },
    {
      "cell_type": "markdown",
      "source": [
        "13. En théorie des graphes, comment appelle-t-on $\\mu_i$ pour le sommet $i$ ?"
      ],
      "metadata": {
        "id": "Zse_wCW76QIG"
      }
    },
    {
      "cell_type": "markdown",
      "source": [
        "> Le degré entrant"
      ],
      "metadata": {
        "id": "piiZ5b6P6aPL"
      }
    },
    {
      "cell_type": "markdown",
      "source": [
        "14. On a déjà calculé l’importance d’une page selon le même modèle dans la partie 1. Comment l’avions-nous alors appelée ?"
      ],
      "metadata": {
        "id": "3vWbVGj06fPk"
      }
    },
    {
      "cell_type": "markdown",
      "source": [
        "> \"popularité\""
      ],
      "metadata": {
        "id": "0mw9H0mY6j7o"
      }
    },
    {
      "cell_type": "markdown",
      "source": [
        "15. Que valent les importances suivantes dans notre exemple :"
      ],
      "metadata": {
        "id": "bm_lQMrX6pzU"
      }
    },
    {
      "cell_type": "code",
      "source": [
        "print(f\"mu1 = {imp1(1,web)}\")\n",
        "print(f\"mu5 = {imp1(5,web)}\")\n",
        "print(f\"mu7 = {imp1(7,web)}\")\n",
        "print(f\"mu9 = {imp1(9,web)}\")"
      ],
      "metadata": {
        "colab": {
          "base_uri": "https://localhost:8080/"
        },
        "id": "0GaTvF44l_c_",
        "outputId": "9eae4ad9-21da-457e-e21d-670c78db6e2c"
      },
      "execution_count": 24,
      "outputs": [
        {
          "output_type": "stream",
          "name": "stdout",
          "text": [
            "mu1 = 4\n",
            "mu5 = 3\n",
            "mu7 = 3\n",
            "mu9 = 4\n"
          ]
        }
      ]
    },
    {
      "cell_type": "markdown",
      "source": [
        "Bien que cette définition de l’importance soit claire et facile à calculer, on constate sur notre exemple qu’elle ne reproduit pas la hiérarchie attendue entre les pages.<br>\n",
        "Pire, ce comptage naïf est trop facile à manipuler par quiconque souhaitant gonfler artificiellement l’importance d’une de ses pages."
      ],
      "metadata": {
        "id": "xvXH2qAH8Kvb"
      }
    },
    {
      "cell_type": "markdown",
      "source": [
        "16. Comment ferait-il ?"
      ],
      "metadata": {
        "id": "qi4EVPFR8OH0"
      }
    },
    {
      "cell_type": "markdown",
      "source": [
        "> Suffit de créer plein de pages bidons avec des liens pointant vers la page dont il veut augmenter l'importance."
      ],
      "metadata": {
        "id": "FlUQh-RT8a7M"
      }
    },
    {
      "cell_type": "markdown",
      "source": [
        "### B. Deuxième modèle : comptage pondéré"
      ],
      "metadata": {
        "id": "fsbsUg828nyv"
      }
    },
    {
      "cell_type": "markdown",
      "source": [
        "On peut supposer que les pages émettant beaucoup de liens sont des prescripteurs moins sélectifs. On va alors diminuer la confiance apportée à leurs recommandations.<br>\n",
        "Pour diminuer leur poids, on va partager le vote de la page $P_j$ en $\\ell_j$ parts égales, où $\\ell_j$ désigne le nombre de liens émis par la page $P_j$. On définit ainsi une mesure plus fine de l’importance :\n",
        "\n",
        "$$\\mu_i  = \\sum_{j\\rightarrow i}\\frac{1}{\\ell_j}$$"
      ],
      "metadata": {
        "id": "lYInPIVg8sid"
      }
    },
    {
      "cell_type": "markdown",
      "source": [
        "17. Écrivez en python une fonction `imp2` retournant l’importance $\\mu_i$ ainsi définie."
      ],
      "metadata": {
        "id": "_o1kfAuf9BgC"
      }
    },
    {
      "cell_type": "code",
      "source": [
        "def imp2(i: int, web: dict) -> float:\n",
        "\tmu = 0\n",
        "\tfor j in web :\n",
        "\t\tif i in web[j] :\n",
        "\t\t\tmu += 1/len(web[j])\n",
        "\treturn mu"
      ],
      "metadata": {
        "id": "m49tFPMB9MDg"
      },
      "execution_count": 25,
      "outputs": []
    },
    {
      "cell_type": "markdown",
      "source": [
        "18. Que valent maintenant les importances suivantes dans notre exemple :\n"
      ],
      "metadata": {
        "id": "vqgtIUH69RaD"
      }
    },
    {
      "cell_type": "code",
      "source": [
        "print(f\"mu1 = {imp2(1,web)}\")\n",
        "print(f\"mu5 = {imp2(5,web)}\")\n",
        "print(f\"mu7 = {imp2(7,web)}\")\n",
        "print(f\"mu9 = {imp2(9,web)}\")"
      ],
      "metadata": {
        "colab": {
          "base_uri": "https://localhost:8080/"
        },
        "id": "m7j9cdZl9S0y",
        "outputId": "90f99f9f-be37-456f-c89e-8fa163aff823"
      },
      "execution_count": 26,
      "outputs": [
        {
          "output_type": "stream",
          "name": "stdout",
          "text": [
            "mu1 = 2.0\n",
            "mu5 = 1.5\n",
            "mu7 = 1.3333333333333333\n",
            "mu9 = 2.0\n"
          ]
        }
      ]
    },
    {
      "cell_type": "markdown",
      "source": [
        "On voit donc que la formule peine encore à reproduire la hiérarchie attendue entre les pages. Et comme avant, ce comportement est trop facile à truquer."
      ],
      "metadata": {
        "id": "NUEtaqE69cd6"
      }
    },
    {
      "cell_type": "markdown",
      "source": [
        "Un graphe **dense** est un graphe à $n$ sommets ayant $O(n)$ arêtes, alors qu’un graphe creux n’a que $O(1)$ arêtes."
      ],
      "metadata": {
        "id": "pIbcTTiM9kEF"
      }
    },
    {
      "cell_type": "markdown",
      "source": [
        "19. Selon vous, le graphe du web est-il dense ou creux ?"
      ],
      "metadata": {
        "id": "_hcNobja92le"
      }
    },
    {
      "cell_type": "markdown",
      "source": [
        "> Le graphe du Web est **creux** car le nombre de liens sortants par page n'est pas en proportion du nombre de pages du Web."
      ],
      "metadata": {
        "id": "HfSAWXqa94Mu"
      }
    },
    {
      "cell_type": "markdown",
      "source": [
        "20. Quelle est alors la complexité des fonctions `imp1` et `imp2`\n",
        " en fonction de $n$ ?"
      ],
      "metadata": {
        "id": "k_Gbx__b-cqA"
      }
    },
    {
      "cell_type": "markdown",
      "source": [
        "> `imp1` et `imp2` sont toutes deux linéaires ($O(n)$ pour la boucle extérieure qui parcours toutes les pages multiplié par $O(1)$ pour la boucle intérieure qui parcourt les liens). "
      ],
      "metadata": {
        "id": "4-IOnRET-kBW"
      }
    },
    {
      "cell_type": "markdown",
      "source": [
        "21. Pourquoi représenter le graphe par une liste d’adjacence plutôt que par une matrice d’adjacence. "
      ],
      "metadata": {
        "id": "oCiUroy3_W4s"
      }
    },
    {
      "cell_type": "markdown",
      "source": [
        "> La matrice d'adjacence serait remplie de zéros, autre façon de dire que le graphe est creux. Tous ces zéros représentent de la place mémoire inutile."
      ],
      "metadata": {
        "id": "bpNycHGX_bh5"
      }
    },
    {
      "cell_type": "markdown",
      "source": [
        "### C. Troisième modèle : comptage récursif"
      ],
      "metadata": {
        "id": "z9xparqn_xJ9"
      }
    },
    {
      "cell_type": "markdown",
      "source": [
        "Importances obtenues par `imp1` :"
      ],
      "metadata": {
        "id": "r4h7XVCT_62O"
      }
    },
    {
      "cell_type": "code",
      "source": [
        "for i in range(1,13) :\n",
        "    print(f'{i:2} : {imp1(i,web)}')"
      ],
      "metadata": {
        "colab": {
          "base_uri": "https://localhost:8080/"
        },
        "id": "XVV2J816_5vD",
        "outputId": "2dea2b7c-b7c4-463d-e409-4cdb69d49be6"
      },
      "execution_count": 5,
      "outputs": [
        {
          "output_type": "stream",
          "name": "stdout",
          "text": [
            " 1 : 4\n",
            " 2 : 2\n",
            " 3 : 2\n",
            " 4 : 2\n",
            " 5 : 3\n",
            " 6 : 1\n",
            " 7 : 3\n",
            " 8 : 1\n",
            " 9 : 4\n",
            "10 : 2\n",
            "11 : 2\n",
            "12 : 2\n"
          ]
        }
      ]
    },
    {
      "cell_type": "code",
      "source": [
        "def imp2(i: int,web: dict) -> float:\n",
        "    imp = 0\n",
        "    for j in web :\n",
        "        if i in web[j] :\n",
        "            imp += 1/len(web[j])\n",
        "    return imp"
      ],
      "metadata": {
        "id": "uiWOE744_149"
      },
      "execution_count": 6,
      "outputs": []
    },
    {
      "cell_type": "markdown",
      "source": [
        "Importances obtenues par `imp2` :"
      ],
      "metadata": {
        "id": "tCamHDw-ALZu"
      }
    },
    {
      "cell_type": "code",
      "source": [
        "for i in range(1,13) :\n",
        "    print(f'{i:2} : {imp2(i,web)}')"
      ],
      "metadata": {
        "colab": {
          "base_uri": "https://localhost:8080/"
        },
        "id": "mKbjHquGAHst",
        "outputId": "671b66f3-ba52-4338-e572-cdade1d81fe0"
      },
      "execution_count": 9,
      "outputs": [
        {
          "output_type": "stream",
          "name": "stdout",
          "text": [
            " 1 : 2.0\n",
            " 2 : 0.75\n",
            " 3 : 0.75\n",
            " 4 : 0.75\n",
            " 5 : 1.5\n",
            " 6 : 0.3333333333333333\n",
            " 7 : 1.3333333333333333\n",
            " 8 : 0.3333333333333333\n",
            " 9 : 2.0\n",
            "10 : 0.75\n",
            "11 : 0.75\n",
            "12 : 0.75\n"
          ]
        }
      ]
    },
    {
      "cell_type": "markdown",
      "source": [
        "Obtenons la matrice augmentée représentant le système d'équations :"
      ],
      "metadata": {
        "id": "mhiDO33jAVvY"
      }
    },
    {
      "cell_type": "code",
      "source": [
        "import pandas as pd"
      ],
      "metadata": {
        "id": "-UFWrnBeAuM7"
      },
      "execution_count": 11,
      "outputs": []
    },
    {
      "cell_type": "code",
      "source": [
        "def dictosyst(web: dict) -> list:\n",
        "    n = len(web)\n",
        "    M = [[0 for j in range(n+1)] for i in range(n)]\n",
        "    for i in range(n) :\n",
        "        M[i][i] = -1\n",
        "        for j in range(n) :\n",
        "            if i+1 in web[j+1] :\n",
        "                M[i][j] = 1/len(web[j+1])\n",
        "    return M"
      ],
      "metadata": {
        "id": "rMjRdlj_AOFd"
      },
      "execution_count": 12,
      "outputs": []
    },
    {
      "cell_type": "code",
      "source": [
        "n = len(web)\n",
        "M = dictosyst(web)\n",
        "indices = [i for i in range(1,n+1)]\n",
        "colonnes = indices + [\"v\"]\n",
        "Mpd = pd.DataFrame(M,index=[indices],columns=colonnes)\n",
        "Mpd"
      ],
      "metadata": {
        "colab": {
          "base_uri": "https://localhost:8080/",
          "height": 421
        },
        "id": "aGItH63CAqZ8",
        "outputId": "1243533e-db2d-4794-8b04-5aefaef47443"
      },
      "execution_count": 13,
      "outputs": [
        {
          "output_type": "execute_result",
          "data": {
            "text/plain": [
              "       1    2    3    4         5    6    7    8     9   10   11   12  v\n",
              "1  -1.00  0.5  0.5  0.5  0.000000  0.5  0.0  0.0  0.00  0.0  0.0  0.0  0\n",
              "2   0.25 -1.0  0.0  0.5  0.000000  0.0  0.0  0.0  0.00  0.0  0.0  0.0  0\n",
              "3   0.25  0.5 -1.0  0.0  0.000000  0.0  0.0  0.0  0.00  0.0  0.0  0.0  0\n",
              "4   0.25  0.0  0.5 -1.0  0.000000  0.0  0.0  0.0  0.00  0.0  0.0  0.0  0\n",
              "5   0.25  0.0  0.0  0.0 -1.000000  0.0  1.0  0.0  0.25  0.0  0.0  0.0  0\n",
              "6   0.00  0.0  0.0  0.0  0.333333 -1.0  0.0  0.0  0.00  0.0  0.0  0.0  0\n",
              "7   0.00  0.0  0.0  0.0  0.333333  0.5 -1.0  0.5  0.00  0.0  0.0  0.0  0\n",
              "8   0.00  0.0  0.0  0.0  0.333333  0.0  0.0 -1.0  0.00  0.0  0.0  0.0  0\n",
              "9   0.00  0.0  0.0  0.0  0.000000  0.0  0.0  0.5 -1.00  0.5  0.5  0.5  0\n",
              "10  0.00  0.0  0.0  0.0  0.000000  0.0  0.0  0.0  0.25 -1.0  0.0  0.5  0\n",
              "11  0.00  0.0  0.0  0.0  0.000000  0.0  0.0  0.0  0.25  0.5 -1.0  0.0  0\n",
              "12  0.00  0.0  0.0  0.0  0.000000  0.0  0.0  0.0  0.25  0.0  0.5 -1.0  0"
            ],
            "text/html": [
              "\n",
              "  <div id=\"df-0604aa88-e454-4f91-b0f1-a387d4ce6aca\">\n",
              "    <div class=\"colab-df-container\">\n",
              "      <div>\n",
              "<style scoped>\n",
              "    .dataframe tbody tr th:only-of-type {\n",
              "        vertical-align: middle;\n",
              "    }\n",
              "\n",
              "    .dataframe tbody tr th {\n",
              "        vertical-align: top;\n",
              "    }\n",
              "\n",
              "    .dataframe thead th {\n",
              "        text-align: right;\n",
              "    }\n",
              "</style>\n",
              "<table border=\"1\" class=\"dataframe\">\n",
              "  <thead>\n",
              "    <tr style=\"text-align: right;\">\n",
              "      <th></th>\n",
              "      <th>1</th>\n",
              "      <th>2</th>\n",
              "      <th>3</th>\n",
              "      <th>4</th>\n",
              "      <th>5</th>\n",
              "      <th>6</th>\n",
              "      <th>7</th>\n",
              "      <th>8</th>\n",
              "      <th>9</th>\n",
              "      <th>10</th>\n",
              "      <th>11</th>\n",
              "      <th>12</th>\n",
              "      <th>v</th>\n",
              "    </tr>\n",
              "  </thead>\n",
              "  <tbody>\n",
              "    <tr>\n",
              "      <th>1</th>\n",
              "      <td>-1.00</td>\n",
              "      <td>0.5</td>\n",
              "      <td>0.5</td>\n",
              "      <td>0.5</td>\n",
              "      <td>0.000000</td>\n",
              "      <td>0.5</td>\n",
              "      <td>0.0</td>\n",
              "      <td>0.0</td>\n",
              "      <td>0.00</td>\n",
              "      <td>0.0</td>\n",
              "      <td>0.0</td>\n",
              "      <td>0.0</td>\n",
              "      <td>0</td>\n",
              "    </tr>\n",
              "    <tr>\n",
              "      <th>2</th>\n",
              "      <td>0.25</td>\n",
              "      <td>-1.0</td>\n",
              "      <td>0.0</td>\n",
              "      <td>0.5</td>\n",
              "      <td>0.000000</td>\n",
              "      <td>0.0</td>\n",
              "      <td>0.0</td>\n",
              "      <td>0.0</td>\n",
              "      <td>0.00</td>\n",
              "      <td>0.0</td>\n",
              "      <td>0.0</td>\n",
              "      <td>0.0</td>\n",
              "      <td>0</td>\n",
              "    </tr>\n",
              "    <tr>\n",
              "      <th>3</th>\n",
              "      <td>0.25</td>\n",
              "      <td>0.5</td>\n",
              "      <td>-1.0</td>\n",
              "      <td>0.0</td>\n",
              "      <td>0.000000</td>\n",
              "      <td>0.0</td>\n",
              "      <td>0.0</td>\n",
              "      <td>0.0</td>\n",
              "      <td>0.00</td>\n",
              "      <td>0.0</td>\n",
              "      <td>0.0</td>\n",
              "      <td>0.0</td>\n",
              "      <td>0</td>\n",
              "    </tr>\n",
              "    <tr>\n",
              "      <th>4</th>\n",
              "      <td>0.25</td>\n",
              "      <td>0.0</td>\n",
              "      <td>0.5</td>\n",
              "      <td>-1.0</td>\n",
              "      <td>0.000000</td>\n",
              "      <td>0.0</td>\n",
              "      <td>0.0</td>\n",
              "      <td>0.0</td>\n",
              "      <td>0.00</td>\n",
              "      <td>0.0</td>\n",
              "      <td>0.0</td>\n",
              "      <td>0.0</td>\n",
              "      <td>0</td>\n",
              "    </tr>\n",
              "    <tr>\n",
              "      <th>5</th>\n",
              "      <td>0.25</td>\n",
              "      <td>0.0</td>\n",
              "      <td>0.0</td>\n",
              "      <td>0.0</td>\n",
              "      <td>-1.000000</td>\n",
              "      <td>0.0</td>\n",
              "      <td>1.0</td>\n",
              "      <td>0.0</td>\n",
              "      <td>0.25</td>\n",
              "      <td>0.0</td>\n",
              "      <td>0.0</td>\n",
              "      <td>0.0</td>\n",
              "      <td>0</td>\n",
              "    </tr>\n",
              "    <tr>\n",
              "      <th>6</th>\n",
              "      <td>0.00</td>\n",
              "      <td>0.0</td>\n",
              "      <td>0.0</td>\n",
              "      <td>0.0</td>\n",
              "      <td>0.333333</td>\n",
              "      <td>-1.0</td>\n",
              "      <td>0.0</td>\n",
              "      <td>0.0</td>\n",
              "      <td>0.00</td>\n",
              "      <td>0.0</td>\n",
              "      <td>0.0</td>\n",
              "      <td>0.0</td>\n",
              "      <td>0</td>\n",
              "    </tr>\n",
              "    <tr>\n",
              "      <th>7</th>\n",
              "      <td>0.00</td>\n",
              "      <td>0.0</td>\n",
              "      <td>0.0</td>\n",
              "      <td>0.0</td>\n",
              "      <td>0.333333</td>\n",
              "      <td>0.5</td>\n",
              "      <td>-1.0</td>\n",
              "      <td>0.5</td>\n",
              "      <td>0.00</td>\n",
              "      <td>0.0</td>\n",
              "      <td>0.0</td>\n",
              "      <td>0.0</td>\n",
              "      <td>0</td>\n",
              "    </tr>\n",
              "    <tr>\n",
              "      <th>8</th>\n",
              "      <td>0.00</td>\n",
              "      <td>0.0</td>\n",
              "      <td>0.0</td>\n",
              "      <td>0.0</td>\n",
              "      <td>0.333333</td>\n",
              "      <td>0.0</td>\n",
              "      <td>0.0</td>\n",
              "      <td>-1.0</td>\n",
              "      <td>0.00</td>\n",
              "      <td>0.0</td>\n",
              "      <td>0.0</td>\n",
              "      <td>0.0</td>\n",
              "      <td>0</td>\n",
              "    </tr>\n",
              "    <tr>\n",
              "      <th>9</th>\n",
              "      <td>0.00</td>\n",
              "      <td>0.0</td>\n",
              "      <td>0.0</td>\n",
              "      <td>0.0</td>\n",
              "      <td>0.000000</td>\n",
              "      <td>0.0</td>\n",
              "      <td>0.0</td>\n",
              "      <td>0.5</td>\n",
              "      <td>-1.00</td>\n",
              "      <td>0.5</td>\n",
              "      <td>0.5</td>\n",
              "      <td>0.5</td>\n",
              "      <td>0</td>\n",
              "    </tr>\n",
              "    <tr>\n",
              "      <th>10</th>\n",
              "      <td>0.00</td>\n",
              "      <td>0.0</td>\n",
              "      <td>0.0</td>\n",
              "      <td>0.0</td>\n",
              "      <td>0.000000</td>\n",
              "      <td>0.0</td>\n",
              "      <td>0.0</td>\n",
              "      <td>0.0</td>\n",
              "      <td>0.25</td>\n",
              "      <td>-1.0</td>\n",
              "      <td>0.0</td>\n",
              "      <td>0.5</td>\n",
              "      <td>0</td>\n",
              "    </tr>\n",
              "    <tr>\n",
              "      <th>11</th>\n",
              "      <td>0.00</td>\n",
              "      <td>0.0</td>\n",
              "      <td>0.0</td>\n",
              "      <td>0.0</td>\n",
              "      <td>0.000000</td>\n",
              "      <td>0.0</td>\n",
              "      <td>0.0</td>\n",
              "      <td>0.0</td>\n",
              "      <td>0.25</td>\n",
              "      <td>0.5</td>\n",
              "      <td>-1.0</td>\n",
              "      <td>0.0</td>\n",
              "      <td>0</td>\n",
              "    </tr>\n",
              "    <tr>\n",
              "      <th>12</th>\n",
              "      <td>0.00</td>\n",
              "      <td>0.0</td>\n",
              "      <td>0.0</td>\n",
              "      <td>0.0</td>\n",
              "      <td>0.000000</td>\n",
              "      <td>0.0</td>\n",
              "      <td>0.0</td>\n",
              "      <td>0.0</td>\n",
              "      <td>0.25</td>\n",
              "      <td>0.0</td>\n",
              "      <td>0.5</td>\n",
              "      <td>-1.0</td>\n",
              "      <td>0</td>\n",
              "    </tr>\n",
              "  </tbody>\n",
              "</table>\n",
              "</div>\n",
              "      <button class=\"colab-df-convert\" onclick=\"convertToInteractive('df-0604aa88-e454-4f91-b0f1-a387d4ce6aca')\"\n",
              "              title=\"Convert this dataframe to an interactive table.\"\n",
              "              style=\"display:none;\">\n",
              "        \n",
              "  <svg xmlns=\"http://www.w3.org/2000/svg\" height=\"24px\"viewBox=\"0 0 24 24\"\n",
              "       width=\"24px\">\n",
              "    <path d=\"M0 0h24v24H0V0z\" fill=\"none\"/>\n",
              "    <path d=\"M18.56 5.44l.94 2.06.94-2.06 2.06-.94-2.06-.94-.94-2.06-.94 2.06-2.06.94zm-11 1L8.5 8.5l.94-2.06 2.06-.94-2.06-.94L8.5 2.5l-.94 2.06-2.06.94zm10 10l.94 2.06.94-2.06 2.06-.94-2.06-.94-.94-2.06-.94 2.06-2.06.94z\"/><path d=\"M17.41 7.96l-1.37-1.37c-.4-.4-.92-.59-1.43-.59-.52 0-1.04.2-1.43.59L10.3 9.45l-7.72 7.72c-.78.78-.78 2.05 0 2.83L4 21.41c.39.39.9.59 1.41.59.51 0 1.02-.2 1.41-.59l7.78-7.78 2.81-2.81c.8-.78.8-2.07 0-2.86zM5.41 20L4 18.59l7.72-7.72 1.47 1.35L5.41 20z\"/>\n",
              "  </svg>\n",
              "      </button>\n",
              "      \n",
              "  <style>\n",
              "    .colab-df-container {\n",
              "      display:flex;\n",
              "      flex-wrap:wrap;\n",
              "      gap: 12px;\n",
              "    }\n",
              "\n",
              "    .colab-df-convert {\n",
              "      background-color: #E8F0FE;\n",
              "      border: none;\n",
              "      border-radius: 50%;\n",
              "      cursor: pointer;\n",
              "      display: none;\n",
              "      fill: #1967D2;\n",
              "      height: 32px;\n",
              "      padding: 0 0 0 0;\n",
              "      width: 32px;\n",
              "    }\n",
              "\n",
              "    .colab-df-convert:hover {\n",
              "      background-color: #E2EBFA;\n",
              "      box-shadow: 0px 1px 2px rgba(60, 64, 67, 0.3), 0px 1px 3px 1px rgba(60, 64, 67, 0.15);\n",
              "      fill: #174EA6;\n",
              "    }\n",
              "\n",
              "    [theme=dark] .colab-df-convert {\n",
              "      background-color: #3B4455;\n",
              "      fill: #D2E3FC;\n",
              "    }\n",
              "\n",
              "    [theme=dark] .colab-df-convert:hover {\n",
              "      background-color: #434B5C;\n",
              "      box-shadow: 0px 1px 3px 1px rgba(0, 0, 0, 0.15);\n",
              "      filter: drop-shadow(0px 1px 2px rgba(0, 0, 0, 0.3));\n",
              "      fill: #FFFFFF;\n",
              "    }\n",
              "  </style>\n",
              "\n",
              "      <script>\n",
              "        const buttonEl =\n",
              "          document.querySelector('#df-0604aa88-e454-4f91-b0f1-a387d4ce6aca button.colab-df-convert');\n",
              "        buttonEl.style.display =\n",
              "          google.colab.kernel.accessAllowed ? 'block' : 'none';\n",
              "\n",
              "        async function convertToInteractive(key) {\n",
              "          const element = document.querySelector('#df-0604aa88-e454-4f91-b0f1-a387d4ce6aca');\n",
              "          const dataTable =\n",
              "            await google.colab.kernel.invokeFunction('convertToInteractive',\n",
              "                                                     [key], {});\n",
              "          if (!dataTable) return;\n",
              "\n",
              "          const docLinkHtml = 'Like what you see? Visit the ' +\n",
              "            '<a target=\"_blank\" href=https://colab.research.google.com/notebooks/data_table.ipynb>data table notebook</a>'\n",
              "            + ' to learn more about interactive tables.';\n",
              "          element.innerHTML = '';\n",
              "          dataTable['output_type'] = 'display_data';\n",
              "          await google.colab.output.renderOutput(dataTable, element);\n",
              "          const docLink = document.createElement('div');\n",
              "          docLink.innerHTML = docLinkHtml;\n",
              "          element.appendChild(docLink);\n",
              "        }\n",
              "      </script>\n",
              "    </div>\n",
              "  </div>\n",
              "  "
            ]
          },
          "metadata": {},
          "execution_count": 13
        }
      ]
    },
    {
      "cell_type": "markdown",
      "source": [
        "Résolvons grâce au pivot de Gauss."
      ],
      "metadata": {
        "id": "kWrrUNWlA6Ql"
      }
    },
    {
      "cell_type": "code",
      "source": [
        "def Gauss(M,recherchePivot) :\n",
        "    m = len(M)                                    # nombre de lignes de la matrice M\n",
        "    n = len(M[0])                                 # nombre de colonnes\n",
        "    h = k = 0\n",
        "    tol = 1e-9                        \n",
        "    while h < m and k < n :                       # h sera l'indice des lignes et k celui des colonnes\n",
        "        ipivot = recherchePivot(M,h,k)            # à déterminer par la suite\n",
        "        pivot = M[ipivot][k]\n",
        "        if abs(pivot) < tol :                     # pour tester la nullité d'un candidat pivot\n",
        "            k += 1\n",
        "        else :\n",
        "            if h != ipivot :\n",
        "                M[h],M[ipivot] = M[ipivot],M[h]   # on permute la ligne du pivot et celle correspondant à h\n",
        "            for j in range(k,n) :\n",
        "                M[h][j] /= pivot                  # on normalise la ligne du pivot pour avoir 1 dans la diagonale\n",
        "            for i in range(h+1,m) :\n",
        "                f = M[i][k]\n",
        "                for j in range(k,n) :\n",
        "                    M[i][j] -= M[h][j] * f        # Li <- Li - Lh\n",
        "            h += 1\n",
        "            k += 1"
      ],
      "metadata": {
        "id": "8W-e1XNNAzIU"
      },
      "execution_count": 15,
      "outputs": []
    },
    {
      "cell_type": "code",
      "source": [
        "def recherchePivotPartiel(M :list,h :int,k :int) -> int:\n",
        "  ipivot, pivot = h, abs(M[h][k])\n",
        "  for i in range(h+1,len(M)) :\n",
        "      if abs(M[i][k]) > pivot :\n",
        "          pivot = abs(M[i][k])\n",
        "          ipivot = i\n",
        "  return ipivot     "
      ],
      "metadata": {
        "id": "B_wtRz-CA-Qs"
      },
      "execution_count": 16,
      "outputs": []
    },
    {
      "cell_type": "code",
      "source": [
        "Gauss(M,recherchePivotPartiel)\n",
        "pd.DataFrame(M,index=[indices],columns=colonnes)"
      ],
      "metadata": {
        "colab": {
          "base_uri": "https://localhost:8080/",
          "height": 421
        },
        "id": "3w1v-FUDBGVs",
        "outputId": "d56f5886-babc-4437-d3b6-e8e9ea8d8372"
      },
      "execution_count": 20,
      "outputs": [
        {
          "output_type": "execute_result",
          "data": {
            "text/plain": [
              "      1    2         3         4         5         6         7     8  \\\n",
              "1   1.0 -0.5 -0.500000 -0.500000 -0.000000 -0.500000 -0.000000 -0.00   \n",
              "2   0.0  1.0 -0.142857 -0.714286  0.000000 -0.142857  0.000000  0.00   \n",
              "3   0.0  0.0  1.000000 -0.727273  0.000000 -0.272727  0.000000  0.00   \n",
              "4   0.0  0.0  0.000000  1.000000 -3.142857  0.571429  3.142857  0.00   \n",
              "5   0.0  0.0  0.000000  0.000000  1.000000 -0.500000 -1.000000  0.00   \n",
              "6   0.0  0.0  0.000000  0.000000  0.000000  1.000000 -0.400000  0.00   \n",
              "7   0.0  0.0  0.000000  0.000000  0.000000  0.000000  1.000000 -1.25   \n",
              "8   0.0  0.0  0.000000  0.000000  0.000000  0.000000  0.000000  1.00   \n",
              "9   0.0  0.0  0.000000  0.000000  0.000000  0.000000  0.000000  0.00   \n",
              "10  0.0  0.0  0.000000  0.000000  0.000000  0.000000  0.000000  0.00   \n",
              "11  0.0  0.0  0.000000  0.000000  0.000000  0.000000  0.000000  0.00   \n",
              "12  0.0  0.0  0.000000  0.000000  0.000000  0.000000  0.000000  0.00   \n",
              "\n",
              "           9        10        11            12    v  \n",
              "1  -0.000000 -0.000000 -0.000000 -0.000000e+00 -0.0  \n",
              "2   0.000000  0.000000  0.000000  0.000000e+00  0.0  \n",
              "3   0.000000  0.000000  0.000000  0.000000e+00  0.0  \n",
              "4   0.785714  0.000000  0.000000  0.000000e+00  0.0  \n",
              "5  -0.250000  0.000000  0.000000  0.000000e+00  0.0  \n",
              "6  -0.100000  0.000000  0.000000  0.000000e+00  0.0  \n",
              "7  -0.375000  0.000000  0.000000  0.000000e+00  0.0  \n",
              "8  -0.500000  0.000000  0.000000  0.000000e+00  0.0  \n",
              "9   1.000000 -0.666667 -0.666667 -6.666667e-01  0.0  \n",
              "10  0.000000  1.000000 -0.200000 -8.000000e-01  0.0  \n",
              "11  0.000000  0.000000  1.000000 -1.000000e+00  0.0  \n",
              "12  0.000000  0.000000  0.000000 -3.330669e-16  0.0  "
            ],
            "text/html": [
              "\n",
              "  <div id=\"df-0dc28a61-b28d-4d23-8cef-a52c81332fdd\">\n",
              "    <div class=\"colab-df-container\">\n",
              "      <div>\n",
              "<style scoped>\n",
              "    .dataframe tbody tr th:only-of-type {\n",
              "        vertical-align: middle;\n",
              "    }\n",
              "\n",
              "    .dataframe tbody tr th {\n",
              "        vertical-align: top;\n",
              "    }\n",
              "\n",
              "    .dataframe thead th {\n",
              "        text-align: right;\n",
              "    }\n",
              "</style>\n",
              "<table border=\"1\" class=\"dataframe\">\n",
              "  <thead>\n",
              "    <tr style=\"text-align: right;\">\n",
              "      <th></th>\n",
              "      <th>1</th>\n",
              "      <th>2</th>\n",
              "      <th>3</th>\n",
              "      <th>4</th>\n",
              "      <th>5</th>\n",
              "      <th>6</th>\n",
              "      <th>7</th>\n",
              "      <th>8</th>\n",
              "      <th>9</th>\n",
              "      <th>10</th>\n",
              "      <th>11</th>\n",
              "      <th>12</th>\n",
              "      <th>v</th>\n",
              "    </tr>\n",
              "  </thead>\n",
              "  <tbody>\n",
              "    <tr>\n",
              "      <th>1</th>\n",
              "      <td>1.0</td>\n",
              "      <td>-0.5</td>\n",
              "      <td>-0.500000</td>\n",
              "      <td>-0.500000</td>\n",
              "      <td>-0.000000</td>\n",
              "      <td>-0.500000</td>\n",
              "      <td>-0.000000</td>\n",
              "      <td>-0.00</td>\n",
              "      <td>-0.000000</td>\n",
              "      <td>-0.000000</td>\n",
              "      <td>-0.000000</td>\n",
              "      <td>-0.000000e+00</td>\n",
              "      <td>-0.0</td>\n",
              "    </tr>\n",
              "    <tr>\n",
              "      <th>2</th>\n",
              "      <td>0.0</td>\n",
              "      <td>1.0</td>\n",
              "      <td>-0.142857</td>\n",
              "      <td>-0.714286</td>\n",
              "      <td>0.000000</td>\n",
              "      <td>-0.142857</td>\n",
              "      <td>0.000000</td>\n",
              "      <td>0.00</td>\n",
              "      <td>0.000000</td>\n",
              "      <td>0.000000</td>\n",
              "      <td>0.000000</td>\n",
              "      <td>0.000000e+00</td>\n",
              "      <td>0.0</td>\n",
              "    </tr>\n",
              "    <tr>\n",
              "      <th>3</th>\n",
              "      <td>0.0</td>\n",
              "      <td>0.0</td>\n",
              "      <td>1.000000</td>\n",
              "      <td>-0.727273</td>\n",
              "      <td>0.000000</td>\n",
              "      <td>-0.272727</td>\n",
              "      <td>0.000000</td>\n",
              "      <td>0.00</td>\n",
              "      <td>0.000000</td>\n",
              "      <td>0.000000</td>\n",
              "      <td>0.000000</td>\n",
              "      <td>0.000000e+00</td>\n",
              "      <td>0.0</td>\n",
              "    </tr>\n",
              "    <tr>\n",
              "      <th>4</th>\n",
              "      <td>0.0</td>\n",
              "      <td>0.0</td>\n",
              "      <td>0.000000</td>\n",
              "      <td>1.000000</td>\n",
              "      <td>-3.142857</td>\n",
              "      <td>0.571429</td>\n",
              "      <td>3.142857</td>\n",
              "      <td>0.00</td>\n",
              "      <td>0.785714</td>\n",
              "      <td>0.000000</td>\n",
              "      <td>0.000000</td>\n",
              "      <td>0.000000e+00</td>\n",
              "      <td>0.0</td>\n",
              "    </tr>\n",
              "    <tr>\n",
              "      <th>5</th>\n",
              "      <td>0.0</td>\n",
              "      <td>0.0</td>\n",
              "      <td>0.000000</td>\n",
              "      <td>0.000000</td>\n",
              "      <td>1.000000</td>\n",
              "      <td>-0.500000</td>\n",
              "      <td>-1.000000</td>\n",
              "      <td>0.00</td>\n",
              "      <td>-0.250000</td>\n",
              "      <td>0.000000</td>\n",
              "      <td>0.000000</td>\n",
              "      <td>0.000000e+00</td>\n",
              "      <td>0.0</td>\n",
              "    </tr>\n",
              "    <tr>\n",
              "      <th>6</th>\n",
              "      <td>0.0</td>\n",
              "      <td>0.0</td>\n",
              "      <td>0.000000</td>\n",
              "      <td>0.000000</td>\n",
              "      <td>0.000000</td>\n",
              "      <td>1.000000</td>\n",
              "      <td>-0.400000</td>\n",
              "      <td>0.00</td>\n",
              "      <td>-0.100000</td>\n",
              "      <td>0.000000</td>\n",
              "      <td>0.000000</td>\n",
              "      <td>0.000000e+00</td>\n",
              "      <td>0.0</td>\n",
              "    </tr>\n",
              "    <tr>\n",
              "      <th>7</th>\n",
              "      <td>0.0</td>\n",
              "      <td>0.0</td>\n",
              "      <td>0.000000</td>\n",
              "      <td>0.000000</td>\n",
              "      <td>0.000000</td>\n",
              "      <td>0.000000</td>\n",
              "      <td>1.000000</td>\n",
              "      <td>-1.25</td>\n",
              "      <td>-0.375000</td>\n",
              "      <td>0.000000</td>\n",
              "      <td>0.000000</td>\n",
              "      <td>0.000000e+00</td>\n",
              "      <td>0.0</td>\n",
              "    </tr>\n",
              "    <tr>\n",
              "      <th>8</th>\n",
              "      <td>0.0</td>\n",
              "      <td>0.0</td>\n",
              "      <td>0.000000</td>\n",
              "      <td>0.000000</td>\n",
              "      <td>0.000000</td>\n",
              "      <td>0.000000</td>\n",
              "      <td>0.000000</td>\n",
              "      <td>1.00</td>\n",
              "      <td>-0.500000</td>\n",
              "      <td>0.000000</td>\n",
              "      <td>0.000000</td>\n",
              "      <td>0.000000e+00</td>\n",
              "      <td>0.0</td>\n",
              "    </tr>\n",
              "    <tr>\n",
              "      <th>9</th>\n",
              "      <td>0.0</td>\n",
              "      <td>0.0</td>\n",
              "      <td>0.000000</td>\n",
              "      <td>0.000000</td>\n",
              "      <td>0.000000</td>\n",
              "      <td>0.000000</td>\n",
              "      <td>0.000000</td>\n",
              "      <td>0.00</td>\n",
              "      <td>1.000000</td>\n",
              "      <td>-0.666667</td>\n",
              "      <td>-0.666667</td>\n",
              "      <td>-6.666667e-01</td>\n",
              "      <td>0.0</td>\n",
              "    </tr>\n",
              "    <tr>\n",
              "      <th>10</th>\n",
              "      <td>0.0</td>\n",
              "      <td>0.0</td>\n",
              "      <td>0.000000</td>\n",
              "      <td>0.000000</td>\n",
              "      <td>0.000000</td>\n",
              "      <td>0.000000</td>\n",
              "      <td>0.000000</td>\n",
              "      <td>0.00</td>\n",
              "      <td>0.000000</td>\n",
              "      <td>1.000000</td>\n",
              "      <td>-0.200000</td>\n",
              "      <td>-8.000000e-01</td>\n",
              "      <td>0.0</td>\n",
              "    </tr>\n",
              "    <tr>\n",
              "      <th>11</th>\n",
              "      <td>0.0</td>\n",
              "      <td>0.0</td>\n",
              "      <td>0.000000</td>\n",
              "      <td>0.000000</td>\n",
              "      <td>0.000000</td>\n",
              "      <td>0.000000</td>\n",
              "      <td>0.000000</td>\n",
              "      <td>0.00</td>\n",
              "      <td>0.000000</td>\n",
              "      <td>0.000000</td>\n",
              "      <td>1.000000</td>\n",
              "      <td>-1.000000e+00</td>\n",
              "      <td>0.0</td>\n",
              "    </tr>\n",
              "    <tr>\n",
              "      <th>12</th>\n",
              "      <td>0.0</td>\n",
              "      <td>0.0</td>\n",
              "      <td>0.000000</td>\n",
              "      <td>0.000000</td>\n",
              "      <td>0.000000</td>\n",
              "      <td>0.000000</td>\n",
              "      <td>0.000000</td>\n",
              "      <td>0.00</td>\n",
              "      <td>0.000000</td>\n",
              "      <td>0.000000</td>\n",
              "      <td>0.000000</td>\n",
              "      <td>-3.330669e-16</td>\n",
              "      <td>0.0</td>\n",
              "    </tr>\n",
              "  </tbody>\n",
              "</table>\n",
              "</div>\n",
              "      <button class=\"colab-df-convert\" onclick=\"convertToInteractive('df-0dc28a61-b28d-4d23-8cef-a52c81332fdd')\"\n",
              "              title=\"Convert this dataframe to an interactive table.\"\n",
              "              style=\"display:none;\">\n",
              "        \n",
              "  <svg xmlns=\"http://www.w3.org/2000/svg\" height=\"24px\"viewBox=\"0 0 24 24\"\n",
              "       width=\"24px\">\n",
              "    <path d=\"M0 0h24v24H0V0z\" fill=\"none\"/>\n",
              "    <path d=\"M18.56 5.44l.94 2.06.94-2.06 2.06-.94-2.06-.94-.94-2.06-.94 2.06-2.06.94zm-11 1L8.5 8.5l.94-2.06 2.06-.94-2.06-.94L8.5 2.5l-.94 2.06-2.06.94zm10 10l.94 2.06.94-2.06 2.06-.94-2.06-.94-.94-2.06-.94 2.06-2.06.94z\"/><path d=\"M17.41 7.96l-1.37-1.37c-.4-.4-.92-.59-1.43-.59-.52 0-1.04.2-1.43.59L10.3 9.45l-7.72 7.72c-.78.78-.78 2.05 0 2.83L4 21.41c.39.39.9.59 1.41.59.51 0 1.02-.2 1.41-.59l7.78-7.78 2.81-2.81c.8-.78.8-2.07 0-2.86zM5.41 20L4 18.59l7.72-7.72 1.47 1.35L5.41 20z\"/>\n",
              "  </svg>\n",
              "      </button>\n",
              "      \n",
              "  <style>\n",
              "    .colab-df-container {\n",
              "      display:flex;\n",
              "      flex-wrap:wrap;\n",
              "      gap: 12px;\n",
              "    }\n",
              "\n",
              "    .colab-df-convert {\n",
              "      background-color: #E8F0FE;\n",
              "      border: none;\n",
              "      border-radius: 50%;\n",
              "      cursor: pointer;\n",
              "      display: none;\n",
              "      fill: #1967D2;\n",
              "      height: 32px;\n",
              "      padding: 0 0 0 0;\n",
              "      width: 32px;\n",
              "    }\n",
              "\n",
              "    .colab-df-convert:hover {\n",
              "      background-color: #E2EBFA;\n",
              "      box-shadow: 0px 1px 2px rgba(60, 64, 67, 0.3), 0px 1px 3px 1px rgba(60, 64, 67, 0.15);\n",
              "      fill: #174EA6;\n",
              "    }\n",
              "\n",
              "    [theme=dark] .colab-df-convert {\n",
              "      background-color: #3B4455;\n",
              "      fill: #D2E3FC;\n",
              "    }\n",
              "\n",
              "    [theme=dark] .colab-df-convert:hover {\n",
              "      background-color: #434B5C;\n",
              "      box-shadow: 0px 1px 3px 1px rgba(0, 0, 0, 0.15);\n",
              "      filter: drop-shadow(0px 1px 2px rgba(0, 0, 0, 0.3));\n",
              "      fill: #FFFFFF;\n",
              "    }\n",
              "  </style>\n",
              "\n",
              "      <script>\n",
              "        const buttonEl =\n",
              "          document.querySelector('#df-0dc28a61-b28d-4d23-8cef-a52c81332fdd button.colab-df-convert');\n",
              "        buttonEl.style.display =\n",
              "          google.colab.kernel.accessAllowed ? 'block' : 'none';\n",
              "\n",
              "        async function convertToInteractive(key) {\n",
              "          const element = document.querySelector('#df-0dc28a61-b28d-4d23-8cef-a52c81332fdd');\n",
              "          const dataTable =\n",
              "            await google.colab.kernel.invokeFunction('convertToInteractive',\n",
              "                                                     [key], {});\n",
              "          if (!dataTable) return;\n",
              "\n",
              "          const docLinkHtml = 'Like what you see? Visit the ' +\n",
              "            '<a target=\"_blank\" href=https://colab.research.google.com/notebooks/data_table.ipynb>data table notebook</a>'\n",
              "            + ' to learn more about interactive tables.';\n",
              "          element.innerHTML = '';\n",
              "          dataTable['output_type'] = 'display_data';\n",
              "          await google.colab.output.renderOutput(dataTable, element);\n",
              "          const docLink = document.createElement('div');\n",
              "          docLink.innerHTML = docLinkHtml;\n",
              "          element.appendChild(docLink);\n",
              "        }\n",
              "      </script>\n",
              "    </div>\n",
              "  </div>\n",
              "  "
            ]
          },
          "metadata": {},
          "execution_count": 20
        }
      ]
    },
    {
      "cell_type": "code",
      "source": [
        "rang = 0\n",
        "for i in range(n) :\n",
        "  if abs(M[i][i]) > 1e-14 :\n",
        "    rang += 1\n",
        "print(f\"Le rang de la matrice vaut {rang}\")"
      ],
      "metadata": {
        "colab": {
          "base_uri": "https://localhost:8080/"
        },
        "id": "S6FohQdXDCXi",
        "outputId": "83ed878c-0c92-44be-988f-2d1af34fd760"
      },
      "execution_count": 21,
      "outputs": [
        {
          "output_type": "stream",
          "name": "stdout",
          "text": [
            "Le rang de la matrice vaut 11\n"
          ]
        }
      ]
    },
    {
      "cell_type": "markdown",
      "source": [
        "On doit modifier un peu la fonction `substitution` par rapport au TP11 pour tenir compte du fait que certaines composantes du vecteur solution sont libres (ici, on les fixe à 1) :"
      ],
      "metadata": {
        "id": "pJm0HPjHCNWx"
      }
    },
    {
      "cell_type": "code",
      "source": [
        "def substitution(M) :\n",
        "    n = len(M)\n",
        "    V = [0]*n\n",
        "    tol = 1e-9\n",
        "    for i in range(n-1,-1,-1):\n",
        "        if abs(M[i][i]) > tol :\n",
        "            V[i] = M[i][n]\n",
        "            for j in range(i+1,n):\n",
        "                V[i] -= M[i][j]*V[j]\n",
        "            V[i] /= M[i][i]\n",
        "        else :\n",
        "            V[i] = 1 # ajouté par rapport au TP11\n",
        "    return V"
      ],
      "metadata": {
        "id": "96QU5I9pBWq8"
      },
      "execution_count": 19,
      "outputs": []
    },
    {
      "cell_type": "markdown",
      "source": [
        "Solution obtenue par substitution :"
      ],
      "metadata": {
        "id": "2zb9xyUsDKI8"
      }
    },
    {
      "cell_type": "code",
      "source": [
        "mu = substitution(M)"
      ],
      "metadata": {
        "id": "QcP3ezV1CyMd"
      },
      "execution_count": 34,
      "outputs": []
    },
    {
      "cell_type": "code",
      "source": [
        "for i in range(1,13) :\n",
        "    print(f'{i:2} : {mu[i-1]}')"
      ],
      "metadata": {
        "colab": {
          "base_uri": "https://localhost:8080/"
        },
        "id": "vRrZEXB3D9hM",
        "outputId": "183d93f5-8365-49a9-a788-44c23497f620"
      },
      "execution_count": 35,
      "outputs": [
        {
          "output_type": "stream",
          "name": "stdout",
          "text": [
            " 1 : 2.0000000000000013\n",
            " 2 : 1.0000000000000009\n",
            " 3 : 1.0000000000000007\n",
            " 4 : 1.000000000000001\n",
            " 5 : 2.9999999999999996\n",
            " 6 : 0.9999999999999998\n",
            " 7 : 1.9999999999999996\n",
            " 8 : 0.9999999999999998\n",
            " 9 : 1.9999999999999996\n",
            "10 : 0.9999999999999999\n",
            "11 : 0.9999999999999997\n",
            "12 : 1\n"
          ]
        }
      ]
    },
    {
      "cell_type": "markdown",
      "source": [
        "Écrivons maintenant `PageRank` :"
      ],
      "metadata": {
        "id": "r3DAub8FDZdd"
      }
    },
    {
      "cell_type": "code",
      "source": [
        "def PageRank(web: dict) -> list:\n",
        "\tn = len(web)\n",
        "\tc = 0.15\n",
        "\tmu_avant = [c/n for i in range(n)]\n",
        "\tmu_apres = [0 for i in range(n)]\n",
        "\ttest = True\n",
        "\twhile test :\n",
        "\t\tfor i in range(n) :\n",
        "\t\t\tS = 0\n",
        "\t\t\tfor j in web :\n",
        "\t\t\t\tif i+1 in web[j] :\n",
        "\t\t\t\t\tS += (1-c)/len(web[j])*mu_avant[j-1]\n",
        "\t\t\tmu_apres[i] = c/n + S\n",
        "\t\ttest = False\n",
        "\t\tfor i in range(n) :\n",
        "\t\t\tif abs(mu_apres[i]-mu_avant[i])>1e-9 :\n",
        "\t\t\t\ttest = True\n",
        "\t\tmu_avant[:] = mu_apres[:]\n",
        "\treturn mu_apres"
      ],
      "metadata": {
        "id": "KMs0eAtpDWFM"
      },
      "execution_count": 23,
      "outputs": []
    },
    {
      "cell_type": "markdown",
      "source": [
        "Solution obtenue par `PageRank` :"
      ],
      "metadata": {
        "id": "H6bsNIrRDir9"
      }
    },
    {
      "cell_type": "code",
      "source": [
        "mu = PageRank(web)"
      ],
      "metadata": {
        "colab": {
          "base_uri": "https://localhost:8080/"
        },
        "id": "42qMCxLcDgE8",
        "outputId": "937878b2-0c73-4b9d-9223-3975d21bde62"
      },
      "execution_count": 33,
      "outputs": [
        {
          "output_type": "stream",
          "name": "stdout",
          "text": [
            "2.87 ms ± 222 µs per loop (mean ± std. dev. of 7 runs, 100 loops each)\n"
          ]
        }
      ]
    },
    {
      "cell_type": "code",
      "source": [
        "for i in range(1,13) :\n",
        "    print(f'{i:2} : {mu[i-1]}')"
      ],
      "metadata": {
        "colab": {
          "base_uri": "https://localhost:8080/"
        },
        "id": "7MgotxTpDsws",
        "outputId": "6d80dab6-ae52-461e-c5c5-fd07cf5ada2e"
      },
      "execution_count": 27,
      "outputs": [
        {
          "output_type": "stream",
          "name": "stdout",
          "text": [
            " 1 : 0.12030504554607914\n",
            " 2 : 0.06619969031496217\n",
            " 3 : 0.06619969031496217\n",
            " 4 : 0.06619969031496217\n",
            " 5 : 0.15021127469514933\n",
            " 6 : 0.05505986091618707\n",
            " 7 : 0.10186074244750752\n",
            " 8 : 0.05505986091618707\n",
            " 9 : 0.12030504554607914\n",
            "10 : 0.06619969031496217\n",
            "11 : 0.06619969031496217\n",
            "12 : 0.06619969031496217\n"
          ]
        }
      ]
    },
    {
      "cell_type": "markdown",
      "source": [
        "Création d'un graphe fortement connecté (pour que Gauss donne autre chose que la slution nulle)."
      ],
      "metadata": {
        "id": "w4hck_5VSf6G"
      }
    },
    {
      "cell_type": "code",
      "source": [
        "from collections import deque\n",
        "def domaines_connexes(G):\n",
        "    Domaines = []\n",
        "    Vus_tous = []\n",
        "    for S in G :\n",
        "        if S not in Vus_tous :\n",
        "            file = deque()\n",
        "            file.append(S)\n",
        "            Vus = []\n",
        "            while file :\n",
        "                sommet = file.popleft()\n",
        "                if not sommet in Vus :\n",
        "                    file += G[sommet]\n",
        "                    Vus.append(sommet)\n",
        "            Domaines.append(Vus)\n",
        "            Vus_tous += Vus\n",
        "    return Domaines"
      ],
      "metadata": {
        "id": "2Ce4bZXgMDaI"
      },
      "execution_count": 82,
      "outputs": []
    },
    {
      "cell_type": "code",
      "source": [
        "def renverse(G) :\n",
        "    Gt = {k : [] for k in G}\n",
        "    for k in G :\n",
        "        for s in G[k] :\n",
        "            Gt[s].append(k)\n",
        "    return Gt\n",
        "\n",
        "def DFStopo(G,s) :\n",
        "    Vus.append(s)\n",
        "    for sommet in G[s] :\n",
        "        if sommet not in Vus :\n",
        "            DFStopo(G,sommet)\n",
        "    Ordo.append(s)\n",
        "    \n",
        "def toposort(G) :\n",
        "    global Vus,Ordo\n",
        "    Vus = []\n",
        "    Ordo = []\n",
        "    for s in G :\n",
        "        if s not in Vus :\n",
        "            DFStopo(G,s)\n",
        "    return Ordo[::-1]\n",
        "\n",
        "\n",
        "def Kosaraju(G) :\n",
        "    Gt = renverse(G)\n",
        "    Ordo = toposort(Gt)\n",
        "    global Vus,SCC\n",
        "    Vus = []\n",
        "    SCC = []\n",
        "    for s in Ordo :\n",
        "        if s not in Vus :\n",
        "            SCC.append([])\n",
        "            DFS_SCC(G,s)\n",
        "    return SCC[::-1]\n",
        "\n",
        "def DFS_SCC(G,s) :\n",
        "    Vus.append(s)\n",
        "    SCC[-1].append(s)\n",
        "    for sommet in G[s] :\n",
        "        if sommet not in Vus :\n",
        "            DFS_SCC(G,sommet)"
      ],
      "metadata": {
        "id": "CJ00cdTXSc3I"
      },
      "execution_count": 126,
      "outputs": []
    },
    {
      "cell_type": "code",
      "source": [
        "web[12].append(13)"
      ],
      "metadata": {
        "id": "HWCZ44yUUwo8"
      },
      "execution_count": 156,
      "outputs": []
    },
    {
      "cell_type": "code",
      "source": [
        "web[13]=[13]"
      ],
      "metadata": {
        "id": "ttDwFn6rU25Z"
      },
      "execution_count": 157,
      "outputs": []
    },
    {
      "cell_type": "code",
      "source": [
        "SCC = Kosaraju(web)\n",
        "len(SCC)"
      ],
      "metadata": {
        "colab": {
          "base_uri": "https://localhost:8080/"
        },
        "id": "viWe-JaRTDOZ",
        "outputId": "1e82c8b3-4408-4d8c-e5dc-7c8f661c34df"
      },
      "execution_count": 159,
      "outputs": [
        {
          "output_type": "execute_result",
          "data": {
            "text/plain": [
              "2"
            ]
          },
          "metadata": {},
          "execution_count": 159
        }
      ]
    },
    {
      "cell_type": "code",
      "source": [
        "SCC"
      ],
      "metadata": {
        "colab": {
          "base_uri": "https://localhost:8080/"
        },
        "id": "xT-1ihgtU7VU",
        "outputId": "91aa1d5b-56c0-49cf-815b-ad5a330beb81"
      },
      "execution_count": 160,
      "outputs": [
        {
          "output_type": "execute_result",
          "data": {
            "text/plain": [
              "[[1, 2, 3, 4, 5, 6, 7, 8, 9, 10, 11, 12], [13]]"
            ]
          },
          "metadata": {},
          "execution_count": 160
        }
      ]
    },
    {
      "cell_type": "markdown",
      "source": [
        "Fabrication d'un graphe du web connexe :\n",
        "\n"
      ],
      "metadata": {
        "id": "NEU3U1qkXbQA"
      }
    },
    {
      "cell_type": "code",
      "source": [
        "from random import randint\n",
        "def fabweb(n: int,nbliens: tuple) -> dict:\n",
        "    test = True\n",
        "    # Tant que pas connexe, on recommence\n",
        "    while test :\n",
        "        web = {}\n",
        "        for i in range(1,n+1) :\n",
        "            liens = []\n",
        "            for j in range(randint(*nbliens)) :\n",
        "                x = randint(1,n)\n",
        "                if x not in liens and x != i :\n",
        "                    liens.append(x)\n",
        "            web[i] = liens\n",
        "        Dom = domaines_connexes(web)\n",
        "        test = len(Dom) != 1\n",
        "    return web"
      ],
      "metadata": {
        "id": "5k9N7eqYE8-b"
      },
      "execution_count": 239,
      "outputs": []
    },
    {
      "cell_type": "code",
      "source": [
        "grosweb = fabweb(100,(5,15))"
      ],
      "metadata": {
        "id": "bRHx424hYDTw"
      },
      "execution_count": 197,
      "outputs": []
    },
    {
      "cell_type": "code",
      "source": [
        "SCC = Kosaraju(grosweb)\n",
        "print(len(SCC))\n",
        "print(SCC)"
      ],
      "metadata": {
        "colab": {
          "base_uri": "https://localhost:8080/"
        },
        "id": "yi6tAVCAVVhX",
        "outputId": "be8682f5-fab3-4522-f936-3bda59bdc450"
      },
      "execution_count": 230,
      "outputs": [
        {
          "output_type": "stream",
          "name": "stdout",
          "text": [
            "2\n",
            "[[1, 6, 8, 4, 3, 5, 9, 7, 2], [10]]\n"
          ]
        }
      ]
    },
    {
      "cell_type": "code",
      "source": [
        "grosweb"
      ],
      "metadata": {
        "colab": {
          "base_uri": "https://localhost:8080/"
        },
        "id": "Tb1o91w7bigj",
        "outputId": "21f7d78f-505d-465c-ba71-5db57ac1be24"
      },
      "execution_count": 229,
      "outputs": [
        {
          "output_type": "execute_result",
          "data": {
            "text/plain": [
              "{1: [6, 5, 4, 8, 10, 7],\n",
              " 2: [1, 4, 10, 7, 6, 5, 8],\n",
              " 3: [5, 1, 10, 7, 8],\n",
              " 4: [3, 9, 1, 2, 10],\n",
              " 5: [6, 8, 3, 10, 9],\n",
              " 6: [1, 8],\n",
              " 7: [10, 1, 2, 5, 3, 9],\n",
              " 8: [4, 7, 9, 6, 5],\n",
              " 9: [5, 1, 8, 3, 4],\n",
              " 10: []}"
            ]
          },
          "metadata": {},
          "execution_count": 229
        }
      ]
    },
    {
      "cell_type": "code",
      "source": [
        "SCC"
      ],
      "metadata": {
        "colab": {
          "base_uri": "https://localhost:8080/"
        },
        "id": "fb-sa3IEbc1H",
        "outputId": "421dae60-671a-4777-87e6-e7935325bef5"
      },
      "execution_count": 228,
      "outputs": [
        {
          "output_type": "execute_result",
          "data": {
            "text/plain": [
              "[[1, 6, 8, 4, 3, 5, 9, 7, 2], [10]]"
            ]
          },
          "metadata": {},
          "execution_count": 228
        }
      ]
    },
    {
      "cell_type": "code",
      "source": [
        "M = dictosyst(grosweb)\n",
        "n = len(M)\n",
        "indices = [i for i in range(1,n+1)]\n",
        "colonnes = indices + [\"v\"]\n",
        "pd.DataFrame(M,index=[indices],columns=colonnes)"
      ],
      "metadata": {
        "colab": {
          "base_uri": "https://localhost:8080/",
          "height": 419
        },
        "id": "Z8_mbntFLM_8",
        "outputId": "70bc735a-f3e4-4f7a-8e98-87825d5bb395"
      },
      "execution_count": 199,
      "outputs": [
        {
          "output_type": "execute_result",
          "data": {
            "text/plain": [
              "         1    2         3         4    5    6    7         8         9   10  \\\n",
              "1   -1.000  0.0  0.000000  0.000000  0.0  0.0  0.0  0.000000  0.000000  0.0   \n",
              "2    0.000 -1.0  0.000000  0.000000  0.0  0.0  0.0  0.000000  0.000000  0.0   \n",
              "3    0.000  0.0 -1.000000  0.000000  0.0  0.0  0.0  0.000000  0.142857  0.0   \n",
              "4    0.000  0.0  0.000000 -1.000000  0.0  0.0  0.0  0.000000  0.000000  0.0   \n",
              "5    0.000  0.0  0.000000  0.000000 -1.0  0.0  0.0  0.071429  0.000000  0.0   \n",
              "..     ...  ...       ...       ...  ...  ...  ...       ...       ...  ...   \n",
              "96   0.000  0.0  0.000000  0.000000  0.0  0.0  0.0  0.000000  0.000000  0.0   \n",
              "97   0.000  0.0  0.066667  0.066667  0.0  0.0  0.0  0.000000  0.000000  0.0   \n",
              "98   0.000  0.0  0.000000  0.066667  0.0  0.0  0.0  0.000000  0.000000  0.0   \n",
              "99   0.000  0.0  0.000000  0.000000  0.0  0.0  0.0  0.000000  0.000000  0.0   \n",
              "100  0.125  0.0  0.066667  0.000000  0.0  0.0  0.0  0.000000  0.000000  0.1   \n",
              "\n",
              "     ...   92   93        94        95   96     97   98   99  100  v  \n",
              "1    ...  0.0  0.0  0.000000  0.071429  0.0  0.000  0.0  0.0  0.0  0  \n",
              "2    ...  0.0  0.0  0.000000  0.000000  0.0  0.000  0.0  0.0  0.0  0  \n",
              "3    ...  0.0  0.0  0.000000  0.000000  0.0  0.000  0.0  0.0  0.0  0  \n",
              "4    ...  0.0  0.0  0.000000  0.000000  0.0  0.000  0.0  0.0  0.0  0  \n",
              "5    ...  0.0  0.0  0.000000  0.000000  0.0  0.000  0.0  0.0  0.0  0  \n",
              "..   ...  ...  ...       ...       ...  ...    ...  ...  ...  ... ..  \n",
              "96   ...  0.0  0.0  0.076923  0.000000 -1.0  0.125  0.0  0.0  0.0  0  \n",
              "97   ...  0.0  0.0  0.000000  0.000000  0.0 -1.000  0.0  0.0  0.0  0  \n",
              "98   ...  0.0  0.0  0.000000  0.000000  0.0  0.000 -1.0  0.0  0.0  0  \n",
              "99   ...  0.0  0.0  0.000000  0.000000  0.0  0.000  0.0 -1.0  0.0  0  \n",
              "100  ...  0.0  0.0  0.000000  0.000000  0.0  0.000  0.0  0.0 -1.0  0  \n",
              "\n",
              "[100 rows x 101 columns]"
            ],
            "text/html": [
              "\n",
              "  <div id=\"df-a4e59117-d856-4b3e-9012-91d2d52d8c27\">\n",
              "    <div class=\"colab-df-container\">\n",
              "      <div>\n",
              "<style scoped>\n",
              "    .dataframe tbody tr th:only-of-type {\n",
              "        vertical-align: middle;\n",
              "    }\n",
              "\n",
              "    .dataframe tbody tr th {\n",
              "        vertical-align: top;\n",
              "    }\n",
              "\n",
              "    .dataframe thead th {\n",
              "        text-align: right;\n",
              "    }\n",
              "</style>\n",
              "<table border=\"1\" class=\"dataframe\">\n",
              "  <thead>\n",
              "    <tr style=\"text-align: right;\">\n",
              "      <th></th>\n",
              "      <th>1</th>\n",
              "      <th>2</th>\n",
              "      <th>3</th>\n",
              "      <th>4</th>\n",
              "      <th>5</th>\n",
              "      <th>6</th>\n",
              "      <th>7</th>\n",
              "      <th>8</th>\n",
              "      <th>9</th>\n",
              "      <th>10</th>\n",
              "      <th>...</th>\n",
              "      <th>92</th>\n",
              "      <th>93</th>\n",
              "      <th>94</th>\n",
              "      <th>95</th>\n",
              "      <th>96</th>\n",
              "      <th>97</th>\n",
              "      <th>98</th>\n",
              "      <th>99</th>\n",
              "      <th>100</th>\n",
              "      <th>v</th>\n",
              "    </tr>\n",
              "  </thead>\n",
              "  <tbody>\n",
              "    <tr>\n",
              "      <th>1</th>\n",
              "      <td>-1.000</td>\n",
              "      <td>0.0</td>\n",
              "      <td>0.000000</td>\n",
              "      <td>0.000000</td>\n",
              "      <td>0.0</td>\n",
              "      <td>0.0</td>\n",
              "      <td>0.0</td>\n",
              "      <td>0.000000</td>\n",
              "      <td>0.000000</td>\n",
              "      <td>0.0</td>\n",
              "      <td>...</td>\n",
              "      <td>0.0</td>\n",
              "      <td>0.0</td>\n",
              "      <td>0.000000</td>\n",
              "      <td>0.071429</td>\n",
              "      <td>0.0</td>\n",
              "      <td>0.000</td>\n",
              "      <td>0.0</td>\n",
              "      <td>0.0</td>\n",
              "      <td>0.0</td>\n",
              "      <td>0</td>\n",
              "    </tr>\n",
              "    <tr>\n",
              "      <th>2</th>\n",
              "      <td>0.000</td>\n",
              "      <td>-1.0</td>\n",
              "      <td>0.000000</td>\n",
              "      <td>0.000000</td>\n",
              "      <td>0.0</td>\n",
              "      <td>0.0</td>\n",
              "      <td>0.0</td>\n",
              "      <td>0.000000</td>\n",
              "      <td>0.000000</td>\n",
              "      <td>0.0</td>\n",
              "      <td>...</td>\n",
              "      <td>0.0</td>\n",
              "      <td>0.0</td>\n",
              "      <td>0.000000</td>\n",
              "      <td>0.000000</td>\n",
              "      <td>0.0</td>\n",
              "      <td>0.000</td>\n",
              "      <td>0.0</td>\n",
              "      <td>0.0</td>\n",
              "      <td>0.0</td>\n",
              "      <td>0</td>\n",
              "    </tr>\n",
              "    <tr>\n",
              "      <th>3</th>\n",
              "      <td>0.000</td>\n",
              "      <td>0.0</td>\n",
              "      <td>-1.000000</td>\n",
              "      <td>0.000000</td>\n",
              "      <td>0.0</td>\n",
              "      <td>0.0</td>\n",
              "      <td>0.0</td>\n",
              "      <td>0.000000</td>\n",
              "      <td>0.142857</td>\n",
              "      <td>0.0</td>\n",
              "      <td>...</td>\n",
              "      <td>0.0</td>\n",
              "      <td>0.0</td>\n",
              "      <td>0.000000</td>\n",
              "      <td>0.000000</td>\n",
              "      <td>0.0</td>\n",
              "      <td>0.000</td>\n",
              "      <td>0.0</td>\n",
              "      <td>0.0</td>\n",
              "      <td>0.0</td>\n",
              "      <td>0</td>\n",
              "    </tr>\n",
              "    <tr>\n",
              "      <th>4</th>\n",
              "      <td>0.000</td>\n",
              "      <td>0.0</td>\n",
              "      <td>0.000000</td>\n",
              "      <td>-1.000000</td>\n",
              "      <td>0.0</td>\n",
              "      <td>0.0</td>\n",
              "      <td>0.0</td>\n",
              "      <td>0.000000</td>\n",
              "      <td>0.000000</td>\n",
              "      <td>0.0</td>\n",
              "      <td>...</td>\n",
              "      <td>0.0</td>\n",
              "      <td>0.0</td>\n",
              "      <td>0.000000</td>\n",
              "      <td>0.000000</td>\n",
              "      <td>0.0</td>\n",
              "      <td>0.000</td>\n",
              "      <td>0.0</td>\n",
              "      <td>0.0</td>\n",
              "      <td>0.0</td>\n",
              "      <td>0</td>\n",
              "    </tr>\n",
              "    <tr>\n",
              "      <th>5</th>\n",
              "      <td>0.000</td>\n",
              "      <td>0.0</td>\n",
              "      <td>0.000000</td>\n",
              "      <td>0.000000</td>\n",
              "      <td>-1.0</td>\n",
              "      <td>0.0</td>\n",
              "      <td>0.0</td>\n",
              "      <td>0.071429</td>\n",
              "      <td>0.000000</td>\n",
              "      <td>0.0</td>\n",
              "      <td>...</td>\n",
              "      <td>0.0</td>\n",
              "      <td>0.0</td>\n",
              "      <td>0.000000</td>\n",
              "      <td>0.000000</td>\n",
              "      <td>0.0</td>\n",
              "      <td>0.000</td>\n",
              "      <td>0.0</td>\n",
              "      <td>0.0</td>\n",
              "      <td>0.0</td>\n",
              "      <td>0</td>\n",
              "    </tr>\n",
              "    <tr>\n",
              "      <th>...</th>\n",
              "      <td>...</td>\n",
              "      <td>...</td>\n",
              "      <td>...</td>\n",
              "      <td>...</td>\n",
              "      <td>...</td>\n",
              "      <td>...</td>\n",
              "      <td>...</td>\n",
              "      <td>...</td>\n",
              "      <td>...</td>\n",
              "      <td>...</td>\n",
              "      <td>...</td>\n",
              "      <td>...</td>\n",
              "      <td>...</td>\n",
              "      <td>...</td>\n",
              "      <td>...</td>\n",
              "      <td>...</td>\n",
              "      <td>...</td>\n",
              "      <td>...</td>\n",
              "      <td>...</td>\n",
              "      <td>...</td>\n",
              "      <td>...</td>\n",
              "    </tr>\n",
              "    <tr>\n",
              "      <th>96</th>\n",
              "      <td>0.000</td>\n",
              "      <td>0.0</td>\n",
              "      <td>0.000000</td>\n",
              "      <td>0.000000</td>\n",
              "      <td>0.0</td>\n",
              "      <td>0.0</td>\n",
              "      <td>0.0</td>\n",
              "      <td>0.000000</td>\n",
              "      <td>0.000000</td>\n",
              "      <td>0.0</td>\n",
              "      <td>...</td>\n",
              "      <td>0.0</td>\n",
              "      <td>0.0</td>\n",
              "      <td>0.076923</td>\n",
              "      <td>0.000000</td>\n",
              "      <td>-1.0</td>\n",
              "      <td>0.125</td>\n",
              "      <td>0.0</td>\n",
              "      <td>0.0</td>\n",
              "      <td>0.0</td>\n",
              "      <td>0</td>\n",
              "    </tr>\n",
              "    <tr>\n",
              "      <th>97</th>\n",
              "      <td>0.000</td>\n",
              "      <td>0.0</td>\n",
              "      <td>0.066667</td>\n",
              "      <td>0.066667</td>\n",
              "      <td>0.0</td>\n",
              "      <td>0.0</td>\n",
              "      <td>0.0</td>\n",
              "      <td>0.000000</td>\n",
              "      <td>0.000000</td>\n",
              "      <td>0.0</td>\n",
              "      <td>...</td>\n",
              "      <td>0.0</td>\n",
              "      <td>0.0</td>\n",
              "      <td>0.000000</td>\n",
              "      <td>0.000000</td>\n",
              "      <td>0.0</td>\n",
              "      <td>-1.000</td>\n",
              "      <td>0.0</td>\n",
              "      <td>0.0</td>\n",
              "      <td>0.0</td>\n",
              "      <td>0</td>\n",
              "    </tr>\n",
              "    <tr>\n",
              "      <th>98</th>\n",
              "      <td>0.000</td>\n",
              "      <td>0.0</td>\n",
              "      <td>0.000000</td>\n",
              "      <td>0.066667</td>\n",
              "      <td>0.0</td>\n",
              "      <td>0.0</td>\n",
              "      <td>0.0</td>\n",
              "      <td>0.000000</td>\n",
              "      <td>0.000000</td>\n",
              "      <td>0.0</td>\n",
              "      <td>...</td>\n",
              "      <td>0.0</td>\n",
              "      <td>0.0</td>\n",
              "      <td>0.000000</td>\n",
              "      <td>0.000000</td>\n",
              "      <td>0.0</td>\n",
              "      <td>0.000</td>\n",
              "      <td>-1.0</td>\n",
              "      <td>0.0</td>\n",
              "      <td>0.0</td>\n",
              "      <td>0</td>\n",
              "    </tr>\n",
              "    <tr>\n",
              "      <th>99</th>\n",
              "      <td>0.000</td>\n",
              "      <td>0.0</td>\n",
              "      <td>0.000000</td>\n",
              "      <td>0.000000</td>\n",
              "      <td>0.0</td>\n",
              "      <td>0.0</td>\n",
              "      <td>0.0</td>\n",
              "      <td>0.000000</td>\n",
              "      <td>0.000000</td>\n",
              "      <td>0.0</td>\n",
              "      <td>...</td>\n",
              "      <td>0.0</td>\n",
              "      <td>0.0</td>\n",
              "      <td>0.000000</td>\n",
              "      <td>0.000000</td>\n",
              "      <td>0.0</td>\n",
              "      <td>0.000</td>\n",
              "      <td>0.0</td>\n",
              "      <td>-1.0</td>\n",
              "      <td>0.0</td>\n",
              "      <td>0</td>\n",
              "    </tr>\n",
              "    <tr>\n",
              "      <th>100</th>\n",
              "      <td>0.125</td>\n",
              "      <td>0.0</td>\n",
              "      <td>0.066667</td>\n",
              "      <td>0.000000</td>\n",
              "      <td>0.0</td>\n",
              "      <td>0.0</td>\n",
              "      <td>0.0</td>\n",
              "      <td>0.000000</td>\n",
              "      <td>0.000000</td>\n",
              "      <td>0.1</td>\n",
              "      <td>...</td>\n",
              "      <td>0.0</td>\n",
              "      <td>0.0</td>\n",
              "      <td>0.000000</td>\n",
              "      <td>0.000000</td>\n",
              "      <td>0.0</td>\n",
              "      <td>0.000</td>\n",
              "      <td>0.0</td>\n",
              "      <td>0.0</td>\n",
              "      <td>-1.0</td>\n",
              "      <td>0</td>\n",
              "    </tr>\n",
              "  </tbody>\n",
              "</table>\n",
              "<p>100 rows × 101 columns</p>\n",
              "</div>\n",
              "      <button class=\"colab-df-convert\" onclick=\"convertToInteractive('df-a4e59117-d856-4b3e-9012-91d2d52d8c27')\"\n",
              "              title=\"Convert this dataframe to an interactive table.\"\n",
              "              style=\"display:none;\">\n",
              "        \n",
              "  <svg xmlns=\"http://www.w3.org/2000/svg\" height=\"24px\"viewBox=\"0 0 24 24\"\n",
              "       width=\"24px\">\n",
              "    <path d=\"M0 0h24v24H0V0z\" fill=\"none\"/>\n",
              "    <path d=\"M18.56 5.44l.94 2.06.94-2.06 2.06-.94-2.06-.94-.94-2.06-.94 2.06-2.06.94zm-11 1L8.5 8.5l.94-2.06 2.06-.94-2.06-.94L8.5 2.5l-.94 2.06-2.06.94zm10 10l.94 2.06.94-2.06 2.06-.94-2.06-.94-.94-2.06-.94 2.06-2.06.94z\"/><path d=\"M17.41 7.96l-1.37-1.37c-.4-.4-.92-.59-1.43-.59-.52 0-1.04.2-1.43.59L10.3 9.45l-7.72 7.72c-.78.78-.78 2.05 0 2.83L4 21.41c.39.39.9.59 1.41.59.51 0 1.02-.2 1.41-.59l7.78-7.78 2.81-2.81c.8-.78.8-2.07 0-2.86zM5.41 20L4 18.59l7.72-7.72 1.47 1.35L5.41 20z\"/>\n",
              "  </svg>\n",
              "      </button>\n",
              "      \n",
              "  <style>\n",
              "    .colab-df-container {\n",
              "      display:flex;\n",
              "      flex-wrap:wrap;\n",
              "      gap: 12px;\n",
              "    }\n",
              "\n",
              "    .colab-df-convert {\n",
              "      background-color: #E8F0FE;\n",
              "      border: none;\n",
              "      border-radius: 50%;\n",
              "      cursor: pointer;\n",
              "      display: none;\n",
              "      fill: #1967D2;\n",
              "      height: 32px;\n",
              "      padding: 0 0 0 0;\n",
              "      width: 32px;\n",
              "    }\n",
              "\n",
              "    .colab-df-convert:hover {\n",
              "      background-color: #E2EBFA;\n",
              "      box-shadow: 0px 1px 2px rgba(60, 64, 67, 0.3), 0px 1px 3px 1px rgba(60, 64, 67, 0.15);\n",
              "      fill: #174EA6;\n",
              "    }\n",
              "\n",
              "    [theme=dark] .colab-df-convert {\n",
              "      background-color: #3B4455;\n",
              "      fill: #D2E3FC;\n",
              "    }\n",
              "\n",
              "    [theme=dark] .colab-df-convert:hover {\n",
              "      background-color: #434B5C;\n",
              "      box-shadow: 0px 1px 3px 1px rgba(0, 0, 0, 0.15);\n",
              "      filter: drop-shadow(0px 1px 2px rgba(0, 0, 0, 0.3));\n",
              "      fill: #FFFFFF;\n",
              "    }\n",
              "  </style>\n",
              "\n",
              "      <script>\n",
              "        const buttonEl =\n",
              "          document.querySelector('#df-a4e59117-d856-4b3e-9012-91d2d52d8c27 button.colab-df-convert');\n",
              "        buttonEl.style.display =\n",
              "          google.colab.kernel.accessAllowed ? 'block' : 'none';\n",
              "\n",
              "        async function convertToInteractive(key) {\n",
              "          const element = document.querySelector('#df-a4e59117-d856-4b3e-9012-91d2d52d8c27');\n",
              "          const dataTable =\n",
              "            await google.colab.kernel.invokeFunction('convertToInteractive',\n",
              "                                                     [key], {});\n",
              "          if (!dataTable) return;\n",
              "\n",
              "          const docLinkHtml = 'Like what you see? Visit the ' +\n",
              "            '<a target=\"_blank\" href=https://colab.research.google.com/notebooks/data_table.ipynb>data table notebook</a>'\n",
              "            + ' to learn more about interactive tables.';\n",
              "          element.innerHTML = '';\n",
              "          dataTable['output_type'] = 'display_data';\n",
              "          await google.colab.output.renderOutput(dataTable, element);\n",
              "          const docLink = document.createElement('div');\n",
              "          docLink.innerHTML = docLinkHtml;\n",
              "          element.appendChild(docLink);\n",
              "        }\n",
              "      </script>\n",
              "    </div>\n",
              "  </div>\n",
              "  "
            ]
          },
          "metadata": {},
          "execution_count": 199
        }
      ]
    },
    {
      "cell_type": "code",
      "source": [
        "import numpy as np\n",
        "from scipy.linalg import lu\n",
        "p, l, u = lu(M)\n",
        "\n",
        "print(f\"rang de la matrice : {np.linalg.matrix_rank(M)}\")"
      ],
      "metadata": {
        "colab": {
          "base_uri": "https://localhost:8080/"
        },
        "id": "28PdfpFWOfzb",
        "outputId": "46e9693e-8a91-484d-975f-e85262c56c25"
      },
      "execution_count": 200,
      "outputs": [
        {
          "output_type": "stream",
          "name": "stdout",
          "text": [
            "rang de la matrice : 99\n"
          ]
        }
      ]
    },
    {
      "cell_type": "code",
      "source": [
        "Gauss(M,recherchePivotPartiel)\n",
        "pd.DataFrame(M,index=[indices],columns=colonnes)"
      ],
      "metadata": {
        "colab": {
          "base_uri": "https://localhost:8080/",
          "height": 419
        },
        "id": "BckiwFdWKqaW",
        "outputId": "348a4ede-adb3-4ac4-9032-768459b40e4c"
      },
      "execution_count": 201,
      "outputs": [
        {
          "output_type": "execute_result",
          "data": {
            "text/plain": [
              "       1    2    3    4    5    6    7         8         9   10  ...   92  \\\n",
              "1    1.0 -0.0 -0.0 -0.0 -0.0 -0.0 -0.0 -0.000000 -0.000000 -0.0  ... -0.0   \n",
              "2    0.0  1.0 -0.0 -0.0 -0.0 -0.0 -0.0 -0.000000 -0.000000 -0.0  ... -0.0   \n",
              "3    0.0  0.0  1.0 -0.0 -0.0 -0.0 -0.0 -0.000000 -0.142857 -0.0  ... -0.0   \n",
              "4    0.0  0.0  0.0  1.0 -0.0 -0.0 -0.0 -0.000000 -0.000000 -0.0  ... -0.0   \n",
              "5    0.0  0.0  0.0  0.0  1.0 -0.0 -0.0 -0.071429 -0.000000 -0.0  ... -0.0   \n",
              "..   ...  ...  ...  ...  ...  ...  ...       ...       ...  ...  ...  ...   \n",
              "96   0.0  0.0  0.0  0.0  0.0  0.0  0.0  0.000000  0.000000  0.0  ...  0.0   \n",
              "97   0.0  0.0  0.0  0.0  0.0  0.0  0.0  0.000000  0.000000  0.0  ...  0.0   \n",
              "98   0.0  0.0  0.0  0.0  0.0  0.0  0.0  0.000000  0.000000  0.0  ...  0.0   \n",
              "99   0.0  0.0  0.0  0.0  0.0  0.0  0.0  0.000000  0.000000  0.0  ...  0.0   \n",
              "100  0.0  0.0  0.0  0.0  0.0  0.0  0.0  0.000000  0.000000  0.0  ...  0.0   \n",
              "\n",
              "      93   94        95   96        97        98        99           100    v  \n",
              "1   -0.0 -0.0 -0.071429 -0.0 -0.000000 -0.000000 -0.000000 -0.000000e+00 -0.0  \n",
              "2   -0.0 -0.0 -0.000000 -0.0 -0.000000 -0.000000 -0.000000 -0.000000e+00 -0.0  \n",
              "3   -0.0 -0.0 -0.000000 -0.0 -0.000000 -0.000000 -0.000000 -0.000000e+00 -0.0  \n",
              "4   -0.0 -0.0 -0.000000 -0.0 -0.000000 -0.000000 -0.000000 -0.000000e+00 -0.0  \n",
              "5   -0.0 -0.0 -0.000000 -0.0 -0.000000 -0.000000 -0.000000 -0.000000e+00 -0.0  \n",
              "..   ...  ...       ...  ...       ...       ...       ...           ...  ...  \n",
              "96   0.0  0.0  0.000000  1.0 -0.383554 -0.234311 -0.283438 -2.595575e-01 -0.0  \n",
              "97   0.0  0.0  0.000000  0.0  1.000000 -0.416478 -0.367035 -3.855873e-01 -0.0  \n",
              "98   0.0  0.0  0.000000  0.0  0.000000  1.000000 -0.990374 -9.758975e-01 -0.0  \n",
              "99   0.0  0.0  0.000000  0.0  0.000000  0.000000  1.000000 -1.531296e+00  0.0  \n",
              "100  0.0  0.0  0.000000  0.0  0.000000  0.000000  0.000000  1.776357e-15  0.0  \n",
              "\n",
              "[100 rows x 101 columns]"
            ],
            "text/html": [
              "\n",
              "  <div id=\"df-ceef24a6-3c5d-4186-bcf5-ab18b665cb72\">\n",
              "    <div class=\"colab-df-container\">\n",
              "      <div>\n",
              "<style scoped>\n",
              "    .dataframe tbody tr th:only-of-type {\n",
              "        vertical-align: middle;\n",
              "    }\n",
              "\n",
              "    .dataframe tbody tr th {\n",
              "        vertical-align: top;\n",
              "    }\n",
              "\n",
              "    .dataframe thead th {\n",
              "        text-align: right;\n",
              "    }\n",
              "</style>\n",
              "<table border=\"1\" class=\"dataframe\">\n",
              "  <thead>\n",
              "    <tr style=\"text-align: right;\">\n",
              "      <th></th>\n",
              "      <th>1</th>\n",
              "      <th>2</th>\n",
              "      <th>3</th>\n",
              "      <th>4</th>\n",
              "      <th>5</th>\n",
              "      <th>6</th>\n",
              "      <th>7</th>\n",
              "      <th>8</th>\n",
              "      <th>9</th>\n",
              "      <th>10</th>\n",
              "      <th>...</th>\n",
              "      <th>92</th>\n",
              "      <th>93</th>\n",
              "      <th>94</th>\n",
              "      <th>95</th>\n",
              "      <th>96</th>\n",
              "      <th>97</th>\n",
              "      <th>98</th>\n",
              "      <th>99</th>\n",
              "      <th>100</th>\n",
              "      <th>v</th>\n",
              "    </tr>\n",
              "  </thead>\n",
              "  <tbody>\n",
              "    <tr>\n",
              "      <th>1</th>\n",
              "      <td>1.0</td>\n",
              "      <td>-0.0</td>\n",
              "      <td>-0.0</td>\n",
              "      <td>-0.0</td>\n",
              "      <td>-0.0</td>\n",
              "      <td>-0.0</td>\n",
              "      <td>-0.0</td>\n",
              "      <td>-0.000000</td>\n",
              "      <td>-0.000000</td>\n",
              "      <td>-0.0</td>\n",
              "      <td>...</td>\n",
              "      <td>-0.0</td>\n",
              "      <td>-0.0</td>\n",
              "      <td>-0.0</td>\n",
              "      <td>-0.071429</td>\n",
              "      <td>-0.0</td>\n",
              "      <td>-0.000000</td>\n",
              "      <td>-0.000000</td>\n",
              "      <td>-0.000000</td>\n",
              "      <td>-0.000000e+00</td>\n",
              "      <td>-0.0</td>\n",
              "    </tr>\n",
              "    <tr>\n",
              "      <th>2</th>\n",
              "      <td>0.0</td>\n",
              "      <td>1.0</td>\n",
              "      <td>-0.0</td>\n",
              "      <td>-0.0</td>\n",
              "      <td>-0.0</td>\n",
              "      <td>-0.0</td>\n",
              "      <td>-0.0</td>\n",
              "      <td>-0.000000</td>\n",
              "      <td>-0.000000</td>\n",
              "      <td>-0.0</td>\n",
              "      <td>...</td>\n",
              "      <td>-0.0</td>\n",
              "      <td>-0.0</td>\n",
              "      <td>-0.0</td>\n",
              "      <td>-0.000000</td>\n",
              "      <td>-0.0</td>\n",
              "      <td>-0.000000</td>\n",
              "      <td>-0.000000</td>\n",
              "      <td>-0.000000</td>\n",
              "      <td>-0.000000e+00</td>\n",
              "      <td>-0.0</td>\n",
              "    </tr>\n",
              "    <tr>\n",
              "      <th>3</th>\n",
              "      <td>0.0</td>\n",
              "      <td>0.0</td>\n",
              "      <td>1.0</td>\n",
              "      <td>-0.0</td>\n",
              "      <td>-0.0</td>\n",
              "      <td>-0.0</td>\n",
              "      <td>-0.0</td>\n",
              "      <td>-0.000000</td>\n",
              "      <td>-0.142857</td>\n",
              "      <td>-0.0</td>\n",
              "      <td>...</td>\n",
              "      <td>-0.0</td>\n",
              "      <td>-0.0</td>\n",
              "      <td>-0.0</td>\n",
              "      <td>-0.000000</td>\n",
              "      <td>-0.0</td>\n",
              "      <td>-0.000000</td>\n",
              "      <td>-0.000000</td>\n",
              "      <td>-0.000000</td>\n",
              "      <td>-0.000000e+00</td>\n",
              "      <td>-0.0</td>\n",
              "    </tr>\n",
              "    <tr>\n",
              "      <th>4</th>\n",
              "      <td>0.0</td>\n",
              "      <td>0.0</td>\n",
              "      <td>0.0</td>\n",
              "      <td>1.0</td>\n",
              "      <td>-0.0</td>\n",
              "      <td>-0.0</td>\n",
              "      <td>-0.0</td>\n",
              "      <td>-0.000000</td>\n",
              "      <td>-0.000000</td>\n",
              "      <td>-0.0</td>\n",
              "      <td>...</td>\n",
              "      <td>-0.0</td>\n",
              "      <td>-0.0</td>\n",
              "      <td>-0.0</td>\n",
              "      <td>-0.000000</td>\n",
              "      <td>-0.0</td>\n",
              "      <td>-0.000000</td>\n",
              "      <td>-0.000000</td>\n",
              "      <td>-0.000000</td>\n",
              "      <td>-0.000000e+00</td>\n",
              "      <td>-0.0</td>\n",
              "    </tr>\n",
              "    <tr>\n",
              "      <th>5</th>\n",
              "      <td>0.0</td>\n",
              "      <td>0.0</td>\n",
              "      <td>0.0</td>\n",
              "      <td>0.0</td>\n",
              "      <td>1.0</td>\n",
              "      <td>-0.0</td>\n",
              "      <td>-0.0</td>\n",
              "      <td>-0.071429</td>\n",
              "      <td>-0.000000</td>\n",
              "      <td>-0.0</td>\n",
              "      <td>...</td>\n",
              "      <td>-0.0</td>\n",
              "      <td>-0.0</td>\n",
              "      <td>-0.0</td>\n",
              "      <td>-0.000000</td>\n",
              "      <td>-0.0</td>\n",
              "      <td>-0.000000</td>\n",
              "      <td>-0.000000</td>\n",
              "      <td>-0.000000</td>\n",
              "      <td>-0.000000e+00</td>\n",
              "      <td>-0.0</td>\n",
              "    </tr>\n",
              "    <tr>\n",
              "      <th>...</th>\n",
              "      <td>...</td>\n",
              "      <td>...</td>\n",
              "      <td>...</td>\n",
              "      <td>...</td>\n",
              "      <td>...</td>\n",
              "      <td>...</td>\n",
              "      <td>...</td>\n",
              "      <td>...</td>\n",
              "      <td>...</td>\n",
              "      <td>...</td>\n",
              "      <td>...</td>\n",
              "      <td>...</td>\n",
              "      <td>...</td>\n",
              "      <td>...</td>\n",
              "      <td>...</td>\n",
              "      <td>...</td>\n",
              "      <td>...</td>\n",
              "      <td>...</td>\n",
              "      <td>...</td>\n",
              "      <td>...</td>\n",
              "      <td>...</td>\n",
              "    </tr>\n",
              "    <tr>\n",
              "      <th>96</th>\n",
              "      <td>0.0</td>\n",
              "      <td>0.0</td>\n",
              "      <td>0.0</td>\n",
              "      <td>0.0</td>\n",
              "      <td>0.0</td>\n",
              "      <td>0.0</td>\n",
              "      <td>0.0</td>\n",
              "      <td>0.000000</td>\n",
              "      <td>0.000000</td>\n",
              "      <td>0.0</td>\n",
              "      <td>...</td>\n",
              "      <td>0.0</td>\n",
              "      <td>0.0</td>\n",
              "      <td>0.0</td>\n",
              "      <td>0.000000</td>\n",
              "      <td>1.0</td>\n",
              "      <td>-0.383554</td>\n",
              "      <td>-0.234311</td>\n",
              "      <td>-0.283438</td>\n",
              "      <td>-2.595575e-01</td>\n",
              "      <td>-0.0</td>\n",
              "    </tr>\n",
              "    <tr>\n",
              "      <th>97</th>\n",
              "      <td>0.0</td>\n",
              "      <td>0.0</td>\n",
              "      <td>0.0</td>\n",
              "      <td>0.0</td>\n",
              "      <td>0.0</td>\n",
              "      <td>0.0</td>\n",
              "      <td>0.0</td>\n",
              "      <td>0.000000</td>\n",
              "      <td>0.000000</td>\n",
              "      <td>0.0</td>\n",
              "      <td>...</td>\n",
              "      <td>0.0</td>\n",
              "      <td>0.0</td>\n",
              "      <td>0.0</td>\n",
              "      <td>0.000000</td>\n",
              "      <td>0.0</td>\n",
              "      <td>1.000000</td>\n",
              "      <td>-0.416478</td>\n",
              "      <td>-0.367035</td>\n",
              "      <td>-3.855873e-01</td>\n",
              "      <td>-0.0</td>\n",
              "    </tr>\n",
              "    <tr>\n",
              "      <th>98</th>\n",
              "      <td>0.0</td>\n",
              "      <td>0.0</td>\n",
              "      <td>0.0</td>\n",
              "      <td>0.0</td>\n",
              "      <td>0.0</td>\n",
              "      <td>0.0</td>\n",
              "      <td>0.0</td>\n",
              "      <td>0.000000</td>\n",
              "      <td>0.000000</td>\n",
              "      <td>0.0</td>\n",
              "      <td>...</td>\n",
              "      <td>0.0</td>\n",
              "      <td>0.0</td>\n",
              "      <td>0.0</td>\n",
              "      <td>0.000000</td>\n",
              "      <td>0.0</td>\n",
              "      <td>0.000000</td>\n",
              "      <td>1.000000</td>\n",
              "      <td>-0.990374</td>\n",
              "      <td>-9.758975e-01</td>\n",
              "      <td>-0.0</td>\n",
              "    </tr>\n",
              "    <tr>\n",
              "      <th>99</th>\n",
              "      <td>0.0</td>\n",
              "      <td>0.0</td>\n",
              "      <td>0.0</td>\n",
              "      <td>0.0</td>\n",
              "      <td>0.0</td>\n",
              "      <td>0.0</td>\n",
              "      <td>0.0</td>\n",
              "      <td>0.000000</td>\n",
              "      <td>0.000000</td>\n",
              "      <td>0.0</td>\n",
              "      <td>...</td>\n",
              "      <td>0.0</td>\n",
              "      <td>0.0</td>\n",
              "      <td>0.0</td>\n",
              "      <td>0.000000</td>\n",
              "      <td>0.0</td>\n",
              "      <td>0.000000</td>\n",
              "      <td>0.000000</td>\n",
              "      <td>1.000000</td>\n",
              "      <td>-1.531296e+00</td>\n",
              "      <td>0.0</td>\n",
              "    </tr>\n",
              "    <tr>\n",
              "      <th>100</th>\n",
              "      <td>0.0</td>\n",
              "      <td>0.0</td>\n",
              "      <td>0.0</td>\n",
              "      <td>0.0</td>\n",
              "      <td>0.0</td>\n",
              "      <td>0.0</td>\n",
              "      <td>0.0</td>\n",
              "      <td>0.000000</td>\n",
              "      <td>0.000000</td>\n",
              "      <td>0.0</td>\n",
              "      <td>...</td>\n",
              "      <td>0.0</td>\n",
              "      <td>0.0</td>\n",
              "      <td>0.0</td>\n",
              "      <td>0.000000</td>\n",
              "      <td>0.0</td>\n",
              "      <td>0.000000</td>\n",
              "      <td>0.000000</td>\n",
              "      <td>0.000000</td>\n",
              "      <td>1.776357e-15</td>\n",
              "      <td>0.0</td>\n",
              "    </tr>\n",
              "  </tbody>\n",
              "</table>\n",
              "<p>100 rows × 101 columns</p>\n",
              "</div>\n",
              "      <button class=\"colab-df-convert\" onclick=\"convertToInteractive('df-ceef24a6-3c5d-4186-bcf5-ab18b665cb72')\"\n",
              "              title=\"Convert this dataframe to an interactive table.\"\n",
              "              style=\"display:none;\">\n",
              "        \n",
              "  <svg xmlns=\"http://www.w3.org/2000/svg\" height=\"24px\"viewBox=\"0 0 24 24\"\n",
              "       width=\"24px\">\n",
              "    <path d=\"M0 0h24v24H0V0z\" fill=\"none\"/>\n",
              "    <path d=\"M18.56 5.44l.94 2.06.94-2.06 2.06-.94-2.06-.94-.94-2.06-.94 2.06-2.06.94zm-11 1L8.5 8.5l.94-2.06 2.06-.94-2.06-.94L8.5 2.5l-.94 2.06-2.06.94zm10 10l.94 2.06.94-2.06 2.06-.94-2.06-.94-.94-2.06-.94 2.06-2.06.94z\"/><path d=\"M17.41 7.96l-1.37-1.37c-.4-.4-.92-.59-1.43-.59-.52 0-1.04.2-1.43.59L10.3 9.45l-7.72 7.72c-.78.78-.78 2.05 0 2.83L4 21.41c.39.39.9.59 1.41.59.51 0 1.02-.2 1.41-.59l7.78-7.78 2.81-2.81c.8-.78.8-2.07 0-2.86zM5.41 20L4 18.59l7.72-7.72 1.47 1.35L5.41 20z\"/>\n",
              "  </svg>\n",
              "      </button>\n",
              "      \n",
              "  <style>\n",
              "    .colab-df-container {\n",
              "      display:flex;\n",
              "      flex-wrap:wrap;\n",
              "      gap: 12px;\n",
              "    }\n",
              "\n",
              "    .colab-df-convert {\n",
              "      background-color: #E8F0FE;\n",
              "      border: none;\n",
              "      border-radius: 50%;\n",
              "      cursor: pointer;\n",
              "      display: none;\n",
              "      fill: #1967D2;\n",
              "      height: 32px;\n",
              "      padding: 0 0 0 0;\n",
              "      width: 32px;\n",
              "    }\n",
              "\n",
              "    .colab-df-convert:hover {\n",
              "      background-color: #E2EBFA;\n",
              "      box-shadow: 0px 1px 2px rgba(60, 64, 67, 0.3), 0px 1px 3px 1px rgba(60, 64, 67, 0.15);\n",
              "      fill: #174EA6;\n",
              "    }\n",
              "\n",
              "    [theme=dark] .colab-df-convert {\n",
              "      background-color: #3B4455;\n",
              "      fill: #D2E3FC;\n",
              "    }\n",
              "\n",
              "    [theme=dark] .colab-df-convert:hover {\n",
              "      background-color: #434B5C;\n",
              "      box-shadow: 0px 1px 3px 1px rgba(0, 0, 0, 0.15);\n",
              "      filter: drop-shadow(0px 1px 2px rgba(0, 0, 0, 0.3));\n",
              "      fill: #FFFFFF;\n",
              "    }\n",
              "  </style>\n",
              "\n",
              "      <script>\n",
              "        const buttonEl =\n",
              "          document.querySelector('#df-ceef24a6-3c5d-4186-bcf5-ab18b665cb72 button.colab-df-convert');\n",
              "        buttonEl.style.display =\n",
              "          google.colab.kernel.accessAllowed ? 'block' : 'none';\n",
              "\n",
              "        async function convertToInteractive(key) {\n",
              "          const element = document.querySelector('#df-ceef24a6-3c5d-4186-bcf5-ab18b665cb72');\n",
              "          const dataTable =\n",
              "            await google.colab.kernel.invokeFunction('convertToInteractive',\n",
              "                                                     [key], {});\n",
              "          if (!dataTable) return;\n",
              "\n",
              "          const docLinkHtml = 'Like what you see? Visit the ' +\n",
              "            '<a target=\"_blank\" href=https://colab.research.google.com/notebooks/data_table.ipynb>data table notebook</a>'\n",
              "            + ' to learn more about interactive tables.';\n",
              "          element.innerHTML = '';\n",
              "          dataTable['output_type'] = 'display_data';\n",
              "          await google.colab.output.renderOutput(dataTable, element);\n",
              "          const docLink = document.createElement('div');\n",
              "          docLink.innerHTML = docLinkHtml;\n",
              "          element.appendChild(docLink);\n",
              "        }\n",
              "      </script>\n",
              "    </div>\n",
              "  </div>\n",
              "  "
            ]
          },
          "metadata": {},
          "execution_count": 201
        }
      ]
    },
    {
      "cell_type": "code",
      "source": [
        "%%time\n",
        "M = dictosyst(grosweb)"
      ],
      "metadata": {
        "colab": {
          "base_uri": "https://localhost:8080/"
        },
        "id": "eMDEFuXrG5UV",
        "outputId": "6f1cf1a6-60d5-4e95-e7ce-3456f9c3c691"
      },
      "execution_count": 164,
      "outputs": [
        {
          "output_type": "stream",
          "name": "stdout",
          "text": [
            "CPU times: user 366 µs, sys: 0 ns, total: 366 µs\n",
            "Wall time: 381 µs\n"
          ]
        }
      ]
    },
    {
      "cell_type": "code",
      "source": [
        "%%time\n",
        "Gauss(M,recherchePivotPartiel)\n",
        "mu = substitution(M)"
      ],
      "metadata": {
        "colab": {
          "base_uri": "https://localhost:8080/"
        },
        "id": "prxvG2Y_D4LC",
        "outputId": "5409d01b-2907-439b-fd5d-8ee4bb147964"
      },
      "execution_count": 165,
      "outputs": [
        {
          "output_type": "stream",
          "name": "stdout",
          "text": [
            "CPU times: user 889 µs, sys: 0 ns, total: 889 µs\n",
            "Wall time: 895 µs\n"
          ]
        }
      ]
    },
    {
      "cell_type": "code",
      "source": [
        "mu"
      ],
      "metadata": {
        "colab": {
          "base_uri": "https://localhost:8080/"
        },
        "id": "PhJ49JlcTS2u",
        "outputId": "d510487a-dd7a-4bab-d5b6-578cc16046b0"
      },
      "execution_count": 166,
      "outputs": [
        {
          "output_type": "execute_result",
          "data": {
            "text/plain": [
              "[0.0,\n",
              " 0.0,\n",
              " 0.0,\n",
              " 0.0,\n",
              " 0.0,\n",
              " 0.0,\n",
              " 0.0,\n",
              " 0.0,\n",
              " 0.0,\n",
              " 0.0,\n",
              " 0.0,\n",
              " 0.0,\n",
              " 0.0,\n",
              " 0.0,\n",
              " 0.0,\n",
              " -0.0,\n",
              " 0.0,\n",
              " 0.0,\n",
              " 0.0,\n",
              " -0.0]"
            ]
          },
          "metadata": {},
          "execution_count": 166
        }
      ]
    },
    {
      "cell_type": "code",
      "source": [
        "pd.DataFrame(M,index=[indices],columns=colonnes)"
      ],
      "metadata": {
        "colab": {
          "base_uri": "https://localhost:8080/",
          "height": 419
        },
        "id": "cdDrAsLOK77H",
        "outputId": "f2595112-be90-484b-98c6-84a2c53cb78e"
      },
      "execution_count": 71,
      "outputs": [
        {
          "output_type": "execute_result",
          "data": {
            "text/plain": [
              "       1    2    3    4    5    6    7    8    9   10  ...   92   93   94  \\\n",
              "1    1.0 -0.0 -0.0 -0.0 -0.0 -0.0 -0.0 -0.0 -0.0 -0.1  ... -0.0 -0.1 -0.0   \n",
              "2    0.0  1.0  0.0  0.0  0.0  0.0  0.0  0.0  0.0  0.0  ...  0.0  0.0  0.0   \n",
              "3    0.0  0.0  1.0  0.0  0.0  0.0 -0.1  0.0  0.0  0.0  ...  0.0  0.0 -0.1   \n",
              "4    0.0  0.0  0.0  1.0  0.0  0.0  0.0  0.0  0.0  0.0  ... -0.1  0.0  0.0   \n",
              "5    0.0  0.0  0.0  0.0  1.0  0.0  0.0 -0.1  0.0  0.0  ... -0.1 -0.1  0.0   \n",
              "..   ...  ...  ...  ...  ...  ...  ...  ...  ...  ...  ...  ...  ...  ...   \n",
              "96   0.0  0.0  0.0  0.0  0.0  0.0  0.0  0.0  0.0  0.0  ...  0.0  0.0  0.0   \n",
              "97   0.0  0.0  0.0  0.0  0.0  0.0  0.0  0.0  0.0  0.0  ...  0.0  0.0  0.0   \n",
              "98   0.0  0.0  0.0  0.0  0.0  0.0  0.0  0.0  0.0  0.0  ...  0.0  0.0  0.0   \n",
              "99   0.0  0.0  0.0  0.0  0.0  0.0  0.0  0.0  0.0  0.0  ...  0.0  0.0  0.0   \n",
              "100  0.0  0.0  0.0  0.0  0.0  0.0  0.0  0.0  0.0  0.0  ...  0.0  0.0  0.0   \n",
              "\n",
              "      95   96        97        98        99       100    v  \n",
              "1   -0.0 -0.1 -0.000000 -0.000000 -0.000000 -0.000000 -0.0  \n",
              "2    0.0  0.0  0.000000  0.000000  0.000000 -0.100000  0.0  \n",
              "3    0.0  0.0  0.000000  0.000000  0.000000  0.000000  0.0  \n",
              "4    0.0  0.0  0.000000  0.000000 -0.100000  0.000000  0.0  \n",
              "5    0.0  0.0  0.000000 -0.100000  0.000000  0.000000  0.0  \n",
              "..   ...  ...       ...       ...       ...       ...  ...  \n",
              "96   0.0  1.0 -0.012981 -0.004727  0.045099 -0.021726  0.0  \n",
              "97   0.0  0.0  1.000000 -0.007428 -0.169826 -0.009128  0.0  \n",
              "98   0.0  0.0  0.000000  1.000000 -0.282173 -0.025960  0.0  \n",
              "99   0.0  0.0  0.000000  0.000000  1.000000 -0.027376  0.0  \n",
              "100  0.0  0.0  0.000000  0.000000  0.000000  1.000000  0.0  \n",
              "\n",
              "[100 rows x 101 columns]"
            ],
            "text/html": [
              "\n",
              "  <div id=\"df-0857cb1b-4ef7-428a-a9a6-1356c384b898\">\n",
              "    <div class=\"colab-df-container\">\n",
              "      <div>\n",
              "<style scoped>\n",
              "    .dataframe tbody tr th:only-of-type {\n",
              "        vertical-align: middle;\n",
              "    }\n",
              "\n",
              "    .dataframe tbody tr th {\n",
              "        vertical-align: top;\n",
              "    }\n",
              "\n",
              "    .dataframe thead th {\n",
              "        text-align: right;\n",
              "    }\n",
              "</style>\n",
              "<table border=\"1\" class=\"dataframe\">\n",
              "  <thead>\n",
              "    <tr style=\"text-align: right;\">\n",
              "      <th></th>\n",
              "      <th>1</th>\n",
              "      <th>2</th>\n",
              "      <th>3</th>\n",
              "      <th>4</th>\n",
              "      <th>5</th>\n",
              "      <th>6</th>\n",
              "      <th>7</th>\n",
              "      <th>8</th>\n",
              "      <th>9</th>\n",
              "      <th>10</th>\n",
              "      <th>...</th>\n",
              "      <th>92</th>\n",
              "      <th>93</th>\n",
              "      <th>94</th>\n",
              "      <th>95</th>\n",
              "      <th>96</th>\n",
              "      <th>97</th>\n",
              "      <th>98</th>\n",
              "      <th>99</th>\n",
              "      <th>100</th>\n",
              "      <th>v</th>\n",
              "    </tr>\n",
              "  </thead>\n",
              "  <tbody>\n",
              "    <tr>\n",
              "      <th>1</th>\n",
              "      <td>1.0</td>\n",
              "      <td>-0.0</td>\n",
              "      <td>-0.0</td>\n",
              "      <td>-0.0</td>\n",
              "      <td>-0.0</td>\n",
              "      <td>-0.0</td>\n",
              "      <td>-0.0</td>\n",
              "      <td>-0.0</td>\n",
              "      <td>-0.0</td>\n",
              "      <td>-0.1</td>\n",
              "      <td>...</td>\n",
              "      <td>-0.0</td>\n",
              "      <td>-0.1</td>\n",
              "      <td>-0.0</td>\n",
              "      <td>-0.0</td>\n",
              "      <td>-0.1</td>\n",
              "      <td>-0.000000</td>\n",
              "      <td>-0.000000</td>\n",
              "      <td>-0.000000</td>\n",
              "      <td>-0.000000</td>\n",
              "      <td>-0.0</td>\n",
              "    </tr>\n",
              "    <tr>\n",
              "      <th>2</th>\n",
              "      <td>0.0</td>\n",
              "      <td>1.0</td>\n",
              "      <td>0.0</td>\n",
              "      <td>0.0</td>\n",
              "      <td>0.0</td>\n",
              "      <td>0.0</td>\n",
              "      <td>0.0</td>\n",
              "      <td>0.0</td>\n",
              "      <td>0.0</td>\n",
              "      <td>0.0</td>\n",
              "      <td>...</td>\n",
              "      <td>0.0</td>\n",
              "      <td>0.0</td>\n",
              "      <td>0.0</td>\n",
              "      <td>0.0</td>\n",
              "      <td>0.0</td>\n",
              "      <td>0.000000</td>\n",
              "      <td>0.000000</td>\n",
              "      <td>0.000000</td>\n",
              "      <td>-0.100000</td>\n",
              "      <td>0.0</td>\n",
              "    </tr>\n",
              "    <tr>\n",
              "      <th>3</th>\n",
              "      <td>0.0</td>\n",
              "      <td>0.0</td>\n",
              "      <td>1.0</td>\n",
              "      <td>0.0</td>\n",
              "      <td>0.0</td>\n",
              "      <td>0.0</td>\n",
              "      <td>-0.1</td>\n",
              "      <td>0.0</td>\n",
              "      <td>0.0</td>\n",
              "      <td>0.0</td>\n",
              "      <td>...</td>\n",
              "      <td>0.0</td>\n",
              "      <td>0.0</td>\n",
              "      <td>-0.1</td>\n",
              "      <td>0.0</td>\n",
              "      <td>0.0</td>\n",
              "      <td>0.000000</td>\n",
              "      <td>0.000000</td>\n",
              "      <td>0.000000</td>\n",
              "      <td>0.000000</td>\n",
              "      <td>0.0</td>\n",
              "    </tr>\n",
              "    <tr>\n",
              "      <th>4</th>\n",
              "      <td>0.0</td>\n",
              "      <td>0.0</td>\n",
              "      <td>0.0</td>\n",
              "      <td>1.0</td>\n",
              "      <td>0.0</td>\n",
              "      <td>0.0</td>\n",
              "      <td>0.0</td>\n",
              "      <td>0.0</td>\n",
              "      <td>0.0</td>\n",
              "      <td>0.0</td>\n",
              "      <td>...</td>\n",
              "      <td>-0.1</td>\n",
              "      <td>0.0</td>\n",
              "      <td>0.0</td>\n",
              "      <td>0.0</td>\n",
              "      <td>0.0</td>\n",
              "      <td>0.000000</td>\n",
              "      <td>0.000000</td>\n",
              "      <td>-0.100000</td>\n",
              "      <td>0.000000</td>\n",
              "      <td>0.0</td>\n",
              "    </tr>\n",
              "    <tr>\n",
              "      <th>5</th>\n",
              "      <td>0.0</td>\n",
              "      <td>0.0</td>\n",
              "      <td>0.0</td>\n",
              "      <td>0.0</td>\n",
              "      <td>1.0</td>\n",
              "      <td>0.0</td>\n",
              "      <td>0.0</td>\n",
              "      <td>-0.1</td>\n",
              "      <td>0.0</td>\n",
              "      <td>0.0</td>\n",
              "      <td>...</td>\n",
              "      <td>-0.1</td>\n",
              "      <td>-0.1</td>\n",
              "      <td>0.0</td>\n",
              "      <td>0.0</td>\n",
              "      <td>0.0</td>\n",
              "      <td>0.000000</td>\n",
              "      <td>-0.100000</td>\n",
              "      <td>0.000000</td>\n",
              "      <td>0.000000</td>\n",
              "      <td>0.0</td>\n",
              "    </tr>\n",
              "    <tr>\n",
              "      <th>...</th>\n",
              "      <td>...</td>\n",
              "      <td>...</td>\n",
              "      <td>...</td>\n",
              "      <td>...</td>\n",
              "      <td>...</td>\n",
              "      <td>...</td>\n",
              "      <td>...</td>\n",
              "      <td>...</td>\n",
              "      <td>...</td>\n",
              "      <td>...</td>\n",
              "      <td>...</td>\n",
              "      <td>...</td>\n",
              "      <td>...</td>\n",
              "      <td>...</td>\n",
              "      <td>...</td>\n",
              "      <td>...</td>\n",
              "      <td>...</td>\n",
              "      <td>...</td>\n",
              "      <td>...</td>\n",
              "      <td>...</td>\n",
              "      <td>...</td>\n",
              "    </tr>\n",
              "    <tr>\n",
              "      <th>96</th>\n",
              "      <td>0.0</td>\n",
              "      <td>0.0</td>\n",
              "      <td>0.0</td>\n",
              "      <td>0.0</td>\n",
              "      <td>0.0</td>\n",
              "      <td>0.0</td>\n",
              "      <td>0.0</td>\n",
              "      <td>0.0</td>\n",
              "      <td>0.0</td>\n",
              "      <td>0.0</td>\n",
              "      <td>...</td>\n",
              "      <td>0.0</td>\n",
              "      <td>0.0</td>\n",
              "      <td>0.0</td>\n",
              "      <td>0.0</td>\n",
              "      <td>1.0</td>\n",
              "      <td>-0.012981</td>\n",
              "      <td>-0.004727</td>\n",
              "      <td>0.045099</td>\n",
              "      <td>-0.021726</td>\n",
              "      <td>0.0</td>\n",
              "    </tr>\n",
              "    <tr>\n",
              "      <th>97</th>\n",
              "      <td>0.0</td>\n",
              "      <td>0.0</td>\n",
              "      <td>0.0</td>\n",
              "      <td>0.0</td>\n",
              "      <td>0.0</td>\n",
              "      <td>0.0</td>\n",
              "      <td>0.0</td>\n",
              "      <td>0.0</td>\n",
              "      <td>0.0</td>\n",
              "      <td>0.0</td>\n",
              "      <td>...</td>\n",
              "      <td>0.0</td>\n",
              "      <td>0.0</td>\n",
              "      <td>0.0</td>\n",
              "      <td>0.0</td>\n",
              "      <td>0.0</td>\n",
              "      <td>1.000000</td>\n",
              "      <td>-0.007428</td>\n",
              "      <td>-0.169826</td>\n",
              "      <td>-0.009128</td>\n",
              "      <td>0.0</td>\n",
              "    </tr>\n",
              "    <tr>\n",
              "      <th>98</th>\n",
              "      <td>0.0</td>\n",
              "      <td>0.0</td>\n",
              "      <td>0.0</td>\n",
              "      <td>0.0</td>\n",
              "      <td>0.0</td>\n",
              "      <td>0.0</td>\n",
              "      <td>0.0</td>\n",
              "      <td>0.0</td>\n",
              "      <td>0.0</td>\n",
              "      <td>0.0</td>\n",
              "      <td>...</td>\n",
              "      <td>0.0</td>\n",
              "      <td>0.0</td>\n",
              "      <td>0.0</td>\n",
              "      <td>0.0</td>\n",
              "      <td>0.0</td>\n",
              "      <td>0.000000</td>\n",
              "      <td>1.000000</td>\n",
              "      <td>-0.282173</td>\n",
              "      <td>-0.025960</td>\n",
              "      <td>0.0</td>\n",
              "    </tr>\n",
              "    <tr>\n",
              "      <th>99</th>\n",
              "      <td>0.0</td>\n",
              "      <td>0.0</td>\n",
              "      <td>0.0</td>\n",
              "      <td>0.0</td>\n",
              "      <td>0.0</td>\n",
              "      <td>0.0</td>\n",
              "      <td>0.0</td>\n",
              "      <td>0.0</td>\n",
              "      <td>0.0</td>\n",
              "      <td>0.0</td>\n",
              "      <td>...</td>\n",
              "      <td>0.0</td>\n",
              "      <td>0.0</td>\n",
              "      <td>0.0</td>\n",
              "      <td>0.0</td>\n",
              "      <td>0.0</td>\n",
              "      <td>0.000000</td>\n",
              "      <td>0.000000</td>\n",
              "      <td>1.000000</td>\n",
              "      <td>-0.027376</td>\n",
              "      <td>0.0</td>\n",
              "    </tr>\n",
              "    <tr>\n",
              "      <th>100</th>\n",
              "      <td>0.0</td>\n",
              "      <td>0.0</td>\n",
              "      <td>0.0</td>\n",
              "      <td>0.0</td>\n",
              "      <td>0.0</td>\n",
              "      <td>0.0</td>\n",
              "      <td>0.0</td>\n",
              "      <td>0.0</td>\n",
              "      <td>0.0</td>\n",
              "      <td>0.0</td>\n",
              "      <td>...</td>\n",
              "      <td>0.0</td>\n",
              "      <td>0.0</td>\n",
              "      <td>0.0</td>\n",
              "      <td>0.0</td>\n",
              "      <td>0.0</td>\n",
              "      <td>0.000000</td>\n",
              "      <td>0.000000</td>\n",
              "      <td>0.000000</td>\n",
              "      <td>1.000000</td>\n",
              "      <td>0.0</td>\n",
              "    </tr>\n",
              "  </tbody>\n",
              "</table>\n",
              "<p>100 rows × 101 columns</p>\n",
              "</div>\n",
              "      <button class=\"colab-df-convert\" onclick=\"convertToInteractive('df-0857cb1b-4ef7-428a-a9a6-1356c384b898')\"\n",
              "              title=\"Convert this dataframe to an interactive table.\"\n",
              "              style=\"display:none;\">\n",
              "        \n",
              "  <svg xmlns=\"http://www.w3.org/2000/svg\" height=\"24px\"viewBox=\"0 0 24 24\"\n",
              "       width=\"24px\">\n",
              "    <path d=\"M0 0h24v24H0V0z\" fill=\"none\"/>\n",
              "    <path d=\"M18.56 5.44l.94 2.06.94-2.06 2.06-.94-2.06-.94-.94-2.06-.94 2.06-2.06.94zm-11 1L8.5 8.5l.94-2.06 2.06-.94-2.06-.94L8.5 2.5l-.94 2.06-2.06.94zm10 10l.94 2.06.94-2.06 2.06-.94-2.06-.94-.94-2.06-.94 2.06-2.06.94z\"/><path d=\"M17.41 7.96l-1.37-1.37c-.4-.4-.92-.59-1.43-.59-.52 0-1.04.2-1.43.59L10.3 9.45l-7.72 7.72c-.78.78-.78 2.05 0 2.83L4 21.41c.39.39.9.59 1.41.59.51 0 1.02-.2 1.41-.59l7.78-7.78 2.81-2.81c.8-.78.8-2.07 0-2.86zM5.41 20L4 18.59l7.72-7.72 1.47 1.35L5.41 20z\"/>\n",
              "  </svg>\n",
              "      </button>\n",
              "      \n",
              "  <style>\n",
              "    .colab-df-container {\n",
              "      display:flex;\n",
              "      flex-wrap:wrap;\n",
              "      gap: 12px;\n",
              "    }\n",
              "\n",
              "    .colab-df-convert {\n",
              "      background-color: #E8F0FE;\n",
              "      border: none;\n",
              "      border-radius: 50%;\n",
              "      cursor: pointer;\n",
              "      display: none;\n",
              "      fill: #1967D2;\n",
              "      height: 32px;\n",
              "      padding: 0 0 0 0;\n",
              "      width: 32px;\n",
              "    }\n",
              "\n",
              "    .colab-df-convert:hover {\n",
              "      background-color: #E2EBFA;\n",
              "      box-shadow: 0px 1px 2px rgba(60, 64, 67, 0.3), 0px 1px 3px 1px rgba(60, 64, 67, 0.15);\n",
              "      fill: #174EA6;\n",
              "    }\n",
              "\n",
              "    [theme=dark] .colab-df-convert {\n",
              "      background-color: #3B4455;\n",
              "      fill: #D2E3FC;\n",
              "    }\n",
              "\n",
              "    [theme=dark] .colab-df-convert:hover {\n",
              "      background-color: #434B5C;\n",
              "      box-shadow: 0px 1px 3px 1px rgba(0, 0, 0, 0.15);\n",
              "      filter: drop-shadow(0px 1px 2px rgba(0, 0, 0, 0.3));\n",
              "      fill: #FFFFFF;\n",
              "    }\n",
              "  </style>\n",
              "\n",
              "      <script>\n",
              "        const buttonEl =\n",
              "          document.querySelector('#df-0857cb1b-4ef7-428a-a9a6-1356c384b898 button.colab-df-convert');\n",
              "        buttonEl.style.display =\n",
              "          google.colab.kernel.accessAllowed ? 'block' : 'none';\n",
              "\n",
              "        async function convertToInteractive(key) {\n",
              "          const element = document.querySelector('#df-0857cb1b-4ef7-428a-a9a6-1356c384b898');\n",
              "          const dataTable =\n",
              "            await google.colab.kernel.invokeFunction('convertToInteractive',\n",
              "                                                     [key], {});\n",
              "          if (!dataTable) return;\n",
              "\n",
              "          const docLinkHtml = 'Like what you see? Visit the ' +\n",
              "            '<a target=\"_blank\" href=https://colab.research.google.com/notebooks/data_table.ipynb>data table notebook</a>'\n",
              "            + ' to learn more about interactive tables.';\n",
              "          element.innerHTML = '';\n",
              "          dataTable['output_type'] = 'display_data';\n",
              "          await google.colab.output.renderOutput(dataTable, element);\n",
              "          const docLink = document.createElement('div');\n",
              "          docLink.innerHTML = docLinkHtml;\n",
              "          element.appendChild(docLink);\n",
              "        }\n",
              "      </script>\n",
              "    </div>\n",
              "  </div>\n",
              "  "
            ]
          },
          "metadata": {},
          "execution_count": 71
        }
      ]
    },
    {
      "cell_type": "code",
      "source": [
        "%%time\n",
        "mu = PageRank(grosweb)"
      ],
      "metadata": {
        "colab": {
          "base_uri": "https://localhost:8080/"
        },
        "id": "UNUtEV_KEuX0",
        "outputId": "a9a17f6a-989a-495f-80f5-6821839e6b1e"
      },
      "execution_count": 112,
      "outputs": [
        {
          "output_type": "stream",
          "name": "stdout",
          "text": [
            "CPU times: user 198 ms, sys: 1.01 ms, total: 199 ms\n",
            "Wall time: 201 ms\n"
          ]
        }
      ]
    },
    {
      "cell_type": "code",
      "source": [
        "from time import time\n",
        "import matplotlib.pyplot as plt\n",
        "plt.style.use('seaborn')\n",
        "plt.rcParams['figure.figsize'] = (15, 10)"
      ],
      "metadata": {
        "id": "2PVCo2TyE61o"
      },
      "execution_count": 259,
      "outputs": []
    },
    {
      "cell_type": "code",
      "source": [
        "test = True\n",
        "n = 10\n",
        "while test :\n",
        "  grosweb = fabweb(n,(5,15))\n",
        "  M = dictosyst(grosweb)\n",
        "  Gauss(M,recherchePivotPartiel)\n",
        "  muGauss = substitution(M)\n",
        "  rang = 0\n",
        "  for i in range(n) :\n",
        "    if abs(M[i][i]) > 1e-9 :\n",
        "      rang += 1\n",
        "  #print(f\"Le rang de la matrice vaut {rang}\")\n",
        "  muPage = PageRank(grosweb)\n",
        "  Tgauss.append(stop1-start1)\n",
        "  Tpage.append(stop2-start2)\n",
        "  gaussmax = muGauss.index(max(muGauss))\n",
        "  pagemax = muPage.index(max(muPage))\n",
        "  test = gaussmax == pagemax\n",
        "print(gaussmax+1, muGauss)\n",
        "print(pagemax+1, muPage)"
      ],
      "metadata": {
        "colab": {
          "base_uri": "https://localhost:8080/"
        },
        "id": "TQGsQweJYiHG",
        "outputId": "3a8f4b37-e21e-4909-b723-546ec7f5b150"
      },
      "execution_count": 216,
      "outputs": [
        {
          "output_type": "stream",
          "name": "stdout",
          "text": [
            "5 [0.6837168864885654, 0.9464033878748056, 0.538686517412138, 0.9586945837807228, 1.0032238764510113, 0.9182438821134953, 0.7261414445744322, 0.11395281441476089, 0.6955974187620527, 1]\n",
            "10 [0.09320861906774189, 0.12099186826231503, 0.07511260692995886, 0.12268515283076667, 0.12664909296273863, 0.11669671240824223, 0.09553327506835131, 0.02820455428045844, 0.094078936200255, 0.12683914317527908]\n"
          ]
        }
      ]
    },
    {
      "cell_type": "code",
      "source": [
        "test = True\n",
        "n = 20\n",
        "while test :\n",
        "  grosweb = fabweb(n,(5,15))\n",
        "  M = dictosyst(grosweb)\n",
        "  Gauss(M,recherchePivotPartiel)\n",
        "  muGauss = substitution(M)\n",
        "  rang = 0\n",
        "  for i in range(n) :\n",
        "    if abs(M[i][i]) > 1e-9 :\n",
        "      rang += 1\n",
        "  test = rang != n"
      ],
      "metadata": {
        "colab": {
          "base_uri": "https://localhost:8080/",
          "height": 375
        },
        "id": "xvbVkXZiaQXS",
        "outputId": "1bdb2fde-6222-4f1e-ce3b-19ba8b4ba7fd"
      },
      "execution_count": 240,
      "outputs": [
        {
          "output_type": "error",
          "ename": "KeyboardInterrupt",
          "evalue": "ignored",
          "traceback": [
            "\u001b[0;31m---------------------------------------------------------------------------\u001b[0m",
            "\u001b[0;31mKeyboardInterrupt\u001b[0m                         Traceback (most recent call last)",
            "\u001b[0;32m<ipython-input-240-28627f7e7871>\u001b[0m in \u001b[0;36m<module>\u001b[0;34m\u001b[0m\n\u001b[1;32m      2\u001b[0m \u001b[0mn\u001b[0m \u001b[0;34m=\u001b[0m \u001b[0;36m20\u001b[0m\u001b[0;34m\u001b[0m\u001b[0;34m\u001b[0m\u001b[0m\n\u001b[1;32m      3\u001b[0m \u001b[0;32mwhile\u001b[0m \u001b[0mtest\u001b[0m \u001b[0;34m:\u001b[0m\u001b[0;34m\u001b[0m\u001b[0;34m\u001b[0m\u001b[0m\n\u001b[0;32m----> 4\u001b[0;31m   \u001b[0mgrosweb\u001b[0m \u001b[0;34m=\u001b[0m \u001b[0mfabweb\u001b[0m\u001b[0;34m(\u001b[0m\u001b[0mn\u001b[0m\u001b[0;34m,\u001b[0m\u001b[0;34m(\u001b[0m\u001b[0;36m5\u001b[0m\u001b[0;34m,\u001b[0m\u001b[0;36m15\u001b[0m\u001b[0;34m)\u001b[0m\u001b[0;34m)\u001b[0m\u001b[0;34m\u001b[0m\u001b[0;34m\u001b[0m\u001b[0m\n\u001b[0m\u001b[1;32m      5\u001b[0m   \u001b[0mM\u001b[0m \u001b[0;34m=\u001b[0m \u001b[0mdictosyst\u001b[0m\u001b[0;34m(\u001b[0m\u001b[0mgrosweb\u001b[0m\u001b[0;34m)\u001b[0m\u001b[0;34m\u001b[0m\u001b[0;34m\u001b[0m\u001b[0m\n\u001b[1;32m      6\u001b[0m   \u001b[0mGauss\u001b[0m\u001b[0;34m(\u001b[0m\u001b[0mM\u001b[0m\u001b[0;34m,\u001b[0m\u001b[0mrecherchePivotPartiel\u001b[0m\u001b[0;34m)\u001b[0m\u001b[0;34m\u001b[0m\u001b[0;34m\u001b[0m\u001b[0m\n",
            "\u001b[0;32m<ipython-input-239-0256287d5269>\u001b[0m in \u001b[0;36mfabweb\u001b[0;34m(n, nbliens)\u001b[0m\n\u001b[1;32m      8\u001b[0m             \u001b[0mliens\u001b[0m \u001b[0;34m=\u001b[0m \u001b[0;34m[\u001b[0m\u001b[0;34m]\u001b[0m\u001b[0;34m\u001b[0m\u001b[0;34m\u001b[0m\u001b[0m\n\u001b[1;32m      9\u001b[0m             \u001b[0;32mfor\u001b[0m \u001b[0mj\u001b[0m \u001b[0;32min\u001b[0m \u001b[0mrange\u001b[0m\u001b[0;34m(\u001b[0m\u001b[0mrandint\u001b[0m\u001b[0;34m(\u001b[0m\u001b[0;34m*\u001b[0m\u001b[0mnbliens\u001b[0m\u001b[0;34m)\u001b[0m\u001b[0;34m)\u001b[0m \u001b[0;34m:\u001b[0m\u001b[0;34m\u001b[0m\u001b[0;34m\u001b[0m\u001b[0m\n\u001b[0;32m---> 10\u001b[0;31m                 \u001b[0mx\u001b[0m \u001b[0;34m=\u001b[0m \u001b[0mrandint\u001b[0m\u001b[0;34m(\u001b[0m\u001b[0;36m1\u001b[0m\u001b[0;34m,\u001b[0m\u001b[0mn\u001b[0m\u001b[0;34m)\u001b[0m\u001b[0;34m\u001b[0m\u001b[0;34m\u001b[0m\u001b[0m\n\u001b[0m\u001b[1;32m     11\u001b[0m                 \u001b[0;32mif\u001b[0m \u001b[0mx\u001b[0m \u001b[0;32mnot\u001b[0m \u001b[0;32min\u001b[0m \u001b[0mliens\u001b[0m \u001b[0;32mand\u001b[0m \u001b[0mx\u001b[0m \u001b[0;34m!=\u001b[0m \u001b[0mi\u001b[0m \u001b[0;34m:\u001b[0m\u001b[0;34m\u001b[0m\u001b[0;34m\u001b[0m\u001b[0m\n\u001b[1;32m     12\u001b[0m                     \u001b[0mliens\u001b[0m\u001b[0;34m.\u001b[0m\u001b[0mappend\u001b[0m\u001b[0;34m(\u001b[0m\u001b[0mx\u001b[0m\u001b[0;34m)\u001b[0m\u001b[0;34m\u001b[0m\u001b[0;34m\u001b[0m\u001b[0m\n",
            "\u001b[0;32m/usr/lib/python3.7/random.py\u001b[0m in \u001b[0;36mrandint\u001b[0;34m(self, a, b)\u001b[0m\n\u001b[1;32m    220\u001b[0m         \"\"\"\n\u001b[1;32m    221\u001b[0m \u001b[0;34m\u001b[0m\u001b[0m\n\u001b[0;32m--> 222\u001b[0;31m         \u001b[0;32mreturn\u001b[0m \u001b[0mself\u001b[0m\u001b[0;34m.\u001b[0m\u001b[0mrandrange\u001b[0m\u001b[0;34m(\u001b[0m\u001b[0ma\u001b[0m\u001b[0;34m,\u001b[0m \u001b[0mb\u001b[0m\u001b[0;34m+\u001b[0m\u001b[0;36m1\u001b[0m\u001b[0;34m)\u001b[0m\u001b[0;34m\u001b[0m\u001b[0;34m\u001b[0m\u001b[0m\n\u001b[0m\u001b[1;32m    223\u001b[0m \u001b[0;34m\u001b[0m\u001b[0m\n\u001b[1;32m    224\u001b[0m     def _randbelow(self, n, int=int, maxsize=1<<BPF, type=type,\n",
            "\u001b[0;32m/usr/lib/python3.7/random.py\u001b[0m in \u001b[0;36mrandrange\u001b[0;34m(self, start, stop, step, _int)\u001b[0m\n\u001b[1;32m    194\u001b[0m         \u001b[0;32mif\u001b[0m \u001b[0mistop\u001b[0m \u001b[0;34m!=\u001b[0m \u001b[0mstop\u001b[0m\u001b[0;34m:\u001b[0m\u001b[0;34m\u001b[0m\u001b[0;34m\u001b[0m\u001b[0m\n\u001b[1;32m    195\u001b[0m             \u001b[0;32mraise\u001b[0m \u001b[0mValueError\u001b[0m\u001b[0;34m(\u001b[0m\u001b[0;34m\"non-integer stop for randrange()\"\u001b[0m\u001b[0;34m)\u001b[0m\u001b[0;34m\u001b[0m\u001b[0;34m\u001b[0m\u001b[0m\n\u001b[0;32m--> 196\u001b[0;31m         \u001b[0mwidth\u001b[0m \u001b[0;34m=\u001b[0m \u001b[0mistop\u001b[0m \u001b[0;34m-\u001b[0m \u001b[0mistart\u001b[0m\u001b[0;34m\u001b[0m\u001b[0;34m\u001b[0m\u001b[0m\n\u001b[0m\u001b[1;32m    197\u001b[0m         \u001b[0;32mif\u001b[0m \u001b[0mstep\u001b[0m \u001b[0;34m==\u001b[0m \u001b[0;36m1\u001b[0m \u001b[0;32mand\u001b[0m \u001b[0mwidth\u001b[0m \u001b[0;34m>\u001b[0m \u001b[0;36m0\u001b[0m\u001b[0;34m:\u001b[0m\u001b[0;34m\u001b[0m\u001b[0;34m\u001b[0m\u001b[0m\n\u001b[1;32m    198\u001b[0m             \u001b[0;32mreturn\u001b[0m \u001b[0mistart\u001b[0m \u001b[0;34m+\u001b[0m \u001b[0mself\u001b[0m\u001b[0;34m.\u001b[0m\u001b[0m_randbelow\u001b[0m\u001b[0;34m(\u001b[0m\u001b[0mwidth\u001b[0m\u001b[0;34m)\u001b[0m\u001b[0;34m\u001b[0m\u001b[0;34m\u001b[0m\u001b[0m\n",
            "\u001b[0;31mKeyboardInterrupt\u001b[0m: "
          ]
        }
      ]
    },
    {
      "cell_type": "code",
      "source": [
        "SCC = Kosaraju(grosweb)\n",
        "print(len(SCC))\n",
        "print(SCC)"
      ],
      "metadata": {
        "colab": {
          "base_uri": "https://localhost:8080/"
        },
        "id": "-idrQG_3b4dM",
        "outputId": "975a6a93-e5c1-483b-fc77-65a863c5ef62"
      },
      "execution_count": 237,
      "outputs": [
        {
          "output_type": "stream",
          "name": "stdout",
          "text": [
            "1\n",
            "[[1, 16, 15, 3, 19, 7, 17, 18, 12, 20, 13, 5, 11, 6, 8, 14, 9, 10, 4, 2]]\n"
          ]
        }
      ]
    },
    {
      "cell_type": "code",
      "source": [
        "M = dictosyst(grosweb)\n",
        "n = len(M)\n",
        "indices = [i for i in range(1,n+1)]\n",
        "colonnes = indices + [\"v\"]\n",
        "pd.DataFrame(M,index=[indices],columns=colonnes)"
      ],
      "metadata": {
        "colab": {
          "base_uri": "https://localhost:8080/",
          "height": 359
        },
        "id": "Ze24c_v9agkI",
        "outputId": "7cbdfb1d-6125-4682-86bb-c1a7b91c7ee4"
      },
      "execution_count": 223,
      "outputs": [
        {
          "output_type": "execute_result",
          "data": {
            "text/plain": [
              "           1         2    3    4    5    6         7    8    9  10  v\n",
              "1  -1.000000  0.142857  0.2  0.2  0.0  0.5  0.166667  0.0  0.2   0  0\n",
              "2   0.000000 -1.000000  0.0  0.2  0.0  0.0  0.166667  0.0  0.0   0  0\n",
              "3   0.000000  0.000000 -1.0  0.2  0.2  0.0  0.166667  0.0  0.2   0  0\n",
              "4   0.166667  0.142857  0.0 -1.0  0.0  0.0  0.000000  0.2  0.2   0  0\n",
              "5   0.166667  0.142857  0.2  0.0 -1.0  0.0  0.166667  0.2  0.2   0  0\n",
              "6   0.166667  0.142857  0.0  0.0  0.2 -1.0  0.000000  0.2  0.0   0  0\n",
              "7   0.166667  0.142857  0.2  0.0  0.0  0.0 -1.000000  0.2  0.0   0  0\n",
              "8   0.166667  0.142857  0.2  0.0  0.2  0.5  0.000000 -1.0  0.2   0  0\n",
              "9   0.000000  0.000000  0.0  0.2  0.2  0.0  0.166667  0.2 -1.0   0  0\n",
              "10  0.166667  0.142857  0.2  0.2  0.2  0.0  0.166667  0.0  0.0  -1  0"
            ],
            "text/html": [
              "\n",
              "  <div id=\"df-cb3391c0-b9dd-41b6-9b43-e39b99102753\">\n",
              "    <div class=\"colab-df-container\">\n",
              "      <div>\n",
              "<style scoped>\n",
              "    .dataframe tbody tr th:only-of-type {\n",
              "        vertical-align: middle;\n",
              "    }\n",
              "\n",
              "    .dataframe tbody tr th {\n",
              "        vertical-align: top;\n",
              "    }\n",
              "\n",
              "    .dataframe thead th {\n",
              "        text-align: right;\n",
              "    }\n",
              "</style>\n",
              "<table border=\"1\" class=\"dataframe\">\n",
              "  <thead>\n",
              "    <tr style=\"text-align: right;\">\n",
              "      <th></th>\n",
              "      <th>1</th>\n",
              "      <th>2</th>\n",
              "      <th>3</th>\n",
              "      <th>4</th>\n",
              "      <th>5</th>\n",
              "      <th>6</th>\n",
              "      <th>7</th>\n",
              "      <th>8</th>\n",
              "      <th>9</th>\n",
              "      <th>10</th>\n",
              "      <th>v</th>\n",
              "    </tr>\n",
              "  </thead>\n",
              "  <tbody>\n",
              "    <tr>\n",
              "      <th>1</th>\n",
              "      <td>-1.000000</td>\n",
              "      <td>0.142857</td>\n",
              "      <td>0.2</td>\n",
              "      <td>0.2</td>\n",
              "      <td>0.0</td>\n",
              "      <td>0.5</td>\n",
              "      <td>0.166667</td>\n",
              "      <td>0.0</td>\n",
              "      <td>0.2</td>\n",
              "      <td>0</td>\n",
              "      <td>0</td>\n",
              "    </tr>\n",
              "    <tr>\n",
              "      <th>2</th>\n",
              "      <td>0.000000</td>\n",
              "      <td>-1.000000</td>\n",
              "      <td>0.0</td>\n",
              "      <td>0.2</td>\n",
              "      <td>0.0</td>\n",
              "      <td>0.0</td>\n",
              "      <td>0.166667</td>\n",
              "      <td>0.0</td>\n",
              "      <td>0.0</td>\n",
              "      <td>0</td>\n",
              "      <td>0</td>\n",
              "    </tr>\n",
              "    <tr>\n",
              "      <th>3</th>\n",
              "      <td>0.000000</td>\n",
              "      <td>0.000000</td>\n",
              "      <td>-1.0</td>\n",
              "      <td>0.2</td>\n",
              "      <td>0.2</td>\n",
              "      <td>0.0</td>\n",
              "      <td>0.166667</td>\n",
              "      <td>0.0</td>\n",
              "      <td>0.2</td>\n",
              "      <td>0</td>\n",
              "      <td>0</td>\n",
              "    </tr>\n",
              "    <tr>\n",
              "      <th>4</th>\n",
              "      <td>0.166667</td>\n",
              "      <td>0.142857</td>\n",
              "      <td>0.0</td>\n",
              "      <td>-1.0</td>\n",
              "      <td>0.0</td>\n",
              "      <td>0.0</td>\n",
              "      <td>0.000000</td>\n",
              "      <td>0.2</td>\n",
              "      <td>0.2</td>\n",
              "      <td>0</td>\n",
              "      <td>0</td>\n",
              "    </tr>\n",
              "    <tr>\n",
              "      <th>5</th>\n",
              "      <td>0.166667</td>\n",
              "      <td>0.142857</td>\n",
              "      <td>0.2</td>\n",
              "      <td>0.0</td>\n",
              "      <td>-1.0</td>\n",
              "      <td>0.0</td>\n",
              "      <td>0.166667</td>\n",
              "      <td>0.2</td>\n",
              "      <td>0.2</td>\n",
              "      <td>0</td>\n",
              "      <td>0</td>\n",
              "    </tr>\n",
              "    <tr>\n",
              "      <th>6</th>\n",
              "      <td>0.166667</td>\n",
              "      <td>0.142857</td>\n",
              "      <td>0.0</td>\n",
              "      <td>0.0</td>\n",
              "      <td>0.2</td>\n",
              "      <td>-1.0</td>\n",
              "      <td>0.000000</td>\n",
              "      <td>0.2</td>\n",
              "      <td>0.0</td>\n",
              "      <td>0</td>\n",
              "      <td>0</td>\n",
              "    </tr>\n",
              "    <tr>\n",
              "      <th>7</th>\n",
              "      <td>0.166667</td>\n",
              "      <td>0.142857</td>\n",
              "      <td>0.2</td>\n",
              "      <td>0.0</td>\n",
              "      <td>0.0</td>\n",
              "      <td>0.0</td>\n",
              "      <td>-1.000000</td>\n",
              "      <td>0.2</td>\n",
              "      <td>0.0</td>\n",
              "      <td>0</td>\n",
              "      <td>0</td>\n",
              "    </tr>\n",
              "    <tr>\n",
              "      <th>8</th>\n",
              "      <td>0.166667</td>\n",
              "      <td>0.142857</td>\n",
              "      <td>0.2</td>\n",
              "      <td>0.0</td>\n",
              "      <td>0.2</td>\n",
              "      <td>0.5</td>\n",
              "      <td>0.000000</td>\n",
              "      <td>-1.0</td>\n",
              "      <td>0.2</td>\n",
              "      <td>0</td>\n",
              "      <td>0</td>\n",
              "    </tr>\n",
              "    <tr>\n",
              "      <th>9</th>\n",
              "      <td>0.000000</td>\n",
              "      <td>0.000000</td>\n",
              "      <td>0.0</td>\n",
              "      <td>0.2</td>\n",
              "      <td>0.2</td>\n",
              "      <td>0.0</td>\n",
              "      <td>0.166667</td>\n",
              "      <td>0.2</td>\n",
              "      <td>-1.0</td>\n",
              "      <td>0</td>\n",
              "      <td>0</td>\n",
              "    </tr>\n",
              "    <tr>\n",
              "      <th>10</th>\n",
              "      <td>0.166667</td>\n",
              "      <td>0.142857</td>\n",
              "      <td>0.2</td>\n",
              "      <td>0.2</td>\n",
              "      <td>0.2</td>\n",
              "      <td>0.0</td>\n",
              "      <td>0.166667</td>\n",
              "      <td>0.0</td>\n",
              "      <td>0.0</td>\n",
              "      <td>-1</td>\n",
              "      <td>0</td>\n",
              "    </tr>\n",
              "  </tbody>\n",
              "</table>\n",
              "</div>\n",
              "      <button class=\"colab-df-convert\" onclick=\"convertToInteractive('df-cb3391c0-b9dd-41b6-9b43-e39b99102753')\"\n",
              "              title=\"Convert this dataframe to an interactive table.\"\n",
              "              style=\"display:none;\">\n",
              "        \n",
              "  <svg xmlns=\"http://www.w3.org/2000/svg\" height=\"24px\"viewBox=\"0 0 24 24\"\n",
              "       width=\"24px\">\n",
              "    <path d=\"M0 0h24v24H0V0z\" fill=\"none\"/>\n",
              "    <path d=\"M18.56 5.44l.94 2.06.94-2.06 2.06-.94-2.06-.94-.94-2.06-.94 2.06-2.06.94zm-11 1L8.5 8.5l.94-2.06 2.06-.94-2.06-.94L8.5 2.5l-.94 2.06-2.06.94zm10 10l.94 2.06.94-2.06 2.06-.94-2.06-.94-.94-2.06-.94 2.06-2.06.94z\"/><path d=\"M17.41 7.96l-1.37-1.37c-.4-.4-.92-.59-1.43-.59-.52 0-1.04.2-1.43.59L10.3 9.45l-7.72 7.72c-.78.78-.78 2.05 0 2.83L4 21.41c.39.39.9.59 1.41.59.51 0 1.02-.2 1.41-.59l7.78-7.78 2.81-2.81c.8-.78.8-2.07 0-2.86zM5.41 20L4 18.59l7.72-7.72 1.47 1.35L5.41 20z\"/>\n",
              "  </svg>\n",
              "      </button>\n",
              "      \n",
              "  <style>\n",
              "    .colab-df-container {\n",
              "      display:flex;\n",
              "      flex-wrap:wrap;\n",
              "      gap: 12px;\n",
              "    }\n",
              "\n",
              "    .colab-df-convert {\n",
              "      background-color: #E8F0FE;\n",
              "      border: none;\n",
              "      border-radius: 50%;\n",
              "      cursor: pointer;\n",
              "      display: none;\n",
              "      fill: #1967D2;\n",
              "      height: 32px;\n",
              "      padding: 0 0 0 0;\n",
              "      width: 32px;\n",
              "    }\n",
              "\n",
              "    .colab-df-convert:hover {\n",
              "      background-color: #E2EBFA;\n",
              "      box-shadow: 0px 1px 2px rgba(60, 64, 67, 0.3), 0px 1px 3px 1px rgba(60, 64, 67, 0.15);\n",
              "      fill: #174EA6;\n",
              "    }\n",
              "\n",
              "    [theme=dark] .colab-df-convert {\n",
              "      background-color: #3B4455;\n",
              "      fill: #D2E3FC;\n",
              "    }\n",
              "\n",
              "    [theme=dark] .colab-df-convert:hover {\n",
              "      background-color: #434B5C;\n",
              "      box-shadow: 0px 1px 3px 1px rgba(0, 0, 0, 0.15);\n",
              "      filter: drop-shadow(0px 1px 2px rgba(0, 0, 0, 0.3));\n",
              "      fill: #FFFFFF;\n",
              "    }\n",
              "  </style>\n",
              "\n",
              "      <script>\n",
              "        const buttonEl =\n",
              "          document.querySelector('#df-cb3391c0-b9dd-41b6-9b43-e39b99102753 button.colab-df-convert');\n",
              "        buttonEl.style.display =\n",
              "          google.colab.kernel.accessAllowed ? 'block' : 'none';\n",
              "\n",
              "        async function convertToInteractive(key) {\n",
              "          const element = document.querySelector('#df-cb3391c0-b9dd-41b6-9b43-e39b99102753');\n",
              "          const dataTable =\n",
              "            await google.colab.kernel.invokeFunction('convertToInteractive',\n",
              "                                                     [key], {});\n",
              "          if (!dataTable) return;\n",
              "\n",
              "          const docLinkHtml = 'Like what you see? Visit the ' +\n",
              "            '<a target=\"_blank\" href=https://colab.research.google.com/notebooks/data_table.ipynb>data table notebook</a>'\n",
              "            + ' to learn more about interactive tables.';\n",
              "          element.innerHTML = '';\n",
              "          dataTable['output_type'] = 'display_data';\n",
              "          await google.colab.output.renderOutput(dataTable, element);\n",
              "          const docLink = document.createElement('div');\n",
              "          docLink.innerHTML = docLinkHtml;\n",
              "          element.appendChild(docLink);\n",
              "        }\n",
              "      </script>\n",
              "    </div>\n",
              "  </div>\n",
              "  "
            ]
          },
          "metadata": {},
          "execution_count": 223
        }
      ]
    },
    {
      "cell_type": "code",
      "source": [
        "Gauss(M,recherchePivotPartiel)\n",
        "mu = substitution(M)\n",
        "pd.DataFrame(M,index=[indices],columns=colonnes)"
      ],
      "metadata": {
        "colab": {
          "base_uri": "https://localhost:8080/",
          "height": 359
        },
        "id": "F4DPBO9ganUT",
        "outputId": "aabebd04-74c1-4eea-a066-d0a4cb57c4f5"
      },
      "execution_count": 224,
      "outputs": [
        {
          "output_type": "execute_result",
          "data": {
            "text/plain": [
              "      1         2    3    4         5         6         7         8         9  \\\n",
              "1   1.0 -0.142857 -0.2 -0.2 -0.000000 -0.500000 -0.166667 -0.000000 -0.200000   \n",
              "2   0.0  1.000000 -0.0 -0.2 -0.000000 -0.000000 -0.166667 -0.000000 -0.000000   \n",
              "3   0.0  0.000000  1.0 -0.2 -0.200000 -0.000000 -0.166667 -0.000000 -0.200000   \n",
              "4   0.0  0.000000  0.0  1.0 -0.007194 -0.089928 -0.065947 -0.215827 -0.258993   \n",
              "5   0.0  0.000000  0.0  0.0  1.000000 -0.098187 -0.281974 -0.235650 -0.324773   \n",
              "6   0.0  0.000000  0.0  0.0  0.000000  1.000000 -0.139785 -0.297453 -0.141935   \n",
              "7   0.0  0.000000  0.0  0.0  0.000000  0.000000  1.000000 -0.304094 -0.159259   \n",
              "8   0.0  0.000000  0.0  0.0  0.000000  0.000000  0.000000  1.000000 -0.791667   \n",
              "9   0.0  0.000000  0.0  0.0  0.000000  0.000000  0.000000  0.000000  1.000000   \n",
              "10  0.0  0.000000  0.0  0.0  0.000000  0.000000  0.000000  0.000000  0.000000   \n",
              "\n",
              "          10    v  \n",
              "1  -0.000000 -0.0  \n",
              "2  -0.000000 -0.0  \n",
              "3  -0.000000 -0.0  \n",
              "4  -0.000000 -0.0  \n",
              "5  -0.000000 -0.0  \n",
              "6  -0.000000 -0.0  \n",
              "7  -0.000000 -0.0  \n",
              "8  -0.000000 -0.0  \n",
              "9  -1.846154  0.0  \n",
              "10  1.000000 -0.0  "
            ],
            "text/html": [
              "\n",
              "  <div id=\"df-74944071-be16-497d-b498-56091f40129e\">\n",
              "    <div class=\"colab-df-container\">\n",
              "      <div>\n",
              "<style scoped>\n",
              "    .dataframe tbody tr th:only-of-type {\n",
              "        vertical-align: middle;\n",
              "    }\n",
              "\n",
              "    .dataframe tbody tr th {\n",
              "        vertical-align: top;\n",
              "    }\n",
              "\n",
              "    .dataframe thead th {\n",
              "        text-align: right;\n",
              "    }\n",
              "</style>\n",
              "<table border=\"1\" class=\"dataframe\">\n",
              "  <thead>\n",
              "    <tr style=\"text-align: right;\">\n",
              "      <th></th>\n",
              "      <th>1</th>\n",
              "      <th>2</th>\n",
              "      <th>3</th>\n",
              "      <th>4</th>\n",
              "      <th>5</th>\n",
              "      <th>6</th>\n",
              "      <th>7</th>\n",
              "      <th>8</th>\n",
              "      <th>9</th>\n",
              "      <th>10</th>\n",
              "      <th>v</th>\n",
              "    </tr>\n",
              "  </thead>\n",
              "  <tbody>\n",
              "    <tr>\n",
              "      <th>1</th>\n",
              "      <td>1.0</td>\n",
              "      <td>-0.142857</td>\n",
              "      <td>-0.2</td>\n",
              "      <td>-0.2</td>\n",
              "      <td>-0.000000</td>\n",
              "      <td>-0.500000</td>\n",
              "      <td>-0.166667</td>\n",
              "      <td>-0.000000</td>\n",
              "      <td>-0.200000</td>\n",
              "      <td>-0.000000</td>\n",
              "      <td>-0.0</td>\n",
              "    </tr>\n",
              "    <tr>\n",
              "      <th>2</th>\n",
              "      <td>0.0</td>\n",
              "      <td>1.000000</td>\n",
              "      <td>-0.0</td>\n",
              "      <td>-0.2</td>\n",
              "      <td>-0.000000</td>\n",
              "      <td>-0.000000</td>\n",
              "      <td>-0.166667</td>\n",
              "      <td>-0.000000</td>\n",
              "      <td>-0.000000</td>\n",
              "      <td>-0.000000</td>\n",
              "      <td>-0.0</td>\n",
              "    </tr>\n",
              "    <tr>\n",
              "      <th>3</th>\n",
              "      <td>0.0</td>\n",
              "      <td>0.000000</td>\n",
              "      <td>1.0</td>\n",
              "      <td>-0.2</td>\n",
              "      <td>-0.200000</td>\n",
              "      <td>-0.000000</td>\n",
              "      <td>-0.166667</td>\n",
              "      <td>-0.000000</td>\n",
              "      <td>-0.200000</td>\n",
              "      <td>-0.000000</td>\n",
              "      <td>-0.0</td>\n",
              "    </tr>\n",
              "    <tr>\n",
              "      <th>4</th>\n",
              "      <td>0.0</td>\n",
              "      <td>0.000000</td>\n",
              "      <td>0.0</td>\n",
              "      <td>1.0</td>\n",
              "      <td>-0.007194</td>\n",
              "      <td>-0.089928</td>\n",
              "      <td>-0.065947</td>\n",
              "      <td>-0.215827</td>\n",
              "      <td>-0.258993</td>\n",
              "      <td>-0.000000</td>\n",
              "      <td>-0.0</td>\n",
              "    </tr>\n",
              "    <tr>\n",
              "      <th>5</th>\n",
              "      <td>0.0</td>\n",
              "      <td>0.000000</td>\n",
              "      <td>0.0</td>\n",
              "      <td>0.0</td>\n",
              "      <td>1.000000</td>\n",
              "      <td>-0.098187</td>\n",
              "      <td>-0.281974</td>\n",
              "      <td>-0.235650</td>\n",
              "      <td>-0.324773</td>\n",
              "      <td>-0.000000</td>\n",
              "      <td>-0.0</td>\n",
              "    </tr>\n",
              "    <tr>\n",
              "      <th>6</th>\n",
              "      <td>0.0</td>\n",
              "      <td>0.000000</td>\n",
              "      <td>0.0</td>\n",
              "      <td>0.0</td>\n",
              "      <td>0.000000</td>\n",
              "      <td>1.000000</td>\n",
              "      <td>-0.139785</td>\n",
              "      <td>-0.297453</td>\n",
              "      <td>-0.141935</td>\n",
              "      <td>-0.000000</td>\n",
              "      <td>-0.0</td>\n",
              "    </tr>\n",
              "    <tr>\n",
              "      <th>7</th>\n",
              "      <td>0.0</td>\n",
              "      <td>0.000000</td>\n",
              "      <td>0.0</td>\n",
              "      <td>0.0</td>\n",
              "      <td>0.000000</td>\n",
              "      <td>0.000000</td>\n",
              "      <td>1.000000</td>\n",
              "      <td>-0.304094</td>\n",
              "      <td>-0.159259</td>\n",
              "      <td>-0.000000</td>\n",
              "      <td>-0.0</td>\n",
              "    </tr>\n",
              "    <tr>\n",
              "      <th>8</th>\n",
              "      <td>0.0</td>\n",
              "      <td>0.000000</td>\n",
              "      <td>0.0</td>\n",
              "      <td>0.0</td>\n",
              "      <td>0.000000</td>\n",
              "      <td>0.000000</td>\n",
              "      <td>0.000000</td>\n",
              "      <td>1.000000</td>\n",
              "      <td>-0.791667</td>\n",
              "      <td>-0.000000</td>\n",
              "      <td>-0.0</td>\n",
              "    </tr>\n",
              "    <tr>\n",
              "      <th>9</th>\n",
              "      <td>0.0</td>\n",
              "      <td>0.000000</td>\n",
              "      <td>0.0</td>\n",
              "      <td>0.0</td>\n",
              "      <td>0.000000</td>\n",
              "      <td>0.000000</td>\n",
              "      <td>0.000000</td>\n",
              "      <td>0.000000</td>\n",
              "      <td>1.000000</td>\n",
              "      <td>-1.846154</td>\n",
              "      <td>0.0</td>\n",
              "    </tr>\n",
              "    <tr>\n",
              "      <th>10</th>\n",
              "      <td>0.0</td>\n",
              "      <td>0.000000</td>\n",
              "      <td>0.0</td>\n",
              "      <td>0.0</td>\n",
              "      <td>0.000000</td>\n",
              "      <td>0.000000</td>\n",
              "      <td>0.000000</td>\n",
              "      <td>0.000000</td>\n",
              "      <td>0.000000</td>\n",
              "      <td>1.000000</td>\n",
              "      <td>-0.0</td>\n",
              "    </tr>\n",
              "  </tbody>\n",
              "</table>\n",
              "</div>\n",
              "      <button class=\"colab-df-convert\" onclick=\"convertToInteractive('df-74944071-be16-497d-b498-56091f40129e')\"\n",
              "              title=\"Convert this dataframe to an interactive table.\"\n",
              "              style=\"display:none;\">\n",
              "        \n",
              "  <svg xmlns=\"http://www.w3.org/2000/svg\" height=\"24px\"viewBox=\"0 0 24 24\"\n",
              "       width=\"24px\">\n",
              "    <path d=\"M0 0h24v24H0V0z\" fill=\"none\"/>\n",
              "    <path d=\"M18.56 5.44l.94 2.06.94-2.06 2.06-.94-2.06-.94-.94-2.06-.94 2.06-2.06.94zm-11 1L8.5 8.5l.94-2.06 2.06-.94-2.06-.94L8.5 2.5l-.94 2.06-2.06.94zm10 10l.94 2.06.94-2.06 2.06-.94-2.06-.94-.94-2.06-.94 2.06-2.06.94z\"/><path d=\"M17.41 7.96l-1.37-1.37c-.4-.4-.92-.59-1.43-.59-.52 0-1.04.2-1.43.59L10.3 9.45l-7.72 7.72c-.78.78-.78 2.05 0 2.83L4 21.41c.39.39.9.59 1.41.59.51 0 1.02-.2 1.41-.59l7.78-7.78 2.81-2.81c.8-.78.8-2.07 0-2.86zM5.41 20L4 18.59l7.72-7.72 1.47 1.35L5.41 20z\"/>\n",
              "  </svg>\n",
              "      </button>\n",
              "      \n",
              "  <style>\n",
              "    .colab-df-container {\n",
              "      display:flex;\n",
              "      flex-wrap:wrap;\n",
              "      gap: 12px;\n",
              "    }\n",
              "\n",
              "    .colab-df-convert {\n",
              "      background-color: #E8F0FE;\n",
              "      border: none;\n",
              "      border-radius: 50%;\n",
              "      cursor: pointer;\n",
              "      display: none;\n",
              "      fill: #1967D2;\n",
              "      height: 32px;\n",
              "      padding: 0 0 0 0;\n",
              "      width: 32px;\n",
              "    }\n",
              "\n",
              "    .colab-df-convert:hover {\n",
              "      background-color: #E2EBFA;\n",
              "      box-shadow: 0px 1px 2px rgba(60, 64, 67, 0.3), 0px 1px 3px 1px rgba(60, 64, 67, 0.15);\n",
              "      fill: #174EA6;\n",
              "    }\n",
              "\n",
              "    [theme=dark] .colab-df-convert {\n",
              "      background-color: #3B4455;\n",
              "      fill: #D2E3FC;\n",
              "    }\n",
              "\n",
              "    [theme=dark] .colab-df-convert:hover {\n",
              "      background-color: #434B5C;\n",
              "      box-shadow: 0px 1px 3px 1px rgba(0, 0, 0, 0.15);\n",
              "      filter: drop-shadow(0px 1px 2px rgba(0, 0, 0, 0.3));\n",
              "      fill: #FFFFFF;\n",
              "    }\n",
              "  </style>\n",
              "\n",
              "      <script>\n",
              "        const buttonEl =\n",
              "          document.querySelector('#df-74944071-be16-497d-b498-56091f40129e button.colab-df-convert');\n",
              "        buttonEl.style.display =\n",
              "          google.colab.kernel.accessAllowed ? 'block' : 'none';\n",
              "\n",
              "        async function convertToInteractive(key) {\n",
              "          const element = document.querySelector('#df-74944071-be16-497d-b498-56091f40129e');\n",
              "          const dataTable =\n",
              "            await google.colab.kernel.invokeFunction('convertToInteractive',\n",
              "                                                     [key], {});\n",
              "          if (!dataTable) return;\n",
              "\n",
              "          const docLinkHtml = 'Like what you see? Visit the ' +\n",
              "            '<a target=\"_blank\" href=https://colab.research.google.com/notebooks/data_table.ipynb>data table notebook</a>'\n",
              "            + ' to learn more about interactive tables.';\n",
              "          element.innerHTML = '';\n",
              "          dataTable['output_type'] = 'display_data';\n",
              "          await google.colab.output.renderOutput(dataTable, element);\n",
              "          const docLink = document.createElement('div');\n",
              "          docLink.innerHTML = docLinkHtml;\n",
              "          element.appendChild(docLink);\n",
              "        }\n",
              "      </script>\n",
              "    </div>\n",
              "  </div>\n",
              "  "
            ]
          },
          "metadata": {},
          "execution_count": 224
        }
      ]
    },
    {
      "cell_type": "code",
      "source": [
        "muGauss"
      ],
      "metadata": {
        "colab": {
          "base_uri": "https://localhost:8080/"
        },
        "id": "1BY5iIuHY8ED",
        "outputId": "06d0c892-30f5-4f36-9ed6-a1aa59c109eb"
      },
      "execution_count": 225,
      "outputs": [
        {
          "output_type": "execute_result",
          "data": {
            "text/plain": [
              "[0.0, 0.0, 0.0, 0.0, 0.0, 0.0, 0.0, 0.0, 0.0, -0.0]"
            ]
          },
          "metadata": {},
          "execution_count": 225
        }
      ]
    },
    {
      "cell_type": "code",
      "source": [
        "muPage"
      ],
      "metadata": {
        "colab": {
          "base_uri": "https://localhost:8080/"
        },
        "id": "5NDFWIKDZPEf",
        "outputId": "959a002e-6b05-4a24-a191-e536940a5191"
      },
      "execution_count": 210,
      "outputs": [
        {
          "output_type": "execute_result",
          "data": {
            "text/plain": [
              "[0.041826102199936384,\n",
              " 0.04998210166786003,\n",
              " 0.042468385697450865,\n",
              " 0.05149823760791687,\n",
              " 0.044835293465897826,\n",
              " 0.04622071640756203,\n",
              " 0.06487451084053349,\n",
              " 0.04837201076717145,\n",
              " 0.03805625777394593,\n",
              " 0.0402012589729563,\n",
              " 0.07377650735151642,\n",
              " 0.07473398649729007,\n",
              " 0.028821817985145427,\n",
              " 0.05069602825723266,\n",
              " 0.03858379378525317,\n",
              " 0.06289604603643074,\n",
              " 0.06592966522657442,\n",
              " 0.03512521175607573,\n",
              " 0.04614752485648319,\n",
              " 0.054954479644824854]"
            ]
          },
          "metadata": {},
          "execution_count": 210
        }
      ]
    },
    {
      "cell_type": "code",
      "source": [
        "Tailles = [50*i for i in range(1,16)]\n",
        "Tgauss, Tpage = [], []\n",
        "for t in Tailles :\n",
        "  grosweb = fabweb(t,(5,15))\n",
        "  M = dictosyst(grosweb)\n",
        "  start1 = time()\n",
        "  Gauss(M,recherchePivotPartiel)\n",
        "  muGauss = substitution(M)\n",
        "  rang = 0\n",
        "  for i in range(t) :\n",
        "    if abs(M[i][i]) > 1e-9 :\n",
        "      rang += 1\n",
        "  print(f\"n = {t}\")\n",
        "  stop1 = time()\n",
        "  start2 = time()\n",
        "  muPage = PageRank(grosweb)\n",
        "  stop2 = time()\n",
        "  Tgauss.append(stop1-start1)\n",
        "  Tpage.append(stop2-start2)\n",
        "  muGausstri = muGauss[:]\n",
        "  muGausstri.sort()\n",
        "  muPagetri = muPage[:]\n",
        "  muPagetri.sort()\n",
        "  print(\"  Top 5 Gauss : \",end=\"\")\n",
        "  for i in range(5) :\n",
        "    print(f\"{muGauss.index(muGausstri[i]):4}\",end=\"\")\n",
        "  print(\"\\n  Top 5 Page :  \",end=\"\")\n",
        "  for i in range(5) :\n",
        "    print(f\"{muPage.index(muPagetri[i]):4}\",end=\"\")\n",
        "  print(\"\\n\")\n",
        "plt.plot(Tailles,Tgauss,\"o--\",label=\"Gauss\")\n",
        "plt.plot(Tailles,Tpage,\"o--\",label=\"PageRank\")\n",
        "plt.legend()"
      ],
      "metadata": {
        "colab": {
          "base_uri": "https://localhost:8080/",
          "height": 1000
        },
        "id": "1TVk99fGH-jy",
        "outputId": "20a3f507-5302-4c44-c0cd-6b0222a32a3f"
      },
      "execution_count": 261,
      "outputs": [
        {
          "output_type": "stream",
          "name": "stdout",
          "text": [
            "n = 50\n",
            "  Top 5 Gauss :   28   0   8  21  48\n",
            "  Top 5 Page :    28   0   8  21  48\n",
            "\n",
            "n = 100\n",
            "  Top 5 Gauss :   25   9  33  39  70\n",
            "  Top 5 Page :    25  33   9  39  38\n",
            "\n",
            "n = 150\n",
            "  Top 5 Gauss :    0  76   2  45  73\n",
            "  Top 5 Page :     0  76   2  73  45\n",
            "\n",
            "n = 200\n",
            "  Top 5 Gauss :   60  92 157  10 151\n",
            "  Top 5 Page :    60  92  10 151 157\n",
            "\n",
            "n = 250\n",
            "  Top 5 Gauss :  197  70 103  81 232\n",
            "  Top 5 Page :   197  70 232 103 127\n",
            "\n",
            "n = 300\n",
            "  Top 5 Gauss :   85 114 231 261 288\n",
            "  Top 5 Page :    85 231 114 261 297\n",
            "\n",
            "n = 350\n",
            "  Top 5 Gauss :  142  59 214 140 220\n",
            "  Top 5 Page :   142  59 214 140 220\n",
            "\n",
            "n = 400\n",
            "  Top 5 Gauss :  188  68  59 329 283\n",
            "  Top 5 Page :   188  68 283  59 278\n",
            "\n",
            "n = 450\n",
            "  Top 5 Gauss :  239  47 227 257 409\n",
            "  Top 5 Page :   239  47 227 409 257\n",
            "\n",
            "n = 500\n",
            "  Top 5 Gauss :  124 462 427 166 280\n",
            "  Top 5 Page :   124 462 427 166  67\n",
            "\n",
            "n = 550\n",
            "  Top 5 Gauss :  129 164  49 309 262\n",
            "  Top 5 Page :   129 164 309  49 262\n",
            "\n",
            "n = 600\n",
            "  Top 5 Gauss :  533  33 360 536 138\n",
            "  Top 5 Page :   533  33 360 536 138\n",
            "\n",
            "n = 650\n",
            "  Top 5 Gauss :  188 631 522 367 537\n",
            "  Top 5 Page :   188 631 522 367 537\n",
            "\n",
            "n = 700\n",
            "  Top 5 Gauss :   39 347 336  89 157\n",
            "  Top 5 Page :    39 347 336 352  89\n",
            "\n",
            "n = 750\n",
            "  Top 5 Gauss :  126 178 565 438 595\n",
            "  Top 5 Page :   126 178 565 595 438\n",
            "\n"
          ]
        },
        {
          "output_type": "execute_result",
          "data": {
            "text/plain": [
              "<matplotlib.legend.Legend at 0x7ff0c3cde950>"
            ]
          },
          "metadata": {},
          "execution_count": 261
        },
        {
          "output_type": "display_data",
          "data": {
            "text/plain": [
              "<Figure size 1080x720 with 1 Axes>"
            ],
            "image/png": "[encoded data removed]"
          },
          "metadata": {}
        }
      ]
    },
    {
      "cell_type": "code",
      "source": [],
      "metadata": {
        "id": "BaMWdFuXJxmt"
      },
      "execution_count": null,
      "outputs": []
    }
  ]
}